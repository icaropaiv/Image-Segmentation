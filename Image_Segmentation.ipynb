{
  "cells": [
    {
      "cell_type": "markdown",
      "metadata": {
        "id": "UrsaH87q56Sx"
      },
      "source": [
        "### 0 BIBLIOTECAS E FUNÇÕES"
      ]
    },
    {
      "cell_type": "markdown",
      "metadata": {
        "id": "498aPfvP6YAH"
      },
      "source": [
        "#### 0.1 BIBLIOTECAS"
      ]
    },
    {
      "cell_type": "code",
      "source": [
        "pip install scikit-posthocs"
      ],
      "metadata": {
        "colab": {
          "base_uri": "https://localhost:8080/"
        },
        "id": "MfWnYALz5IpY",
        "outputId": "0f721399-6d71-415a-e97c-5086968a1298"
      },
      "execution_count": 1,
      "outputs": [
        {
          "output_type": "stream",
          "name": "stdout",
          "text": [
            "Collecting scikit-posthocs\n",
            "  Downloading scikit_posthocs-0.7.0-py3-none-any.whl (38 kB)\n",
            "Requirement already satisfied: numpy in /usr/local/lib/python3.10/dist-packages (from scikit-posthocs) (1.23.5)\n",
            "Requirement already satisfied: scipy in /usr/local/lib/python3.10/dist-packages (from scikit-posthocs) (1.10.1)\n",
            "Requirement already satisfied: statsmodels in /usr/local/lib/python3.10/dist-packages (from scikit-posthocs) (0.14.0)\n",
            "Requirement already satisfied: pandas>=0.20.0 in /usr/local/lib/python3.10/dist-packages (from scikit-posthocs) (1.5.3)\n",
            "Requirement already satisfied: seaborn in /usr/local/lib/python3.10/dist-packages (from scikit-posthocs) (0.12.2)\n",
            "Requirement already satisfied: matplotlib in /usr/local/lib/python3.10/dist-packages (from scikit-posthocs) (3.7.1)\n",
            "Requirement already satisfied: python-dateutil>=2.8.1 in /usr/local/lib/python3.10/dist-packages (from pandas>=0.20.0->scikit-posthocs) (2.8.2)\n",
            "Requirement already satisfied: pytz>=2020.1 in /usr/local/lib/python3.10/dist-packages (from pandas>=0.20.0->scikit-posthocs) (2023.3)\n",
            "Requirement already satisfied: contourpy>=1.0.1 in /usr/local/lib/python3.10/dist-packages (from matplotlib->scikit-posthocs) (1.1.0)\n",
            "Requirement already satisfied: cycler>=0.10 in /usr/local/lib/python3.10/dist-packages (from matplotlib->scikit-posthocs) (0.11.0)\n",
            "Requirement already satisfied: fonttools>=4.22.0 in /usr/local/lib/python3.10/dist-packages (from matplotlib->scikit-posthocs) (4.42.1)\n",
            "Requirement already satisfied: kiwisolver>=1.0.1 in /usr/local/lib/python3.10/dist-packages (from matplotlib->scikit-posthocs) (1.4.4)\n",
            "Requirement already satisfied: packaging>=20.0 in /usr/local/lib/python3.10/dist-packages (from matplotlib->scikit-posthocs) (23.1)\n",
            "Requirement already satisfied: pillow>=6.2.0 in /usr/local/lib/python3.10/dist-packages (from matplotlib->scikit-posthocs) (9.4.0)\n",
            "Requirement already satisfied: pyparsing>=2.3.1 in /usr/local/lib/python3.10/dist-packages (from matplotlib->scikit-posthocs) (3.1.1)\n",
            "Requirement already satisfied: patsy>=0.5.2 in /usr/local/lib/python3.10/dist-packages (from statsmodels->scikit-posthocs) (0.5.3)\n",
            "Requirement already satisfied: six in /usr/local/lib/python3.10/dist-packages (from patsy>=0.5.2->statsmodels->scikit-posthocs) (1.16.0)\n",
            "Installing collected packages: scikit-posthocs\n",
            "Successfully installed scikit-posthocs-0.7.0\n"
          ]
        }
      ]
    },
    {
      "cell_type": "code",
      "execution_count": 3,
      "metadata": {
        "id": "A5IJM5Cf37MR"
      },
      "outputs": [],
      "source": [
        "import pandas                as pd\n",
        "import numpy                 as np\n",
        "import seaborn               as sns\n",
        "import matplotlib.pyplot     as plt\n",
        "import scipy.stats           as stats\n",
        "import scikit_posthocs       as sp\n",
        "import scipy\n",
        "import math\n",
        "import random\n",
        "import time\n",
        "import warnings\n",
        "\n",
        "from sklearn                 import metrics, preprocessing\n",
        "from sklearn.preprocessing   import StandardScaler, LabelEncoder\n",
        "from sklearn.metrics         import confusion_matrix, classification_report, accuracy_score, explained_variance_score, make_scorer, precision_score, recall_score, f1_score, roc_curve\n",
        "from sklearn.model_selection import GridSearchCV, train_test_split, cross_val_score, cross_validate, KFold, RepeatedStratifiedKFold, StratifiedKFold, cross_val_predict\n",
        "from sklearn.naive_bayes     import GaussianNB\n",
        "from sklearn.neighbors       import KNeighborsClassifier, KernelDensity\n",
        "from sklearn.linear_model    import LogisticRegression\n",
        "from sklearn.multiclass      import OneVsRestClassifier\n",
        "from sklearn.decomposition   import PCA\n",
        "from sklearn.metrics.cluster import adjusted_rand_score\n",
        "\n"
      ]
    },
    {
      "cell_type": "markdown",
      "metadata": {
        "id": "OPhJA5WB6bSZ"
      },
      "source": [
        "\n",
        "#### 0.2 FUNÇÕES"
      ]
    },
    {
      "cell_type": "code",
      "execution_count": 5,
      "metadata": {
        "id": "GWbrckh46Gcw"
      },
      "outputs": [],
      "source": [
        "#Matriz U randomizada\n",
        "def random_matriz_u(matriz_x,num_clusters):\n",
        "    random_matriz_u = np.random.rand(matriz_x.shape[0],num_clusters)\n",
        "    random_matriz_u = random_matriz_u/random_matriz_u.sum(axis=1)[:,None]\n",
        "    return random_matriz_u\n",
        "\n",
        "#Calculo da matriz G\n",
        "def calc_matriz_g(matriz_x,matriz_u):\n",
        "    p = matriz_x.shape[0]\n",
        "    v = matriz_x.shape[1]\n",
        "    c = matriz_u.shape[1]\n",
        "\n",
        "    sumi = np.zeros((v,p,c), dtype = np.float64)\n",
        "    calc_r = np.zeros((v,p,c), dtype = np.float64)\n",
        "    matriz_g = np.zeros((c,v), dtype = np.float64)\n",
        "\n",
        "    ranking_yi_zi = np.argsort(matriz_x, axis=0)\n",
        "\n",
        "    for k in range(0,c):\n",
        "        for j in range(0,v):\n",
        "            for i in range(0,p):\n",
        "                sumi[j][i][k] = matriz_u[ranking_yi_zi[i][j]][k]\n",
        "    sumia = np.add.accumulate(sumi, axis=1)\n",
        "    for k in range(0,c):\n",
        "        for j in range(0,v):\n",
        "            for i in range(0,p):\n",
        "                calc_r[j][i][k] = - sumia[j][p-1][k] + 2*sumia[j][i][k]\n",
        "    for k in range(0,c):\n",
        "        for j in range(0,v):\n",
        "            f=0\n",
        "            while calc_r[j][f][k] < 0:\n",
        "                matriz_g[k][j] = matriz_x[ranking_yi_zi[f][j]][j]\n",
        "                f += 1\n",
        "    return matriz_g\n",
        "\n",
        "\n",
        "#Calculo da matriz V\n",
        "\n",
        "def calc_matriz_v(matriz_x, matriz_u, matriz_g, Tv=100):\n",
        "    p = matriz_x.shape[0]\n",
        "    v = matriz_x.shape[1]\n",
        "    c = matriz_g.shape[0]\n",
        "\n",
        "    matriz_v = np.zeros((c,v), dtype = np.float64)\n",
        "\n",
        "\n",
        "    for k in range(0,c):\n",
        "        for j in range(0,v):\n",
        "            somatorio_uxg1 = 0.0\n",
        "            somatorio_uxg3 = 0.0\n",
        "            for i in range(0,p):\n",
        "                somatorio_uxg1 = somatorio_uxg1 + (matriz_u[i][k]*math.fabs(matriz_x[i][j]-matriz_g[k][j]))\n",
        "            aux1 = math.exp(-(somatorio_uxg1)/Tv)\n",
        "\n",
        "            for w in range(0,v):\n",
        "                somatorio_uxg2 = 0.0\n",
        "                for i in range(0,p):\n",
        "                    somatorio_uxg2 = somatorio_uxg2 + (matriz_u[i][k]*math.fabs(matriz_x[i][w]-matriz_g[k][w]))\n",
        "\n",
        "                somatorio_uxg3 = somatorio_uxg3 + math.exp(-(somatorio_uxg2)/Tv)\n",
        "            matriz_v[k][j] = aux1/somatorio_uxg3\n",
        "\n",
        "    return matriz_v\n",
        "\n",
        "#Calculo da matriz U\n",
        "def calc_matriz_u(matriz_x, matriz_g, matriz_v, Tu=10):\n",
        "\n",
        "    p = matriz_x.shape[0]\n",
        "    v = matriz_x.shape[1]\n",
        "    c = matriz_g.shape[0]\n",
        "\n",
        "    matriz_u = np.zeros((p,c), dtype = np.float64)\n",
        "\n",
        "    for k in range(0,c):\n",
        "        for i in range(0,p):\n",
        "            somatorio_uxg1 = 0.0\n",
        "            somatorio_uxg3 = 0.0\n",
        "            for j in range(0,v):\n",
        "                somatorio_uxg1 = somatorio_uxg1 + (matriz_v[k][j]*math.fabs(matriz_x[i][j]-matriz_g[k][j]))\n",
        "            aux1 = math.exp(-(somatorio_uxg1)/Tu)\n",
        "\n",
        "            for w in range(0,c):\n",
        "                somatorio_uxg2 = 0.0\n",
        "                for j in range(0,v):\n",
        "                    somatorio_uxg2 = somatorio_uxg2 + (matriz_v[w][j]*math.fabs(matriz_x[i][j]-matriz_g[w][j]))\n",
        "\n",
        "                somatorio_uxg3 = somatorio_uxg3 + math.exp(-(somatorio_uxg2)/Tu)\n",
        "            matriz_u[i][k] = aux1/somatorio_uxg3\n",
        "\n",
        "    return matriz_u\n",
        "\n",
        "# Modified partition coefficient (Formula do artigo)\n",
        "def MPC(matriz_u):\n",
        "    n = matriz_u.shape[0]\n",
        "    #print('N é:', n)\n",
        "    c = matriz_u.shape[1]\n",
        "    #print('c é:', c)\n",
        "    somat=0\n",
        "    for i in range(n):\n",
        "        somak = 0\n",
        "        for k in range(c):\n",
        "            somak += (matriz_u[i][k] ** 2)\n",
        "        somat += somak\n",
        "\n",
        "    vpc = (1/n) * somat\n",
        "    mpc = 1 - (c / (c-1)) * (1 - vpc)\n",
        "    return mpc\n",
        "\n",
        "# Partition Entropy (Formula do artigo)\n",
        "def VPE(matriz_u):\n",
        "    n = matriz_u.shape[0]\n",
        "    #print('N é:', n)\n",
        "    c = matriz_u.shape[1]\n",
        "    #print('c é:', c)\n",
        "    somat = 0\n",
        "    for i in range(n):\n",
        "        somak = 0\n",
        "        for k in range(c):\n",
        "            aux = matriz_u[i][k]\n",
        "            aux2 = np.log(aux)\n",
        "            somak += aux * aux2\n",
        "        somat += somak\n",
        "\n",
        "    vpe = - (1/n) * somat\n",
        "\n",
        "    return vpe\n",
        "\n",
        "\n",
        "def JEFCMLS1(matriz_u, matriz_x, matriz_v, matriz_g, Tu, Tv):\n",
        "  p = matriz_x.shape[0]\n",
        "  v = matriz_x.shape[1]\n",
        "  c = matriz_g.shape[0]\n",
        "  # calculando o primeiro termo\n",
        "  somacp1 = 0\n",
        "  for k in range(c):\n",
        "    for i in range(p):\n",
        "      somaj = 0\n",
        "      for j in range(v):\n",
        "        somaj += matriz_v[k][j] * np.abs(matriz_x[i][j] - matriz_g[k][j])\n",
        "      somacp1 += matriz_u[i][k] * somaj\n",
        "\n",
        "  # calculando o segundo termo\n",
        "  somacp2 = 0\n",
        "  for k in range(c):\n",
        "    for i in range(p):\n",
        "      somacp2 = matriz_u[i][k] * np.log(matriz_u[i][k])\n",
        "  somacp2 = somacp2 * Tu\n",
        "\n",
        "  # calculando o terceiro termo\n",
        "  somacv3 = 0\n",
        "  for k in range(c):\n",
        "    for j in range(v):\n",
        "      somacv3 = matriz_v[k][j] * np.log(matriz_v[k][j])\n",
        "  somacv3 = somacp2 * Tv\n",
        "\n",
        "  return somacp1 + somacp2 + somacv3\n",
        "\n",
        "#para achar a função crisp\n",
        "def crisp_partition(Uik, C):\n",
        "    return np.argmax(Uik, axis=1)"
      ]
    },
    {
      "cell_type": "code",
      "source": [
        "#Calculo da previsão por voto marjoritorio\n",
        "\n",
        "def mv_prev(clf1,clf2,clf3,dataset1,dataset2,dataset3):\n",
        "\n",
        "    prob=(clf1.predict_proba(dataset1),clf2.predict_proba(dataset2),clf3.predict_proba(dataset3))\n",
        "    prob=np.array(prob)\n",
        "\n",
        "    exemplares=prob.shape[1]\n",
        "    classes=prob.shape[2]\n",
        "    clf=prob.shape[0]\n",
        "\n",
        "    votos = np.zeros((exemplares,clf,classes))\n",
        "    prev = np.zeros((exemplares))\n",
        "\n",
        "    for k in range(0,exemplares):\n",
        "        for j in range(0,classes):\n",
        "            for i in range(0,clf):\n",
        "                maxs = max(prob[i][k][0],prob[i][k][1],prob[i][k][2],prob[i][k][3],prob[i][k][4],prob[i][k][5],prob[i][k][6])\n",
        "                if maxs == prob[i][k][j]:\n",
        "                    votos[k][i][j]=1\n",
        "                else:\n",
        "                    votos[k][i][j]=0\n",
        "    votos=votos.sum(axis=1)\n",
        "\n",
        "    for k in range(0,exemplares):\n",
        "        for j in range(0,classes):\n",
        "            if votos[k][j] > 1:\n",
        "                prev[k]=j\n",
        "                break\n",
        "            else:\n",
        "                draw=[]\n",
        "                for x in (votos[k][0],votos[k][1],votos[k][2],votos[k][3],votos[k][4],votos[k][5],votos[k][6]):\n",
        "                    if x==1:\n",
        "                        draw.append(x)\n",
        "                        prev[k]=random.choice(draw)\n",
        "    return prev"
      ],
      "metadata": {
        "id": "1VojVab7Wt4M"
      },
      "execution_count": 6,
      "outputs": []
    },
    {
      "cell_type": "code",
      "source": [
        "#Calculo da previsão2\n",
        "\n",
        "def mv_prev2(predict_proba1, predict_proba2, predict_proba3):\n",
        "\n",
        "    prob=(predict_proba1, predict_proba2, predict_proba3)\n",
        "    prob=np.array(prob)\n",
        "\n",
        "    exemplares=prob.shape[1]\n",
        "    classes=prob.shape[2]\n",
        "    clf=prob.shape[0]\n",
        "\n",
        "    votos = np.zeros((exemplares,clf,classes))\n",
        "    prev = np.zeros((exemplares))\n",
        "\n",
        "    for k in range(0,exemplares):\n",
        "        for j in range(0,classes):\n",
        "            for i in range(0,clf):\n",
        "                maxs = max(prob[i][k][0],prob[i][k][1],prob[i][k][2],prob[i][k][3],prob[i][k][4],prob[i][k][5],prob[i][k][6])\n",
        "                if maxs == prob[i][k][j]:\n",
        "                    votos[k][i][j]=1\n",
        "                else:\n",
        "                    votos[k][i][j]=0\n",
        "    votos=votos.sum(axis=1)\n",
        "\n",
        "    for k in range(0,exemplares):\n",
        "        for j in range(0,classes):\n",
        "            if votos[k][j] > 1:\n",
        "                prev[k]=j\n",
        "                break\n",
        "            else:\n",
        "                draw=[]\n",
        "                for x in (votos[k][0],votos[k][1],votos[k][2],votos[k][3],votos[k][4],votos[k][5],votos[k][6]):\n",
        "                    if x==1:\n",
        "                        draw.append(x)\n",
        "                        prev[k]=random.choice(draw)\n",
        "    return prev"
      ],
      "metadata": {
        "id": "T2c5BNUl5ziT"
      },
      "execution_count": 7,
      "outputs": []
    },
    {
      "cell_type": "code",
      "source": [
        "# Metricas de avaliação\n",
        "\n",
        "def metric_clf(y_true,y_pred):\n",
        "\n",
        "    precision_mean = precision_score(y_true,y_pred,average=None).mean()\n",
        "    recall_mean = recall_score(y_true,y_pred,average=None).mean()\n",
        "    f1_mean = f1_score(y_true,y_pred,average=None).mean()\n",
        "\n",
        "    return precision_mean, recall_mean, f1_mean"
      ],
      "metadata": {
        "id": "pbPfWdQdp3v0"
      },
      "execution_count": 8,
      "outputs": []
    },
    {
      "cell_type": "code",
      "source": [
        "#Validação cruzada\n",
        "\n",
        "def cv_score_vm(clf1,clf2,clf3):\n",
        "\n",
        "    scores_vm = np.zeros(300)\n",
        "    precision_vm = np.zeros(300)\n",
        "    recall_vm = np.zeros(300)\n",
        "    f_measure_vm = np.zeros(300)\n",
        "\n",
        "    for i, (train_index, test_index) in enumerate(rskf.split(X_train,y_train)):\n",
        "\n",
        "        clf1_temp = clf1\n",
        "        clf2_temp = clf2\n",
        "        clf3_temp = clf3\n",
        "\n",
        "        y_train_temp, y_test_temp = y_train[train_index], y_train[test_index]\n",
        "\n",
        "        X_train_temp1, X_test_temp1 = X_train1[train_index], X_train1[test_index]\n",
        "        X_train_temp2, X_test_temp2 = X_train2[train_index], X_train2[test_index]\n",
        "        X_train_temp3, X_test_temp3 = X_train[train_index], X_train[test_index]\n",
        "\n",
        "        clf1_temp.fit(X_train_temp1,y_train_temp)\n",
        "        clf2_temp.fit(X_train_temp2,y_train_temp)\n",
        "        clf3_temp.fit(X_train_temp3,y_train_temp)\n",
        "\n",
        "        prob_temp1 = clf1_temp.predict_proba(X_test_temp1)\n",
        "        prob_temp2 = clf2_temp.predict_proba(X_test_temp2)\n",
        "        prob_temp3 = clf3_temp.predict_proba(X_test_temp3)\n",
        "\n",
        "        y_pred_vm = mv_prev2(prob_temp1,prob_temp2,prob_temp3)\n",
        "\n",
        "        scores_vm[i] = accuracy_score(y_test_temp,y_pred_vm)\n",
        "\n",
        "        precision_vm[i], recall_vm[i], f_measure_vm[i] = metric_clf(y_test_temp,y_pred_vm)\n",
        "\n",
        "    return scores_vm, precision_vm, recall_vm, f_measure_vm"
      ],
      "metadata": {
        "id": "rAMZSusJThlg"
      },
      "execution_count": 9,
      "outputs": []
    },
    {
      "cell_type": "code",
      "source": [
        "#Contagem de votos\n",
        "\n",
        "\n",
        "def y_mv_pred(voto1,voto2,voto3):\n",
        "\n",
        "    exemplares = voto1.shape[0]\n",
        "    votos = np.zeros((voto1.shape[0]))\n",
        "    vota=[voto1,voto2,voto3]\n",
        "    vota=np.array(vota)\n",
        "\n",
        "    for k in range(0,exemplares):\n",
        "        if voto1[k]==voto2[k]:\n",
        "            votos[k]=voto1[k]\n",
        "        elif voto2[k]==voto3[k]:\n",
        "            votos[k]=voto2[k]\n",
        "        elif voto3[k]==voto1[k]:\n",
        "            votos[k]=voto3[k]\n",
        "        else:\n",
        "            votos[k]=random.choice(vota.T[k])\n",
        "\n",
        "    return votos"
      ],
      "metadata": {
        "id": "glyiG6k8XD5I"
      },
      "execution_count": 10,
      "outputs": []
    },
    {
      "cell_type": "code",
      "source": [
        "#Conjuntos de classificadores\n",
        "\n",
        "def clf_kde(X_train,y_train):\n",
        "\n",
        "    estimators = []\n",
        "    for c in range(0,np.max(y_train)):\n",
        "        m = KernelDensity(kernel='gaussian').fit(X_train[y_train == c])\n",
        "        estimators.append(m)\n",
        "\n",
        "    return estimators"
      ],
      "metadata": {
        "id": "pbjrDjRNdh3q"
      },
      "execution_count": 11,
      "outputs": []
    },
    {
      "cell_type": "code",
      "source": [
        "#Predição usando janela de parzen\n",
        "\n",
        "def janela_parzen_pred(estimators,X_treino):\n",
        "\n",
        "    r = np.zeros((X_treino.shape[0],X_treino.shape[1]))\n",
        "\n",
        "    for j, estimator in enumerate(estimators):\n",
        "        for i in range(0,X_treino.shape[0]):\n",
        "            r[i][j] = np.exp(estimator.score_samples([X_treino[i]]))\n",
        "\n",
        "    y_pred = np.argmax(r, axis=1)\n",
        "\n",
        "    return y_pred"
      ],
      "metadata": {
        "id": "CDN1Q1pJVs9K"
      },
      "execution_count": 12,
      "outputs": []
    },
    {
      "cell_type": "code",
      "source": [
        "#Validação cruzada adaptado para janela de parzen\n",
        "\n",
        "def cv_score_vm2(clf1,clf2,clf3):\n",
        "\n",
        "    scores_vm = np.zeros(300)\n",
        "    precision_vm = np.zeros(300)\n",
        "    recall_vm = np.zeros(300)\n",
        "    f_measure_vm = np.zeros(300)\n",
        "\n",
        "    for i, (train_index, test_index) in enumerate(rskf.split(X_train,y_train)):\n",
        "\n",
        "        y_train_temp, y_test_temp = y_train[train_index], y_train[test_index]\n",
        "\n",
        "        X_train_temp1, X_test_temp1 = X_train1[train_index], X_train1[test_index]\n",
        "        X_train_temp2, X_test_temp2 = X_train2[train_index], X_train2[test_index]\n",
        "        X_train_temp3, X_test_temp3 = X_train[train_index], X_train[test_index]\n",
        "\n",
        "        y_pred = janela_parzen_pred(clf1, X_test_temp3)\n",
        "        y_pred1 = janela_parzen_pred(clf2, X_test_temp1)\n",
        "        y_pred2 = janela_parzen_pred(clf3,X_test_temp2)\n",
        "\n",
        "        y_pred_vm = y_mv_pred(y_pred,y_pred1,y_pred2)\n",
        "\n",
        "        scores_vm[i] = accuracy_score(y_test_temp,y_pred_vm)\n",
        "\n",
        "        precision_vm[i], recall_vm[i], f_measure_vm[i] = metric_clf(y_test_temp,y_pred_vm)\n",
        "\n",
        "    return scores_vm, precision_vm, recall_vm, f_measure_vm"
      ],
      "metadata": {
        "id": "fFm5gBmwVNf6"
      },
      "execution_count": 13,
      "outputs": []
    },
    {
      "cell_type": "markdown",
      "metadata": {
        "id": "Hf6d0V3Z6CUc"
      },
      "source": [
        "### 1 CARREGANDO OS DADOS"
      ]
    },
    {
      "cell_type": "code",
      "execution_count": 14,
      "metadata": {
        "id": "X9G6KQj84E3U"
      },
      "outputs": [],
      "source": [
        "#Dados de Treimanto\n",
        "df_raw_train = pd.read_csv('https://raw.githubusercontent.com/italooalves/PROJETO_AM_2021.2/main/DATASET/segmentation.test',skiprows = 2)\n",
        "\n",
        "#Dados de Teste\n",
        "df_raw_test = pd.read_csv('https://raw.githubusercontent.com/italooalves/PROJETO_AM_2021.2/main/DATASET/segmentation.data',skiprows = 3)"
      ]
    },
    {
      "cell_type": "code",
      "execution_count": 15,
      "metadata": {
        "id": "rdTNhddkEED7"
      },
      "outputs": [],
      "source": [
        "# Excluir colunas 1, 2 e 3\n",
        "\n",
        "df_raw_test = df_raw_test.drop(columns=['REGION-CENTROID-COL','REGION-CENTROID-ROW', 'REGION-PIXEL-COUNT'], axis=1)\n",
        "df_raw_train = df_raw_train.drop(columns=['REGION-CENTROID-COL','REGION-CENTROID-ROW', 'REGION-PIXEL-COUNT'], axis=1)"
      ]
    },
    {
      "cell_type": "code",
      "execution_count": 16,
      "metadata": {
        "id": "NqDwGwPF3vpd"
      },
      "outputs": [],
      "source": [
        "# Tira Class de indice\n",
        "\n",
        "df_raw_test['CLASS'] = df_raw_test.index\n",
        "df_raw_train['CLASS'] = df_raw_train.index"
      ]
    },
    {
      "cell_type": "code",
      "execution_count": 17,
      "metadata": {
        "id": "tqMKmWlmEDKh"
      },
      "outputs": [],
      "source": [
        "# Resetar indice\n",
        "\n",
        "df_raw_test.reset_index(drop=True, inplace=True)\n",
        "df_raw_train.reset_index(drop=True, inplace=True)"
      ]
    },
    {
      "cell_type": "code",
      "execution_count": 18,
      "metadata": {
        "id": "mlul_Oic01ra"
      },
      "outputs": [],
      "source": [
        "# Criar copias para manipulação\n",
        "\n",
        "df_test = df_raw_test.copy()\n",
        "df_train = df_raw_train.copy()"
      ]
    },
    {
      "cell_type": "code",
      "execution_count": 19,
      "metadata": {
        "id": "IGG_ZGhrB2ve"
      },
      "outputs": [],
      "source": [
        "# Criado dataframes especificos\n",
        "\n",
        "# Dataframe 1: apenas colunas de 4 a 9\n",
        "df_raw_test1 = df_raw_test.drop(columns=['INTENSITY-MEAN','RAWRED-MEAN','RAWBLUE-MEAN','RAWBLUE-MEAN','RAWGREEN-MEAN','EXRED-MEAN','EXBLUE-MEAN','EXGREEN-MEAN','VALUE-MEAN','SATURATION-MEAN','HUE-MEAN'], axis=1)\n",
        "df_raw_train1 = df_raw_train.drop(columns=['INTENSITY-MEAN','RAWRED-MEAN','RAWBLUE-MEAN','RAWBLUE-MEAN','RAWGREEN-MEAN','EXRED-MEAN','EXBLUE-MEAN','EXGREEN-MEAN','VALUE-MEAN','SATURATION-MEAN','HUE-MEAN'], axis=1)\n",
        "\n",
        "# Dataframe 2: apenas colunas de 10 a 16\n",
        "df_raw_test2 = df_raw_test.drop(columns=['SHORT-LINE-DENSITY-5','SHORT-LINE-DENSITY-2','VEDGE-MEAN','VEDGE-SD','HEDGE-MEAN','HEDGE-SD'], axis=1)\n",
        "df_raw_train2 = df_raw_train.drop(columns=['SHORT-LINE-DENSITY-5','SHORT-LINE-DENSITY-2','VEDGE-MEAN','VEDGE-SD','HEDGE-MEAN','HEDGE-SD'], axis=1)"
      ]
    },
    {
      "cell_type": "code",
      "execution_count": 20,
      "metadata": {
        "id": "ZWdkfpcaRFvi"
      },
      "outputs": [],
      "source": [
        "# Separa Classe do dataframe\n",
        "\n",
        "classes_test = df_test.pop('CLASS')\n",
        "classes_train = df_train.pop('CLASS')\n",
        "\n",
        "# Dataframe 1: apenas colunas de 4 a 9\n",
        "df_test1 = df_raw_test1.copy()\n",
        "classes_test1 = df_test1.pop('CLASS')\n",
        "df_train1 = df_raw_train1.copy()\n",
        "classes_train1 = df_train1.pop('CLASS')\n",
        "\n",
        "# Dataframe 2: apenas colunas de 10 a 16\n",
        "df_test2 = df_raw_test2.copy()\n",
        "classes_test2 = df_test2.pop('CLASS')\n",
        "df_train2 = df_raw_train2.copy()\n",
        "classes_train2 = df_train2.pop('CLASS')"
      ]
    },
    {
      "cell_type": "markdown",
      "metadata": {
        "id": "ypVtSZVWTYq9"
      },
      "source": [
        "### 2 ANÁLISE EXPLORATÓRIA DOS DADOS\n"
      ]
    },
    {
      "cell_type": "markdown",
      "metadata": {
        "id": "8uoIXfxwTmDI"
      },
      "source": [
        "#### 2.1 DIMENSÕES DOS DADOS"
      ]
    },
    {
      "cell_type": "code",
      "execution_count": null,
      "metadata": {
        "colab": {
          "base_uri": "https://localhost:8080/"
        },
        "id": "VjfUmHmX76Sz",
        "outputId": "a6f254b0-ede5-4960-e249-b36346a1b5b7"
      },
      "outputs": [
        {
          "output_type": "stream",
          "name": "stdout",
          "text": [
            "Dimensão do dataset de teste\n",
            "Número de linhas: 210\n",
            "Número de colunas: 16\n"
          ]
        }
      ],
      "source": [
        "print('Dimensão do dataset de teste')\n",
        "print( 'Número de linhas: {}'.format( df_test.shape[0] ) )\n",
        "print( 'Número de colunas: {}'.format( df_test.shape[1] ) )"
      ]
    },
    {
      "cell_type": "code",
      "execution_count": null,
      "metadata": {
        "colab": {
          "base_uri": "https://localhost:8080/"
        },
        "id": "eyJIEk66h2en",
        "outputId": "4949cf62-ccf5-4b2b-aaed-6fbade02156c"
      },
      "outputs": [
        {
          "output_type": "stream",
          "name": "stdout",
          "text": [
            "Dimensão do dataset de treino\n",
            "Número de linhas: 2100\n",
            "Número de colunas: 16\n"
          ]
        }
      ],
      "source": [
        "print('Dimensão do dataset de treino')\n",
        "print( 'Número de linhas: {}'.format( df_train.shape[0] ) )\n",
        "print( 'Número de colunas: {}'.format( df_train.shape[1] ) )"
      ]
    },
    {
      "cell_type": "markdown",
      "metadata": {
        "id": "pBmvpcCdTWHE"
      },
      "source": [
        "#### 2.2 TIPO DOS DADOS"
      ]
    },
    {
      "cell_type": "code",
      "execution_count": null,
      "metadata": {
        "colab": {
          "base_uri": "https://localhost:8080/"
        },
        "id": "Er_8WgTUUECa",
        "outputId": "f6a4753f-8b82-4ba9-cd04-22a778de3fde"
      },
      "outputs": [
        {
          "output_type": "execute_result",
          "data": {
            "text/plain": [
              "SHORT-LINE-DENSITY-5    float64\n",
              "SHORT-LINE-DENSITY-2    float64\n",
              "VEDGE-MEAN              float64\n",
              "VEDGE-SD                float64\n",
              "HEDGE-MEAN              float64\n",
              "HEDGE-SD                float64\n",
              "INTENSITY-MEAN          float64\n",
              "RAWRED-MEAN             float64\n",
              "RAWBLUE-MEAN            float64\n",
              "RAWGREEN-MEAN           float64\n",
              "EXRED-MEAN              float64\n",
              "EXBLUE-MEAN             float64\n",
              "EXGREEN-MEAN            float64\n",
              "VALUE-MEAN              float64\n",
              "SATURATION-MEAN         float64\n",
              "HUE-MEAN                float64\n",
              "dtype: object"
            ]
          },
          "metadata": {},
          "execution_count": 21
        }
      ],
      "source": [
        "df_test.dtypes"
      ]
    },
    {
      "cell_type": "code",
      "execution_count": null,
      "metadata": {
        "colab": {
          "base_uri": "https://localhost:8080/"
        },
        "id": "S2RSwhOniY0_",
        "outputId": "2eca29c4-4b53-469c-b25c-0d40a02c724d"
      },
      "outputs": [
        {
          "output_type": "execute_result",
          "data": {
            "text/plain": [
              "SHORT-LINE-DENSITY-5    float64\n",
              "SHORT-LINE-DENSITY-2    float64\n",
              "VEDGE-MEAN              float64\n",
              "VEDGE-SD                float64\n",
              "HEDGE-MEAN              float64\n",
              "HEDGE-SD                float64\n",
              "INTENSITY-MEAN          float64\n",
              "RAWRED-MEAN             float64\n",
              "RAWBLUE-MEAN            float64\n",
              "RAWGREEN-MEAN           float64\n",
              "EXRED-MEAN              float64\n",
              "EXBLUE-MEAN             float64\n",
              "EXGREEN-MEAN            float64\n",
              "VALUE-MEAN              float64\n",
              "SATURATION-MEAN         float64\n",
              "HUE-MEAN                float64\n",
              "dtype: object"
            ]
          },
          "metadata": {},
          "execution_count": 22
        }
      ],
      "source": [
        "df_train.dtypes"
      ]
    },
    {
      "cell_type": "markdown",
      "metadata": {
        "id": "nIHqidc9ULGO"
      },
      "source": [
        "#### 2.3 CHECANDO DADOS FALTANTES - NA"
      ]
    },
    {
      "cell_type": "code",
      "execution_count": null,
      "metadata": {
        "colab": {
          "base_uri": "https://localhost:8080/"
        },
        "id": "foUXnvfoUGlP",
        "outputId": "3a82870a-e284-45f2-b9b3-8b2291042416"
      },
      "outputs": [
        {
          "output_type": "execute_result",
          "data": {
            "text/plain": [
              "SHORT-LINE-DENSITY-5    0\n",
              "SHORT-LINE-DENSITY-2    0\n",
              "VEDGE-MEAN              0\n",
              "VEDGE-SD                0\n",
              "HEDGE-MEAN              0\n",
              "HEDGE-SD                0\n",
              "INTENSITY-MEAN          0\n",
              "RAWRED-MEAN             0\n",
              "RAWBLUE-MEAN            0\n",
              "RAWGREEN-MEAN           0\n",
              "EXRED-MEAN              0\n",
              "EXBLUE-MEAN             0\n",
              "EXGREEN-MEAN            0\n",
              "VALUE-MEAN              0\n",
              "SATURATION-MEAN         0\n",
              "HUE-MEAN                0\n",
              "dtype: int64"
            ]
          },
          "metadata": {},
          "execution_count": 23
        }
      ],
      "source": [
        "df_test.isna().sum()"
      ]
    },
    {
      "cell_type": "code",
      "execution_count": null,
      "metadata": {
        "colab": {
          "base_uri": "https://localhost:8080/"
        },
        "id": "Vkr6RFQligFS",
        "outputId": "28d835e3-4e12-4f02-aabc-1919415a933b"
      },
      "outputs": [
        {
          "output_type": "execute_result",
          "data": {
            "text/plain": [
              "SHORT-LINE-DENSITY-5    0\n",
              "SHORT-LINE-DENSITY-2    0\n",
              "VEDGE-MEAN              0\n",
              "VEDGE-SD                0\n",
              "HEDGE-MEAN              0\n",
              "HEDGE-SD                0\n",
              "INTENSITY-MEAN          0\n",
              "RAWRED-MEAN             0\n",
              "RAWBLUE-MEAN            0\n",
              "RAWGREEN-MEAN           0\n",
              "EXRED-MEAN              0\n",
              "EXBLUE-MEAN             0\n",
              "EXGREEN-MEAN            0\n",
              "VALUE-MEAN              0\n",
              "SATURATION-MEAN         0\n",
              "HUE-MEAN                0\n",
              "dtype: int64"
            ]
          },
          "metadata": {},
          "execution_count": 24
        }
      ],
      "source": [
        "df_train.isna().sum()"
      ]
    },
    {
      "cell_type": "markdown",
      "metadata": {
        "id": "RlVgBNY4Ubqs"
      },
      "source": [
        "Não temos dados faltando no dataset."
      ]
    },
    {
      "cell_type": "markdown",
      "metadata": {
        "id": "aYcBeMdvUeow"
      },
      "source": [
        "#### 2.4 CONTAGEM DAS CLASSES"
      ]
    },
    {
      "cell_type": "code",
      "execution_count": null,
      "metadata": {
        "colab": {
          "base_uri": "https://localhost:8080/"
        },
        "id": "b4mDA--lUZOG",
        "outputId": "f8d7af13-f3ad-490e-89a4-3627b8183c09"
      },
      "outputs": [
        {
          "output_type": "stream",
          "name": "stdout",
          "text": [
            "<class 'pandas.core.frame.DataFrame'>\n",
            "RangeIndex: 210 entries, 0 to 209\n",
            "Data columns (total 16 columns):\n",
            " #   Column                Non-Null Count  Dtype  \n",
            "---  ------                --------------  -----  \n",
            " 0   SHORT-LINE-DENSITY-5  210 non-null    float64\n",
            " 1   SHORT-LINE-DENSITY-2  210 non-null    float64\n",
            " 2   VEDGE-MEAN            210 non-null    float64\n",
            " 3   VEDGE-SD              210 non-null    float64\n",
            " 4   HEDGE-MEAN            210 non-null    float64\n",
            " 5   HEDGE-SD              210 non-null    float64\n",
            " 6   INTENSITY-MEAN        210 non-null    float64\n",
            " 7   RAWRED-MEAN           210 non-null    float64\n",
            " 8   RAWBLUE-MEAN          210 non-null    float64\n",
            " 9   RAWGREEN-MEAN         210 non-null    float64\n",
            " 10  EXRED-MEAN            210 non-null    float64\n",
            " 11  EXBLUE-MEAN           210 non-null    float64\n",
            " 12  EXGREEN-MEAN          210 non-null    float64\n",
            " 13  VALUE-MEAN            210 non-null    float64\n",
            " 14  SATURATION-MEAN       210 non-null    float64\n",
            " 15  HUE-MEAN              210 non-null    float64\n",
            "dtypes: float64(16)\n",
            "memory usage: 26.4 KB\n"
          ]
        }
      ],
      "source": [
        "df_test.info()"
      ]
    },
    {
      "cell_type": "code",
      "execution_count": null,
      "metadata": {
        "colab": {
          "base_uri": "https://localhost:8080/"
        },
        "id": "u_YfybiHitu3",
        "outputId": "0176bfcf-7ed2-44ca-fd42-d2f60d94f8cc"
      },
      "outputs": [
        {
          "output_type": "stream",
          "name": "stdout",
          "text": [
            "<class 'pandas.core.frame.DataFrame'>\n",
            "RangeIndex: 2100 entries, 0 to 2099\n",
            "Data columns (total 16 columns):\n",
            " #   Column                Non-Null Count  Dtype  \n",
            "---  ------                --------------  -----  \n",
            " 0   SHORT-LINE-DENSITY-5  2100 non-null   float64\n",
            " 1   SHORT-LINE-DENSITY-2  2100 non-null   float64\n",
            " 2   VEDGE-MEAN            2100 non-null   float64\n",
            " 3   VEDGE-SD              2100 non-null   float64\n",
            " 4   HEDGE-MEAN            2100 non-null   float64\n",
            " 5   HEDGE-SD              2100 non-null   float64\n",
            " 6   INTENSITY-MEAN        2100 non-null   float64\n",
            " 7   RAWRED-MEAN           2100 non-null   float64\n",
            " 8   RAWBLUE-MEAN          2100 non-null   float64\n",
            " 9   RAWGREEN-MEAN         2100 non-null   float64\n",
            " 10  EXRED-MEAN            2100 non-null   float64\n",
            " 11  EXBLUE-MEAN           2100 non-null   float64\n",
            " 12  EXGREEN-MEAN          2100 non-null   float64\n",
            " 13  VALUE-MEAN            2100 non-null   float64\n",
            " 14  SATURATION-MEAN       2100 non-null   float64\n",
            " 15  HUE-MEAN              2100 non-null   float64\n",
            "dtypes: float64(16)\n",
            "memory usage: 262.6 KB\n"
          ]
        }
      ],
      "source": [
        "df_train.info()"
      ]
    },
    {
      "cell_type": "markdown",
      "metadata": {
        "id": "6eTX1ZmhWZB1"
      },
      "source": [
        "#### 2.5 ANÁLISE ESTATÍSTICAS"
      ]
    },
    {
      "cell_type": "code",
      "execution_count": null,
      "metadata": {
        "colab": {
          "base_uri": "https://localhost:8080/",
          "height": 551
        },
        "id": "xO6ZzF31Uo_E",
        "outputId": "2363117e-c18c-4764-f779-cd8100c2a302"
      },
      "outputs": [
        {
          "output_type": "execute_result",
          "data": {
            "text/html": [
              "\n",
              "  <div id=\"df-6a195490-8e31-4e9b-9ac8-45652b67defc\">\n",
              "    <div class=\"colab-df-container\">\n",
              "      <div>\n",
              "<style scoped>\n",
              "    .dataframe tbody tr th:only-of-type {\n",
              "        vertical-align: middle;\n",
              "    }\n",
              "\n",
              "    .dataframe tbody tr th {\n",
              "        vertical-align: top;\n",
              "    }\n",
              "\n",
              "    .dataframe thead th {\n",
              "        text-align: right;\n",
              "    }\n",
              "</style>\n",
              "<table border=\"1\" class=\"dataframe\">\n",
              "  <thead>\n",
              "    <tr style=\"text-align: right;\">\n",
              "      <th></th>\n",
              "      <th>attributes</th>\n",
              "      <th>min</th>\n",
              "      <th>max</th>\n",
              "      <th>range</th>\n",
              "      <th>mean</th>\n",
              "      <th>median</th>\n",
              "      <th>std</th>\n",
              "      <th>skew</th>\n",
              "      <th>kurtosis</th>\n",
              "    </tr>\n",
              "  </thead>\n",
              "  <tbody>\n",
              "    <tr>\n",
              "      <th>0</th>\n",
              "      <td>SHORT-LINE-DENSITY-5</td>\n",
              "      <td>0.000000</td>\n",
              "      <td>0.111111</td>\n",
              "      <td>0.111111</td>\n",
              "      <td>0.008466</td>\n",
              "      <td>0.000000</td>\n",
              "      <td>0.029478</td>\n",
              "      <td>3.217945</td>\n",
              "      <td>8.435419</td>\n",
              "    </tr>\n",
              "    <tr>\n",
              "      <th>1</th>\n",
              "      <td>SHORT-LINE-DENSITY-2</td>\n",
              "      <td>0.000000</td>\n",
              "      <td>0.222222</td>\n",
              "      <td>0.222222</td>\n",
              "      <td>0.006349</td>\n",
              "      <td>0.000000</td>\n",
              "      <td>0.030005</td>\n",
              "      <td>5.196214</td>\n",
              "      <td>28.891133</td>\n",
              "    </tr>\n",
              "    <tr>\n",
              "      <th>2</th>\n",
              "      <td>VEDGE-MEAN</td>\n",
              "      <td>0.000000</td>\n",
              "      <td>25.500000</td>\n",
              "      <td>25.500000</td>\n",
              "      <td>1.925132</td>\n",
              "      <td>1.222222</td>\n",
              "      <td>3.150683</td>\n",
              "      <td>5.533273</td>\n",
              "      <td>34.724323</td>\n",
              "    </tr>\n",
              "    <tr>\n",
              "      <th>3</th>\n",
              "      <td>VEDGE-SD</td>\n",
              "      <td>0.000000</td>\n",
              "      <td>572.996400</td>\n",
              "      <td>572.996400</td>\n",
              "      <td>5.719529</td>\n",
              "      <td>0.828695</td>\n",
              "      <td>43.392257</td>\n",
              "      <td>11.768085</td>\n",
              "      <td>145.877623</td>\n",
              "    </tr>\n",
              "    <tr>\n",
              "      <th>4</th>\n",
              "      <td>HEDGE-MEAN</td>\n",
              "      <td>0.000000</td>\n",
              "      <td>44.722225</td>\n",
              "      <td>44.722225</td>\n",
              "      <td>2.604233</td>\n",
              "      <td>1.388889</td>\n",
              "      <td>4.786830</td>\n",
              "      <td>5.505544</td>\n",
              "      <td>36.855015</td>\n",
              "    </tr>\n",
              "    <tr>\n",
              "      <th>5</th>\n",
              "      <td>HEDGE-SD</td>\n",
              "      <td>0.000000</td>\n",
              "      <td>1386.329200</td>\n",
              "      <td>1386.329200</td>\n",
              "      <td>11.638377</td>\n",
              "      <td>0.913176</td>\n",
              "      <td>97.157865</td>\n",
              "      <td>13.639298</td>\n",
              "      <td>192.524082</td>\n",
              "    </tr>\n",
              "    <tr>\n",
              "      <th>6</th>\n",
              "      <td>INTENSITY-MEAN</td>\n",
              "      <td>0.000000</td>\n",
              "      <td>143.444440</td>\n",
              "      <td>143.444440</td>\n",
              "      <td>37.091005</td>\n",
              "      <td>21.314816</td>\n",
              "      <td>38.584970</td>\n",
              "      <td>1.276709</td>\n",
              "      <td>0.603842</td>\n",
              "    </tr>\n",
              "    <tr>\n",
              "      <th>7</th>\n",
              "      <td>RAWRED-MEAN</td>\n",
              "      <td>0.000000</td>\n",
              "      <td>136.888890</td>\n",
              "      <td>136.888890</td>\n",
              "      <td>32.967725</td>\n",
              "      <td>18.611112</td>\n",
              "      <td>35.455842</td>\n",
              "      <td>1.336459</td>\n",
              "      <td>0.862520</td>\n",
              "    </tr>\n",
              "    <tr>\n",
              "      <th>8</th>\n",
              "      <td>RAWBLUE-MEAN</td>\n",
              "      <td>0.000000</td>\n",
              "      <td>150.888890</td>\n",
              "      <td>150.888890</td>\n",
              "      <td>44.011112</td>\n",
              "      <td>26.833334</td>\n",
              "      <td>43.700026</td>\n",
              "      <td>1.128665</td>\n",
              "      <td>0.145366</td>\n",
              "    </tr>\n",
              "    <tr>\n",
              "      <th>9</th>\n",
              "      <td>RAWGREEN-MEAN</td>\n",
              "      <td>0.000000</td>\n",
              "      <td>142.555560</td>\n",
              "      <td>142.555560</td>\n",
              "      <td>34.294180</td>\n",
              "      <td>20.000000</td>\n",
              "      <td>36.968666</td>\n",
              "      <td>1.380204</td>\n",
              "      <td>0.949714</td>\n",
              "    </tr>\n",
              "    <tr>\n",
              "      <th>10</th>\n",
              "      <td>EXRED-MEAN</td>\n",
              "      <td>-48.222220</td>\n",
              "      <td>5.777778</td>\n",
              "      <td>53.999998</td>\n",
              "      <td>-12.369841</td>\n",
              "      <td>-10.333333</td>\n",
              "      <td>11.532043</td>\n",
              "      <td>-0.904905</td>\n",
              "      <td>0.570238</td>\n",
              "    </tr>\n",
              "    <tr>\n",
              "      <th>11</th>\n",
              "      <td>EXBLUE-MEAN</td>\n",
              "      <td>-9.666667</td>\n",
              "      <td>78.777780</td>\n",
              "      <td>88.444447</td>\n",
              "      <td>20.760317</td>\n",
              "      <td>19.555556</td>\n",
              "      <td>18.717118</td>\n",
              "      <td>0.423473</td>\n",
              "      <td>-0.531395</td>\n",
              "    </tr>\n",
              "    <tr>\n",
              "      <th>12</th>\n",
              "      <td>EXGREEN-MEAN</td>\n",
              "      <td>-30.555555</td>\n",
              "      <td>21.888890</td>\n",
              "      <td>52.444445</td>\n",
              "      <td>-8.390476</td>\n",
              "      <td>-9.888889</td>\n",
              "      <td>10.977515</td>\n",
              "      <td>0.781156</td>\n",
              "      <td>0.132444</td>\n",
              "    </tr>\n",
              "    <tr>\n",
              "      <th>13</th>\n",
              "      <td>VALUE-MEAN</td>\n",
              "      <td>0.000000</td>\n",
              "      <td>150.888890</td>\n",
              "      <td>150.888890</td>\n",
              "      <td>44.888360</td>\n",
              "      <td>28.388890</td>\n",
              "      <td>43.132119</td>\n",
              "      <td>1.138813</td>\n",
              "      <td>0.194960</td>\n",
              "    </tr>\n",
              "    <tr>\n",
              "      <th>14</th>\n",
              "      <td>SATURATION-MEAN</td>\n",
              "      <td>0.000000</td>\n",
              "      <td>1.000000</td>\n",
              "      <td>1.000000</td>\n",
              "      <td>0.423230</td>\n",
              "      <td>0.365455</td>\n",
              "      <td>0.226791</td>\n",
              "      <td>0.934306</td>\n",
              "      <td>0.495570</td>\n",
              "    </tr>\n",
              "    <tr>\n",
              "      <th>15</th>\n",
              "      <td>HUE-MEAN</td>\n",
              "      <td>-2.530950</td>\n",
              "      <td>2.864931</td>\n",
              "      <td>5.395881</td>\n",
              "      <td>-1.340397</td>\n",
              "      <td>-2.044163</td>\n",
              "      <td>1.555688</td>\n",
              "      <td>1.760975</td>\n",
              "      <td>1.503251</td>\n",
              "    </tr>\n",
              "  </tbody>\n",
              "</table>\n",
              "</div>\n",
              "      <button class=\"colab-df-convert\" onclick=\"convertToInteractive('df-6a195490-8e31-4e9b-9ac8-45652b67defc')\"\n",
              "              title=\"Convert this dataframe to an interactive table.\"\n",
              "              style=\"display:none;\">\n",
              "        \n",
              "  <svg xmlns=\"http://www.w3.org/2000/svg\" height=\"24px\"viewBox=\"0 0 24 24\"\n",
              "       width=\"24px\">\n",
              "    <path d=\"M0 0h24v24H0V0z\" fill=\"none\"/>\n",
              "    <path d=\"M18.56 5.44l.94 2.06.94-2.06 2.06-.94-2.06-.94-.94-2.06-.94 2.06-2.06.94zm-11 1L8.5 8.5l.94-2.06 2.06-.94-2.06-.94L8.5 2.5l-.94 2.06-2.06.94zm10 10l.94 2.06.94-2.06 2.06-.94-2.06-.94-.94-2.06-.94 2.06-2.06.94z\"/><path d=\"M17.41 7.96l-1.37-1.37c-.4-.4-.92-.59-1.43-.59-.52 0-1.04.2-1.43.59L10.3 9.45l-7.72 7.72c-.78.78-.78 2.05 0 2.83L4 21.41c.39.39.9.59 1.41.59.51 0 1.02-.2 1.41-.59l7.78-7.78 2.81-2.81c.8-.78.8-2.07 0-2.86zM5.41 20L4 18.59l7.72-7.72 1.47 1.35L5.41 20z\"/>\n",
              "  </svg>\n",
              "      </button>\n",
              "      \n",
              "  <style>\n",
              "    .colab-df-container {\n",
              "      display:flex;\n",
              "      flex-wrap:wrap;\n",
              "      gap: 12px;\n",
              "    }\n",
              "\n",
              "    .colab-df-convert {\n",
              "      background-color: #E8F0FE;\n",
              "      border: none;\n",
              "      border-radius: 50%;\n",
              "      cursor: pointer;\n",
              "      display: none;\n",
              "      fill: #1967D2;\n",
              "      height: 32px;\n",
              "      padding: 0 0 0 0;\n",
              "      width: 32px;\n",
              "    }\n",
              "\n",
              "    .colab-df-convert:hover {\n",
              "      background-color: #E2EBFA;\n",
              "      box-shadow: 0px 1px 2px rgba(60, 64, 67, 0.3), 0px 1px 3px 1px rgba(60, 64, 67, 0.15);\n",
              "      fill: #174EA6;\n",
              "    }\n",
              "\n",
              "    [theme=dark] .colab-df-convert {\n",
              "      background-color: #3B4455;\n",
              "      fill: #D2E3FC;\n",
              "    }\n",
              "\n",
              "    [theme=dark] .colab-df-convert:hover {\n",
              "      background-color: #434B5C;\n",
              "      box-shadow: 0px 1px 3px 1px rgba(0, 0, 0, 0.15);\n",
              "      filter: drop-shadow(0px 1px 2px rgba(0, 0, 0, 0.3));\n",
              "      fill: #FFFFFF;\n",
              "    }\n",
              "  </style>\n",
              "\n",
              "      <script>\n",
              "        const buttonEl =\n",
              "          document.querySelector('#df-6a195490-8e31-4e9b-9ac8-45652b67defc button.colab-df-convert');\n",
              "        buttonEl.style.display =\n",
              "          google.colab.kernel.accessAllowed ? 'block' : 'none';\n",
              "\n",
              "        async function convertToInteractive(key) {\n",
              "          const element = document.querySelector('#df-6a195490-8e31-4e9b-9ac8-45652b67defc');\n",
              "          const dataTable =\n",
              "            await google.colab.kernel.invokeFunction('convertToInteractive',\n",
              "                                                     [key], {});\n",
              "          if (!dataTable) return;\n",
              "\n",
              "          const docLinkHtml = 'Like what you see? Visit the ' +\n",
              "            '<a target=\"_blank\" href=https://colab.research.google.com/notebooks/data_table.ipynb>data table notebook</a>'\n",
              "            + ' to learn more about interactive tables.';\n",
              "          element.innerHTML = '';\n",
              "          dataTable['output_type'] = 'display_data';\n",
              "          await google.colab.output.renderOutput(dataTable, element);\n",
              "          const docLink = document.createElement('div');\n",
              "          docLink.innerHTML = docLinkHtml;\n",
              "          element.appendChild(docLink);\n",
              "        }\n",
              "      </script>\n",
              "    </div>\n",
              "  </div>\n",
              "  "
            ],
            "text/plain": [
              "              attributes        min  ...       skew    kurtosis\n",
              "0   SHORT-LINE-DENSITY-5   0.000000  ...   3.217945    8.435419\n",
              "1   SHORT-LINE-DENSITY-2   0.000000  ...   5.196214   28.891133\n",
              "2             VEDGE-MEAN   0.000000  ...   5.533273   34.724323\n",
              "3               VEDGE-SD   0.000000  ...  11.768085  145.877623\n",
              "4             HEDGE-MEAN   0.000000  ...   5.505544   36.855015\n",
              "5               HEDGE-SD   0.000000  ...  13.639298  192.524082\n",
              "6         INTENSITY-MEAN   0.000000  ...   1.276709    0.603842\n",
              "7            RAWRED-MEAN   0.000000  ...   1.336459    0.862520\n",
              "8           RAWBLUE-MEAN   0.000000  ...   1.128665    0.145366\n",
              "9          RAWGREEN-MEAN   0.000000  ...   1.380204    0.949714\n",
              "10            EXRED-MEAN -48.222220  ...  -0.904905    0.570238\n",
              "11           EXBLUE-MEAN  -9.666667  ...   0.423473   -0.531395\n",
              "12          EXGREEN-MEAN -30.555555  ...   0.781156    0.132444\n",
              "13            VALUE-MEAN   0.000000  ...   1.138813    0.194960\n",
              "14       SATURATION-MEAN   0.000000  ...   0.934306    0.495570\n",
              "15              HUE-MEAN  -2.530950  ...   1.760975    1.503251\n",
              "\n",
              "[16 rows x 9 columns]"
            ]
          },
          "metadata": {},
          "execution_count": 27
        }
      ],
      "source": [
        "# Dataset de treino\n",
        "num_attributes = df_test.select_dtypes(include=['float64','int64'])\n",
        "\n",
        "# Central Tendency - mean, meadina\n",
        "ct1 = pd.DataFrame( num_attributes.apply( np.mean ) ).T\n",
        "ct2 = pd.DataFrame( num_attributes.apply( np.median ) ).T\n",
        "\n",
        "# dispersion - std, min, max, range, skew, kurtosis\n",
        "d1 = pd.DataFrame( num_attributes.apply( np.std ) ).T\n",
        "d2 = pd.DataFrame( num_attributes.apply( min ) ).T\n",
        "d3 = pd.DataFrame( num_attributes.apply( max ) ).T\n",
        "d4 = pd.DataFrame( num_attributes.apply( lambda x: x.max() - x.min() ) ).T\n",
        "d5 = pd.DataFrame( num_attributes.apply( lambda x: x.skew() ) ).T\n",
        "d6 = pd.DataFrame( num_attributes.apply( lambda x: x.kurtosis() ) ).T\n",
        "\n",
        "# concatenar\n",
        "m = pd.concat( [d2, d3, d4, ct1, ct2, d1, d5, d6] ).T.reset_index()\n",
        "m.columns = ['attributes', 'min', 'max', 'range', 'mean', 'median', 'std', 'skew', 'kurtosis']\n",
        "m"
      ]
    },
    {
      "cell_type": "code",
      "execution_count": null,
      "metadata": {
        "colab": {
          "base_uri": "https://localhost:8080/",
          "height": 551
        },
        "id": "hnuP4TcYm97h",
        "outputId": "7ef23c81-4d9f-4940-8ec4-3396597b3c70"
      },
      "outputs": [
        {
          "output_type": "execute_result",
          "data": {
            "text/html": [
              "\n",
              "  <div id=\"df-e01092ae-a0bf-4dd7-9170-ade80af9b6d3\">\n",
              "    <div class=\"colab-df-container\">\n",
              "      <div>\n",
              "<style scoped>\n",
              "    .dataframe tbody tr th:only-of-type {\n",
              "        vertical-align: middle;\n",
              "    }\n",
              "\n",
              "    .dataframe tbody tr th {\n",
              "        vertical-align: top;\n",
              "    }\n",
              "\n",
              "    .dataframe thead th {\n",
              "        text-align: right;\n",
              "    }\n",
              "</style>\n",
              "<table border=\"1\" class=\"dataframe\">\n",
              "  <thead>\n",
              "    <tr style=\"text-align: right;\">\n",
              "      <th></th>\n",
              "      <th>attributes</th>\n",
              "      <th>min</th>\n",
              "      <th>max</th>\n",
              "      <th>range</th>\n",
              "      <th>mean</th>\n",
              "      <th>median</th>\n",
              "      <th>std</th>\n",
              "      <th>skew</th>\n",
              "      <th>kurtosis</th>\n",
              "    </tr>\n",
              "  </thead>\n",
              "  <tbody>\n",
              "    <tr>\n",
              "      <th>0</th>\n",
              "      <td>SHORT-LINE-DENSITY-5</td>\n",
              "      <td>0.000000e+00</td>\n",
              "      <td>0.333333</td>\n",
              "      <td>0.333333</td>\n",
              "      <td>0.014921</td>\n",
              "      <td>0.000000</td>\n",
              "      <td>0.041014</td>\n",
              "      <td>2.782235</td>\n",
              "      <td>7.862035</td>\n",
              "    </tr>\n",
              "    <tr>\n",
              "      <th>1</th>\n",
              "      <td>SHORT-LINE-DENSITY-2</td>\n",
              "      <td>0.000000e+00</td>\n",
              "      <td>0.222222</td>\n",
              "      <td>0.222222</td>\n",
              "      <td>0.004550</td>\n",
              "      <td>0.000000</td>\n",
              "      <td>0.023567</td>\n",
              "      <td>5.505489</td>\n",
              "      <td>32.601572</td>\n",
              "    </tr>\n",
              "    <tr>\n",
              "      <th>2</th>\n",
              "      <td>VEDGE-MEAN</td>\n",
              "      <td>0.000000e+00</td>\n",
              "      <td>29.222221</td>\n",
              "      <td>29.222221</td>\n",
              "      <td>1.890820</td>\n",
              "      <td>1.277776</td>\n",
              "      <td>2.648822</td>\n",
              "      <td>5.532376</td>\n",
              "      <td>39.415157</td>\n",
              "    </tr>\n",
              "    <tr>\n",
              "      <th>3</th>\n",
              "      <td>VEDGE-SD</td>\n",
              "      <td>0.000000e+00</td>\n",
              "      <td>991.718400</td>\n",
              "      <td>991.718400</td>\n",
              "      <td>5.708299</td>\n",
              "      <td>0.833333</td>\n",
              "      <td>44.978646</td>\n",
              "      <td>14.443018</td>\n",
              "      <td>238.550388</td>\n",
              "    </tr>\n",
              "    <tr>\n",
              "      <th>4</th>\n",
              "      <td>HEDGE-MEAN</td>\n",
              "      <td>0.000000e+00</td>\n",
              "      <td>44.722225</td>\n",
              "      <td>44.722225</td>\n",
              "      <td>2.406772</td>\n",
              "      <td>1.444444</td>\n",
              "      <td>3.469128</td>\n",
              "      <td>5.139671</td>\n",
              "      <td>38.821595</td>\n",
              "    </tr>\n",
              "    <tr>\n",
              "      <th>5</th>\n",
              "      <td>HEDGE-SD</td>\n",
              "      <td>-1.589457e-08</td>\n",
              "      <td>1386.329200</td>\n",
              "      <td>1386.329200</td>\n",
              "      <td>7.904224</td>\n",
              "      <td>0.989744</td>\n",
              "      <td>53.458341</td>\n",
              "      <td>16.560284</td>\n",
              "      <td>337.585800</td>\n",
              "    </tr>\n",
              "    <tr>\n",
              "      <th>6</th>\n",
              "      <td>INTENSITY-MEAN</td>\n",
              "      <td>0.000000e+00</td>\n",
              "      <td>143.444440</td>\n",
              "      <td>143.444440</td>\n",
              "      <td>37.047654</td>\n",
              "      <td>21.666666</td>\n",
              "      <td>38.126210</td>\n",
              "      <td>1.274720</td>\n",
              "      <td>0.567644</td>\n",
              "    </tr>\n",
              "    <tr>\n",
              "      <th>7</th>\n",
              "      <td>RAWRED-MEAN</td>\n",
              "      <td>0.000000e+00</td>\n",
              "      <td>137.111110</td>\n",
              "      <td>137.111110</td>\n",
              "      <td>32.806667</td>\n",
              "      <td>19.666668</td>\n",
              "      <td>34.986205</td>\n",
              "      <td>1.331893</td>\n",
              "      <td>0.809533</td>\n",
              "    </tr>\n",
              "    <tr>\n",
              "      <th>8</th>\n",
              "      <td>RAWBLUE-MEAN</td>\n",
              "      <td>0.000000e+00</td>\n",
              "      <td>150.888890</td>\n",
              "      <td>150.888890</td>\n",
              "      <td>44.205556</td>\n",
              "      <td>27.777779</td>\n",
              "      <td>43.499758</td>\n",
              "      <td>1.125065</td>\n",
              "      <td>0.112343</td>\n",
              "    </tr>\n",
              "    <tr>\n",
              "      <th>9</th>\n",
              "      <td>RAWGREEN-MEAN</td>\n",
              "      <td>0.000000e+00</td>\n",
              "      <td>142.555560</td>\n",
              "      <td>142.555560</td>\n",
              "      <td>34.130741</td>\n",
              "      <td>20.444445</td>\n",
              "      <td>36.295123</td>\n",
              "      <td>1.380661</td>\n",
              "      <td>0.922831</td>\n",
              "    </tr>\n",
              "    <tr>\n",
              "      <th>10</th>\n",
              "      <td>EXRED-MEAN</td>\n",
              "      <td>-4.966667e+01</td>\n",
              "      <td>9.888889</td>\n",
              "      <td>59.555557</td>\n",
              "      <td>-12.722963</td>\n",
              "      <td>-10.888889</td>\n",
              "      <td>11.585454</td>\n",
              "      <td>-0.884107</td>\n",
              "      <td>0.488906</td>\n",
              "    </tr>\n",
              "    <tr>\n",
              "      <th>11</th>\n",
              "      <td>EXBLUE-MEAN</td>\n",
              "      <td>-1.244444e+01</td>\n",
              "      <td>82.000000</td>\n",
              "      <td>94.444445</td>\n",
              "      <td>21.473704</td>\n",
              "      <td>19.666666</td>\n",
              "      <td>19.649427</td>\n",
              "      <td>0.419135</td>\n",
              "      <td>-0.519006</td>\n",
              "    </tr>\n",
              "    <tr>\n",
              "      <th>12</th>\n",
              "      <td>EXGREEN-MEAN</td>\n",
              "      <td>-3.388889e+01</td>\n",
              "      <td>24.666666</td>\n",
              "      <td>58.555556</td>\n",
              "      <td>-8.750741</td>\n",
              "      <td>-11.000000</td>\n",
              "      <td>11.604232</td>\n",
              "      <td>0.782616</td>\n",
              "      <td>0.036290</td>\n",
              "    </tr>\n",
              "    <tr>\n",
              "      <th>13</th>\n",
              "      <td>VALUE-MEAN</td>\n",
              "      <td>0.000000e+00</td>\n",
              "      <td>150.888890</td>\n",
              "      <td>150.888890</td>\n",
              "      <td>45.162381</td>\n",
              "      <td>28.666666</td>\n",
              "      <td>42.890366</td>\n",
              "      <td>1.134655</td>\n",
              "      <td>0.163194</td>\n",
              "    </tr>\n",
              "    <tr>\n",
              "      <th>14</th>\n",
              "      <td>SATURATION-MEAN</td>\n",
              "      <td>0.000000e+00</td>\n",
              "      <td>1.000000</td>\n",
              "      <td>1.000000</td>\n",
              "      <td>0.427259</td>\n",
              "      <td>0.375064</td>\n",
              "      <td>0.228403</td>\n",
              "      <td>0.946315</td>\n",
              "      <td>0.415745</td>\n",
              "    </tr>\n",
              "    <tr>\n",
              "      <th>15</th>\n",
              "      <td>HUE-MEAN</td>\n",
              "      <td>-3.044175e+00</td>\n",
              "      <td>2.912480</td>\n",
              "      <td>5.956656</td>\n",
              "      <td>-1.365147</td>\n",
              "      <td>-2.052625</td>\n",
              "      <td>1.543910</td>\n",
              "      <td>1.785601</td>\n",
              "      <td>1.551226</td>\n",
              "    </tr>\n",
              "  </tbody>\n",
              "</table>\n",
              "</div>\n",
              "      <button class=\"colab-df-convert\" onclick=\"convertToInteractive('df-e01092ae-a0bf-4dd7-9170-ade80af9b6d3')\"\n",
              "              title=\"Convert this dataframe to an interactive table.\"\n",
              "              style=\"display:none;\">\n",
              "        \n",
              "  <svg xmlns=\"http://www.w3.org/2000/svg\" height=\"24px\"viewBox=\"0 0 24 24\"\n",
              "       width=\"24px\">\n",
              "    <path d=\"M0 0h24v24H0V0z\" fill=\"none\"/>\n",
              "    <path d=\"M18.56 5.44l.94 2.06.94-2.06 2.06-.94-2.06-.94-.94-2.06-.94 2.06-2.06.94zm-11 1L8.5 8.5l.94-2.06 2.06-.94-2.06-.94L8.5 2.5l-.94 2.06-2.06.94zm10 10l.94 2.06.94-2.06 2.06-.94-2.06-.94-.94-2.06-.94 2.06-2.06.94z\"/><path d=\"M17.41 7.96l-1.37-1.37c-.4-.4-.92-.59-1.43-.59-.52 0-1.04.2-1.43.59L10.3 9.45l-7.72 7.72c-.78.78-.78 2.05 0 2.83L4 21.41c.39.39.9.59 1.41.59.51 0 1.02-.2 1.41-.59l7.78-7.78 2.81-2.81c.8-.78.8-2.07 0-2.86zM5.41 20L4 18.59l7.72-7.72 1.47 1.35L5.41 20z\"/>\n",
              "  </svg>\n",
              "      </button>\n",
              "      \n",
              "  <style>\n",
              "    .colab-df-container {\n",
              "      display:flex;\n",
              "      flex-wrap:wrap;\n",
              "      gap: 12px;\n",
              "    }\n",
              "\n",
              "    .colab-df-convert {\n",
              "      background-color: #E8F0FE;\n",
              "      border: none;\n",
              "      border-radius: 50%;\n",
              "      cursor: pointer;\n",
              "      display: none;\n",
              "      fill: #1967D2;\n",
              "      height: 32px;\n",
              "      padding: 0 0 0 0;\n",
              "      width: 32px;\n",
              "    }\n",
              "\n",
              "    .colab-df-convert:hover {\n",
              "      background-color: #E2EBFA;\n",
              "      box-shadow: 0px 1px 2px rgba(60, 64, 67, 0.3), 0px 1px 3px 1px rgba(60, 64, 67, 0.15);\n",
              "      fill: #174EA6;\n",
              "    }\n",
              "\n",
              "    [theme=dark] .colab-df-convert {\n",
              "      background-color: #3B4455;\n",
              "      fill: #D2E3FC;\n",
              "    }\n",
              "\n",
              "    [theme=dark] .colab-df-convert:hover {\n",
              "      background-color: #434B5C;\n",
              "      box-shadow: 0px 1px 3px 1px rgba(0, 0, 0, 0.15);\n",
              "      filter: drop-shadow(0px 1px 2px rgba(0, 0, 0, 0.3));\n",
              "      fill: #FFFFFF;\n",
              "    }\n",
              "  </style>\n",
              "\n",
              "      <script>\n",
              "        const buttonEl =\n",
              "          document.querySelector('#df-e01092ae-a0bf-4dd7-9170-ade80af9b6d3 button.colab-df-convert');\n",
              "        buttonEl.style.display =\n",
              "          google.colab.kernel.accessAllowed ? 'block' : 'none';\n",
              "\n",
              "        async function convertToInteractive(key) {\n",
              "          const element = document.querySelector('#df-e01092ae-a0bf-4dd7-9170-ade80af9b6d3');\n",
              "          const dataTable =\n",
              "            await google.colab.kernel.invokeFunction('convertToInteractive',\n",
              "                                                     [key], {});\n",
              "          if (!dataTable) return;\n",
              "\n",
              "          const docLinkHtml = 'Like what you see? Visit the ' +\n",
              "            '<a target=\"_blank\" href=https://colab.research.google.com/notebooks/data_table.ipynb>data table notebook</a>'\n",
              "            + ' to learn more about interactive tables.';\n",
              "          element.innerHTML = '';\n",
              "          dataTable['output_type'] = 'display_data';\n",
              "          await google.colab.output.renderOutput(dataTable, element);\n",
              "          const docLink = document.createElement('div');\n",
              "          docLink.innerHTML = docLinkHtml;\n",
              "          element.appendChild(docLink);\n",
              "        }\n",
              "      </script>\n",
              "    </div>\n",
              "  </div>\n",
              "  "
            ],
            "text/plain": [
              "              attributes           min  ...       skew    kurtosis\n",
              "0   SHORT-LINE-DENSITY-5  0.000000e+00  ...   2.782235    7.862035\n",
              "1   SHORT-LINE-DENSITY-2  0.000000e+00  ...   5.505489   32.601572\n",
              "2             VEDGE-MEAN  0.000000e+00  ...   5.532376   39.415157\n",
              "3               VEDGE-SD  0.000000e+00  ...  14.443018  238.550388\n",
              "4             HEDGE-MEAN  0.000000e+00  ...   5.139671   38.821595\n",
              "5               HEDGE-SD -1.589457e-08  ...  16.560284  337.585800\n",
              "6         INTENSITY-MEAN  0.000000e+00  ...   1.274720    0.567644\n",
              "7            RAWRED-MEAN  0.000000e+00  ...   1.331893    0.809533\n",
              "8           RAWBLUE-MEAN  0.000000e+00  ...   1.125065    0.112343\n",
              "9          RAWGREEN-MEAN  0.000000e+00  ...   1.380661    0.922831\n",
              "10            EXRED-MEAN -4.966667e+01  ...  -0.884107    0.488906\n",
              "11           EXBLUE-MEAN -1.244444e+01  ...   0.419135   -0.519006\n",
              "12          EXGREEN-MEAN -3.388889e+01  ...   0.782616    0.036290\n",
              "13            VALUE-MEAN  0.000000e+00  ...   1.134655    0.163194\n",
              "14       SATURATION-MEAN  0.000000e+00  ...   0.946315    0.415745\n",
              "15              HUE-MEAN -3.044175e+00  ...   1.785601    1.551226\n",
              "\n",
              "[16 rows x 9 columns]"
            ]
          },
          "metadata": {},
          "execution_count": 28
        }
      ],
      "source": [
        "# Dataset de teste\n",
        "num_attributes2 = df_train.select_dtypes(include=['float64','int64'])\n",
        "\n",
        "# Central Tendency - mean, meadina\n",
        "ct1 = pd.DataFrame( num_attributes2.apply( np.mean ) ).T\n",
        "ct2 = pd.DataFrame( num_attributes2.apply( np.median ) ).T\n",
        "\n",
        "# dispersion - std, min, max, range, skew, kurtosis\n",
        "d1 = pd.DataFrame( num_attributes2.apply( np.std ) ).T\n",
        "d2 = pd.DataFrame( num_attributes2.apply( min ) ).T\n",
        "d3 = pd.DataFrame( num_attributes2.apply( max ) ).T\n",
        "d4 = pd.DataFrame( num_attributes2.apply( lambda x: x.max() - x.min() ) ).T\n",
        "d5 = pd.DataFrame( num_attributes2.apply( lambda x: x.skew() ) ).T\n",
        "d6 = pd.DataFrame( num_attributes2.apply( lambda x: x.kurtosis() ) ).T\n",
        "\n",
        "# concatenar\n",
        "m = pd.concat( [d2, d3, d4, ct1, ct2, d1, d5, d6] ).T.reset_index()\n",
        "m.columns = ['attributes', 'min', 'max', 'range', 'mean', 'median', 'std', 'skew', 'kurtosis']\n",
        "m"
      ]
    },
    {
      "cell_type": "markdown",
      "metadata": {
        "id": "qWP6vOMFXi0k"
      },
      "source": [
        "#### 2.6 VISUALIZAÇÃO DE DADOS"
      ]
    },
    {
      "cell_type": "code",
      "execution_count": null,
      "metadata": {
        "id": "q2G0SujwXaeo"
      },
      "outputs": [],
      "source": [
        "# g = sns.pairplot(data=df_test, kind=\"scatter\", palette=\"deep\")\n",
        "# g.map_lower(sns.kdeplot, color=\".2\");"
      ]
    },
    {
      "cell_type": "code",
      "execution_count": null,
      "metadata": {
        "colab": {
          "base_uri": "https://localhost:8080/",
          "height": 971
        },
        "id": "ecPlcjdSaOy7",
        "outputId": "814387dc-b199-40ca-a4f6-412fa0891110"
      },
      "outputs": [
        {
          "output_type": "display_data",
          "data": {
            "image/png": "[encoded data removed]",
            "text/plain": [
              "<Figure size 1080x1080 with 2 Axes>"
            ]
          },
          "metadata": {
            "needs_background": "light"
          }
        }
      ],
      "source": [
        "df_v = df_raw_test.copy()\n",
        "df_v['CLASS'] = LabelEncoder().fit_transform(df_v['CLASS'].tolist())\n",
        "num_feat = df_v.select_dtypes(include=np.number).columns\n",
        "plt.figure(figsize= (15, 15))\n",
        "sns.heatmap(df_v.corr(), annot=True, cmap='coolwarm');"
      ]
    },
    {
      "cell_type": "code",
      "execution_count": null,
      "metadata": {
        "colab": {
          "base_uri": "https://localhost:8080/",
          "height": 971
        },
        "id": "5TAdXK98Xqk6",
        "outputId": "2532bc55-b6d6-46d1-c89b-2c4078d2afd5"
      },
      "outputs": [
        {
          "output_type": "display_data",
          "data": {
            "image/png": "[encoded data removed]",
            "text/plain": [
              "<Figure size 1080x1080 with 2 Axes>"
            ]
          },
          "metadata": {
            "needs_background": "light"
          }
        }
      ],
      "source": [
        "df_v = df_raw_test1.copy()\n",
        "df_v['CLASS'] = LabelEncoder().fit_transform(df_v['CLASS'].tolist())\n",
        "num_feat = df_v.select_dtypes(include=np.number).columns\n",
        "plt.figure(figsize= (15, 15))\n",
        "sns.heatmap(df_v.corr(), annot=True, cmap='coolwarm');"
      ]
    },
    {
      "cell_type": "code",
      "execution_count": null,
      "metadata": {
        "colab": {
          "base_uri": "https://localhost:8080/",
          "height": 953
        },
        "id": "520UByIcaDH8",
        "outputId": "01bbfad6-681b-46d9-bdfe-41e1874c388b"
      },
      "outputs": [
        {
          "output_type": "display_data",
          "data": {
            "image/png": "[encoded data removed]",
            "text/plain": [
              "<Figure size 1080x1080 with 2 Axes>"
            ]
          },
          "metadata": {
            "needs_background": "light"
          }
        }
      ],
      "source": [
        "df_v = df_raw_test2.copy()\n",
        "df_v['CLASS'] = LabelEncoder().fit_transform(df_v['CLASS'].tolist())\n",
        "num_feat = df_v.select_dtypes(include=np.number).columns\n",
        "plt.figure(figsize= (15, 15))\n",
        "sns.heatmap(df_v.corr(), annot=True, cmap='coolwarm');"
      ]
    },
    {
      "cell_type": "markdown",
      "metadata": {
        "id": "On2o8ikp1Xzr"
      },
      "source": [
        "### 3 PREPARAÇÃO DOS DADOS"
      ]
    },
    {
      "cell_type": "markdown",
      "metadata": {
        "id": "bC3bwb3n1k8o"
      },
      "source": [
        "___\n",
        "Nesta fase será executada a manipulação dos dados para a modelagem. As atividades compreendidas são:\n",
        "\n",
        "\n",
        "1.   Seleção dos dados: determinar quais dados serão usados;\n",
        "2.   Limpeza dos dados;\n",
        "3.   Construção de dados;\n",
        "4.   Integração de dados;\n",
        "5.   Adequação da formatação dos dados\n",
        "___"
      ]
    },
    {
      "cell_type": "markdown",
      "metadata": {
        "id": "poNvyEz51wU7"
      },
      "source": [
        "#### 3.1 NORMALIZAÇÃO OS DADOS NÚMERICOS"
      ]
    },
    {
      "cell_type": "code",
      "execution_count": null,
      "metadata": {
        "id": "L8OeEz8K1crp"
      },
      "outputs": [],
      "source": [
        "scaler = StandardScaler()\n",
        "\n",
        "df_test_scaled = scaler.fit_transform(df_test)\n",
        "df_test_scaled = pd.DataFrame(df_test_scaled, columns = ['SHORT-LINE-DENSITY-5','SHORT-LINE-DENSITY-2','VEDGE-MEAN','VEDGE-SD','HEDGE-MEAN','HEDGE-SD','INTENSITY-MEAN','RAWRED-MEAN','RAWBLUE-MEAN','RAWGREEN-MEAN','EXRED-MEAN','EXBLUE-MEAN','EXGREEN-MEAN','VALUE-MEAN','SATURATION-MEAN','HUE-MEAN'])\n",
        "\n",
        "df_train_scaled = scaler.fit_transform(df_train)\n",
        "df_train_scaled = pd.DataFrame(df_train_scaled, columns = ['SHORT-LINE-DENSITY-5','SHORT-LINE-DENSITY-2','VEDGE-MEAN','VEDGE-SD','HEDGE-MEAN','HEDGE-SD','INTENSITY-MEAN','RAWRED-MEAN','RAWBLUE-MEAN','RAWGREEN-MEAN','EXRED-MEAN','EXBLUE-MEAN','EXGREEN-MEAN','VALUE-MEAN','SATURATION-MEAN','HUE-MEAN'])"
      ]
    },
    {
      "cell_type": "code",
      "execution_count": null,
      "metadata": {
        "id": "k1eUL9fQTatK"
      },
      "outputs": [],
      "source": [
        "# # Dataframe 1: apenas colunas de 4 a 9\n",
        "\n",
        "# df_test_scaled1 = scaler.fit_transform(df_test1)\n",
        "# df_test_scaled1 = pd.DataFrame(df_test_scaled1, columns = ['SHORT-LINE-DENSITY-5','SHORT-LINE-DENSITY-2','VEDGE-MEAN','VEDGE-SD','HEDGE-MEAN','HEDGE-SD'])\n",
        "\n",
        "# df_train_scaled1 = scaler.fit_transform(df_train1)\n",
        "# df_train_scaled1 = pd.DataFrame(df_train_scaled1, columns = ['SHORT-LINE-DENSITY-5','SHORT-LINE-DENSITY-2','VEDGE-MEAN','VEDGE-SD','HEDGE-MEAN','HEDGE-SD'])\n",
        "\n",
        "# # Dataframe 2: apenas colunas de 10 a 16\n",
        "\n",
        "# df_test_scaled2 = scaler.fit_transform(df_test2)\n",
        "# df_test_scaled2 = pd.DataFrame(df_test_scaled2, columns = ['INTENSITY-MEAN','RAWRED-MEAN','RAWBLUE-MEAN','RAWGREEN-MEAN','EXRED-MEAN','EXBLUE-MEAN','EXGREEN-MEAN','VALUE-MEAN','SATURATION-MEAN','HUE-MEAN'])\n",
        "\n",
        "# df_train_scaled2 = scaler.fit_transform(df_train2)\n",
        "# df_train_scaled2 = pd.DataFrame(df_train_scaled2, columns = ['INTENSITY-MEAN','RAWRED-MEAN','RAWBLUE-MEAN','RAWGREEN-MEAN','EXRED-MEAN','EXBLUE-MEAN','EXGREEN-MEAN','VALUE-MEAN','SATURATION-MEAN','HUE-MEAN'])"
      ]
    },
    {
      "cell_type": "code",
      "execution_count": null,
      "metadata": {
        "id": "sMVDEcSyQ_so"
      },
      "outputs": [],
      "source": [
        "# Criado dataframes especificos\n",
        "\n",
        "# Dataframe 1: apenas colunas de 4 a 9\n",
        "df_test_scaled1 = df_test_scaled.drop(columns=['INTENSITY-MEAN','RAWRED-MEAN','RAWBLUE-MEAN','RAWGREEN-MEAN','EXRED-MEAN','EXBLUE-MEAN','EXGREEN-MEAN','VALUE-MEAN','SATURATION-MEAN','HUE-MEAN'], axis=1)\n",
        "df_train_scaled1 = df_train_scaled.drop(columns=['INTENSITY-MEAN','RAWRED-MEAN','RAWBLUE-MEAN','RAWGREEN-MEAN','EXRED-MEAN','EXBLUE-MEAN','EXGREEN-MEAN','VALUE-MEAN','SATURATION-MEAN','HUE-MEAN'], axis=1)\n",
        "\n",
        "# Dataframe 2: apenas colunas de 10 a 16\n",
        "df_test_scaled2 = df_test_scaled.drop(columns=['SHORT-LINE-DENSITY-5','SHORT-LINE-DENSITY-2','VEDGE-MEAN','VEDGE-SD','HEDGE-MEAN','HEDGE-SD'], axis=1)\n",
        "df_train_scaled2 = df_train_scaled.drop(columns=['SHORT-LINE-DENSITY-5','SHORT-LINE-DENSITY-2','VEDGE-MEAN','VEDGE-SD','HEDGE-MEAN','HEDGE-SD'], axis=1)"
      ]
    },
    {
      "cell_type": "markdown",
      "metadata": {
        "id": "MbtCXiu9UMGh"
      },
      "source": [
        "#### 3.2 TRATAMENTO DE ATRIBUTO CATEGORICO\n",
        "\n",
        "---\n",
        "\n",
        "Nessa etapa vamos transformar a variável categorica em variável númerica."
      ]
    },
    {
      "cell_type": "code",
      "execution_count": null,
      "metadata": {
        "id": "4qHxBEQqUP14"
      },
      "outputs": [],
      "source": [
        "label_e = LabelEncoder()\n",
        "class_test = label_e.fit_transform(classes_test)\n",
        "class_train = label_e.fit_transform(classes_train)"
      ]
    },
    {
      "cell_type": "markdown",
      "metadata": {
        "id": "Zs0TkcGi13dP"
      },
      "source": [
        "#### 3.3 DIVISÃO DE PREVISORES E CLASSE"
      ]
    },
    {
      "cell_type": "markdown",
      "metadata": {
        "id": "aKHuLhcd2HlO"
      },
      "source": [
        "\n",
        "A divisão será feita como:\n",
        "*   X = Atritubos\n",
        "*   Y = Classes\n",
        "\n",
        "Será sepado 20% dos dados para teste e reservado 80% para treinamento e validação."
      ]
    },
    {
      "cell_type": "code",
      "execution_count": null,
      "metadata": {
        "id": "J8aqHQhzBFFt"
      },
      "outputs": [],
      "source": [
        "y_test = np.array(class_test)\n",
        "y_train = np.array(class_train)\n",
        "\n",
        "# Dataframe completo\n",
        "X_test = np.array(df_test_scaled)\n",
        "X_train = np.array(df_train_scaled)\n",
        "\n",
        "# Dataframe 1\n",
        "X_test1 = np.array(df_test_scaled1)\n",
        "X_train1 = np.array(df_train_scaled1)\n",
        "\n",
        "# Dataframe 2\n",
        "X_test2 = np.array(df_test_scaled2)\n",
        "X_train2 = np.array(df_train_scaled2)"
      ]
    },
    {
      "cell_type": "markdown",
      "metadata": {
        "id": "G9q1yxJ3VaAx"
      },
      "source": [
        "#### 3.4 VALIDAÇÃO CRUZADA"
      ]
    },
    {
      "cell_type": "code",
      "source": [
        "seed=2"
      ],
      "metadata": {
        "id": "FE0PzBvbstgC"
      },
      "execution_count": null,
      "outputs": []
    },
    {
      "cell_type": "code",
      "execution_count": null,
      "metadata": {
        "id": "Tnn6Yc_-YhD9"
      },
      "outputs": [],
      "source": [
        "# Validação cruzada estratificada (para busca de parametros)\n",
        "\n",
        "skf = StratifiedKFold(n_splits=5, shuffle=True, random_state=seed)"
      ]
    },
    {
      "cell_type": "code",
      "execution_count": null,
      "metadata": {
        "id": "a87DLUVbWz3H"
      },
      "outputs": [],
      "source": [
        "# Validação cruzada estratificação com repetição (para treinamento de comite de voto marjoritário)\n",
        "\n",
        "rskf = RepeatedStratifiedKFold(n_splits=10, n_repeats=30, random_state=seed)"
      ]
    },
    {
      "cell_type": "markdown",
      "metadata": {
        "id": "Yd3hOwm1rzRA"
      },
      "source": [
        "## QUESTÃO 1"
      ]
    },
    {
      "cell_type": "markdown",
      "source": [
        "### Encontrando Matrizes G, V e U"
      ],
      "metadata": {
        "id": "qGanGqHDfZQB"
      }
    },
    {
      "cell_type": "markdown",
      "source": [
        "#### Dataframe Completo"
      ],
      "metadata": {
        "id": "WPmWknX6fg08"
      }
    },
    {
      "cell_type": "markdown",
      "metadata": {
        "id": "4QEWII3atn7q"
      },
      "source": [
        "____\n",
        "Variaveis iniciais\n",
        "____"
      ]
    },
    {
      "cell_type": "code",
      "execution_count": null,
      "metadata": {
        "id": "VtnqlYHZr5yT"
      },
      "outputs": [],
      "source": [
        "matriz_x = X_train\n",
        "c = 7\n",
        "E = 10 ** -10\n",
        "T = 150"
      ]
    },
    {
      "cell_type": "markdown",
      "metadata": {
        "id": "vKGZLj3XtywQ"
      },
      "source": [
        "___\n",
        "Algoritmo para encontrar as matrizes e calcular sua função objetivo\n",
        "___"
      ]
    },
    {
      "cell_type": "code",
      "execution_count": null,
      "metadata": {
        "id": "8KPYQQA5CBI2",
        "colab": {
          "base_uri": "https://localhost:8080/"
        },
        "outputId": "2baebada-628a-4254-887b-4a273ed3942d"
      },
      "outputs": [
        {
          "output_type": "stream",
          "name": "stdout",
          "text": [
            "Interação de do objetivo  1 foram calculados em  31 Interções\n",
            "Interação de do objetivo  2 foram calculados em  26 Interções\n",
            "Interação de do objetivo  3 foram calculados em  25 Interções\n",
            "Interação de do objetivo  4 foram calculados em  34 Interções\n",
            "Interação de do objetivo  5 foram calculados em  36 Interções\n",
            "Interação de do objetivo  6 foram calculados em  27 Interções\n",
            "Interação de do objetivo  7 foram calculados em  37 Interções\n",
            "Interação de do objetivo  8 foram calculados em  27 Interções\n",
            "Interação de do objetivo  9 foram calculados em  40 Interções\n",
            "Interação de do objetivo  10 foram calculados em  35 Interções\n",
            "Interação de do objetivo  11 foram calculados em  31 Interções\n",
            "Interação de do objetivo  12 foram calculados em  31 Interções\n",
            "Interação de do objetivo  13 foram calculados em  27 Interções\n",
            "Interação de do objetivo  14 foram calculados em  35 Interções\n",
            "Interação de do objetivo  15 foram calculados em  25 Interções\n",
            "Interação de do objetivo  16 foram calculados em  29 Interções\n",
            "Interação de do objetivo  17 foram calculados em  35 Interções\n",
            "Interação de do objetivo  18 foram calculados em  40 Interções\n",
            "Interação de do objetivo  19 foram calculados em  31 Interções\n",
            "Interação de do objetivo  20 foram calculados em  31 Interções\n",
            "Interação de do objetivo  21 foram calculados em  29 Interções\n",
            "Interação de do objetivo  22 foram calculados em  32 Interções\n",
            "Interação de do objetivo  23 foram calculados em  37 Interções\n",
            "Interação de do objetivo  24 foram calculados em  31 Interções\n",
            "Interação de do objetivo  25 foram calculados em  28 Interções\n",
            "Interação de do objetivo  26 foram calculados em  46 Interções\n",
            "Interação de do objetivo  27 foram calculados em  32 Interções\n",
            "Interação de do objetivo  28 foram calculados em  30 Interções\n",
            "Interação de do objetivo  29 foram calculados em  25 Interções\n",
            "Interação de do objetivo  30 foram calculados em  29 Interções\n",
            "Interação de do objetivo  31 foram calculados em  28 Interções\n",
            "Interação de do objetivo  32 foram calculados em  25 Interções\n",
            "Interação de do objetivo  33 foram calculados em  43 Interções\n",
            "Interação de do objetivo  34 foram calculados em  41 Interções\n",
            "Interação de do objetivo  35 foram calculados em  27 Interções\n",
            "Interação de do objetivo  36 foram calculados em  37 Interções\n",
            "Interação de do objetivo  37 foram calculados em  31 Interções\n",
            "Interação de do objetivo  38 foram calculados em  36 Interções\n",
            "Interação de do objetivo  39 foram calculados em  40 Interções\n",
            "Interação de do objetivo  40 foram calculados em  31 Interções\n",
            "Interação de do objetivo  41 foram calculados em  32 Interções\n",
            "Interação de do objetivo  42 foram calculados em  23 Interções\n",
            "Interação de do objetivo  43 foram calculados em  37 Interções\n",
            "Interação de do objetivo  44 foram calculados em  24 Interções\n",
            "Interação de do objetivo  45 foram calculados em  26 Interções\n",
            "Interação de do objetivo  46 foram calculados em  32 Interções\n",
            "Interação de do objetivo  47 foram calculados em  33 Interções\n",
            "Interação de do objetivo  48 foram calculados em  30 Interções\n",
            "Interação de do objetivo  49 foram calculados em  26 Interções\n",
            "Interação de do objetivo  50 foram calculados em  30 Interções\n"
          ]
        }
      ],
      "source": [
        "temp = 10000 #Valor qualquer alto\n",
        "i=0 #Interador da função objetivo -> 50\n",
        "\n",
        "while(i < 50):\n",
        "  matriz_u = random_matriz_u(matriz_x,c) # Aleatorizando a matriz U\n",
        "  i += 1 #Interação de i\n",
        "\n",
        "  for a in range(0, T):\n",
        "    Tv = 10\n",
        "    Tu = 0.1\n",
        "    U_temp = matriz_u.copy() #copia para fazer o teste. Será o Ui-1\n",
        "\n",
        "    matriz_g = calc_matriz_g(matriz_x, matriz_u) #Matriz G\n",
        "\n",
        "    matriz_v = calc_matriz_v(matriz_x,matriz_u ,matriz_g,Tv = Tv) #Matriz V\n",
        "\n",
        "    matriz_u = calc_matriz_u(matriz_x, matriz_g, matriz_v, Tu = Tu) #Matriz U\n",
        "\n",
        "    matriz_test_U = np.abs(matriz_u - U_temp) #Matriz para teste do E (condição de parada)\n",
        "\n",
        "    if matriz_test_U.max() < E:\n",
        "      aux1 = JEFCMLS1(matriz_u, matriz_x, matriz_v, matriz_g, Tu = Tu, Tv = Tv)\n",
        "      # Calculo da função objetivo\n",
        "      if aux1 < temp: #Se a função objetivo for menor que a anterior, as matrizes são salvas\n",
        "\n",
        "        matriz_g_final = matriz_g.copy()\n",
        "        matriz_v_final = matriz_v.copy()\n",
        "        matriz_u_final = matriz_u.copy()\n",
        "        temp = aux1\n",
        "        matriz_u = random_matriz_u(matriz_x,c)\n",
        "        #Aleatoriza novamente a matriz U para uma proxima interação\n",
        "      print('Interação do objetivo ',i, 'foram calculados em ',a, 'Interções')\n",
        "      break"
      ]
    },
    {
      "cell_type": "markdown",
      "metadata": {
        "id": "NO6V_zqKt_op"
      },
      "source": [
        "___\n",
        "Visualização das matrizes final.\n",
        "___"
      ]
    },
    {
      "cell_type": "code",
      "execution_count": null,
      "metadata": {
        "id": "GyjL0JkCopux",
        "colab": {
          "base_uri": "https://localhost:8080/",
          "height": 313
        },
        "outputId": "34c68a56-b4e1-4ed2-fbd7-fdcfe0434920"
      },
      "outputs": [
        {
          "output_type": "execute_result",
          "data": {
            "text/html": [
              "\n",
              "  <div id=\"df-28bac4d9-bdd0-46df-b865-eeb69fbabc85\">\n",
              "    <div class=\"colab-df-container\">\n",
              "      <div>\n",
              "<style scoped>\n",
              "    .dataframe tbody tr th:only-of-type {\n",
              "        vertical-align: middle;\n",
              "    }\n",
              "\n",
              "    .dataframe tbody tr th {\n",
              "        vertical-align: top;\n",
              "    }\n",
              "\n",
              "    .dataframe thead th {\n",
              "        text-align: right;\n",
              "    }\n",
              "</style>\n",
              "<table border=\"1\" class=\"dataframe\">\n",
              "  <thead>\n",
              "    <tr style=\"text-align: right;\">\n",
              "      <th></th>\n",
              "      <th>0</th>\n",
              "      <th>1</th>\n",
              "      <th>2</th>\n",
              "      <th>3</th>\n",
              "      <th>4</th>\n",
              "      <th>5</th>\n",
              "      <th>6</th>\n",
              "      <th>7</th>\n",
              "      <th>8</th>\n",
              "      <th>9</th>\n",
              "      <th>10</th>\n",
              "      <th>11</th>\n",
              "      <th>12</th>\n",
              "      <th>13</th>\n",
              "      <th>14</th>\n",
              "      <th>15</th>\n",
              "    </tr>\n",
              "  </thead>\n",
              "  <tbody>\n",
              "    <tr>\n",
              "      <th>0</th>\n",
              "      <td>-0.363795</td>\n",
              "      <td>-0.193074</td>\n",
              "      <td>-0.273387</td>\n",
              "      <td>-0.109584</td>\n",
              "      <td>-0.309426</td>\n",
              "      <td>-0.131126</td>\n",
              "      <td>-0.417023</td>\n",
              "      <td>-0.391456</td>\n",
              "      <td>-0.408304</td>\n",
              "      <td>-0.392390</td>\n",
              "      <td>0.158308</td>\n",
              "      <td>-0.103273</td>\n",
              "      <td>-0.203406</td>\n",
              "      <td>-0.402736</td>\n",
              "      <td>-0.220694</td>\n",
              "      <td>-0.442753</td>\n",
              "    </tr>\n",
              "    <tr>\n",
              "      <th>1</th>\n",
              "      <td>-0.363795</td>\n",
              "      <td>-0.193074</td>\n",
              "      <td>-0.252413</td>\n",
              "      <td>-0.109372</td>\n",
              "      <td>-0.309426</td>\n",
              "      <td>-0.131243</td>\n",
              "      <td>-0.422852</td>\n",
              "      <td>-0.400983</td>\n",
              "      <td>-0.421075</td>\n",
              "      <td>-0.401574</td>\n",
              "      <td>0.158308</td>\n",
              "      <td>-0.108928</td>\n",
              "      <td>-0.184256</td>\n",
              "      <td>-0.410508</td>\n",
              "      <td>-0.198736</td>\n",
              "      <td>-0.445335</td>\n",
              "    </tr>\n",
              "    <tr>\n",
              "      <th>2</th>\n",
              "      <td>-0.363795</td>\n",
              "      <td>-0.193074</td>\n",
              "      <td>-0.273387</td>\n",
              "      <td>-0.109702</td>\n",
              "      <td>-0.309426</td>\n",
              "      <td>-0.131400</td>\n",
              "      <td>-0.417994</td>\n",
              "      <td>-0.391456</td>\n",
              "      <td>-0.410858</td>\n",
              "      <td>-0.395452</td>\n",
              "      <td>0.187080</td>\n",
              "      <td>-0.120237</td>\n",
              "      <td>-0.193831</td>\n",
              "      <td>-0.402736</td>\n",
              "      <td>-0.213595</td>\n",
              "      <td>-0.440956</td>\n",
              "    </tr>\n",
              "    <tr>\n",
              "      <th>3</th>\n",
              "      <td>-0.363795</td>\n",
              "      <td>-0.193074</td>\n",
              "      <td>-0.252413</td>\n",
              "      <td>-0.109125</td>\n",
              "      <td>-0.261383</td>\n",
              "      <td>-0.128371</td>\n",
              "      <td>-0.391766</td>\n",
              "      <td>-0.362873</td>\n",
              "      <td>-0.364881</td>\n",
              "      <td>-0.367900</td>\n",
              "      <td>0.148718</td>\n",
              "      <td>-0.075000</td>\n",
              "      <td>-0.184256</td>\n",
              "      <td>-0.379421</td>\n",
              "      <td>-0.255736</td>\n",
              "      <td>-0.445335</td>\n",
              "    </tr>\n",
              "    <tr>\n",
              "      <th>4</th>\n",
              "      <td>-0.363795</td>\n",
              "      <td>-0.193074</td>\n",
              "      <td>-0.189492</td>\n",
              "      <td>-0.105220</td>\n",
              "      <td>-0.229355</td>\n",
              "      <td>-0.126835</td>\n",
              "      <td>-0.378166</td>\n",
              "      <td>-0.356521</td>\n",
              "      <td>-0.349555</td>\n",
              "      <td>-0.343409</td>\n",
              "      <td>0.158308</td>\n",
              "      <td>-0.052381</td>\n",
              "      <td>-0.184256</td>\n",
              "      <td>-0.363877</td>\n",
              "      <td>-0.265665</td>\n",
              "      <td>-0.450139</td>\n",
              "    </tr>\n",
              "    <tr>\n",
              "      <th>5</th>\n",
              "      <td>-0.363795</td>\n",
              "      <td>-0.193074</td>\n",
              "      <td>-0.273387</td>\n",
              "      <td>-0.109584</td>\n",
              "      <td>-0.309426</td>\n",
              "      <td>-0.131126</td>\n",
              "      <td>-0.417023</td>\n",
              "      <td>-0.391456</td>\n",
              "      <td>-0.408304</td>\n",
              "      <td>-0.392390</td>\n",
              "      <td>0.158308</td>\n",
              "      <td>-0.103273</td>\n",
              "      <td>-0.203406</td>\n",
              "      <td>-0.402736</td>\n",
              "      <td>-0.220694</td>\n",
              "      <td>-0.442753</td>\n",
              "    </tr>\n",
              "    <tr>\n",
              "      <th>6</th>\n",
              "      <td>-0.363795</td>\n",
              "      <td>-0.193074</td>\n",
              "      <td>-0.189492</td>\n",
              "      <td>-0.105220</td>\n",
              "      <td>-0.229355</td>\n",
              "      <td>-0.126835</td>\n",
              "      <td>-0.378166</td>\n",
              "      <td>-0.356521</td>\n",
              "      <td>-0.349555</td>\n",
              "      <td>-0.343409</td>\n",
              "      <td>0.158308</td>\n",
              "      <td>-0.052381</td>\n",
              "      <td>-0.184256</td>\n",
              "      <td>-0.363877</td>\n",
              "      <td>-0.265665</td>\n",
              "      <td>-0.450139</td>\n",
              "    </tr>\n",
              "  </tbody>\n",
              "</table>\n",
              "</div>\n",
              "      <button class=\"colab-df-convert\" onclick=\"convertToInteractive('df-28bac4d9-bdd0-46df-b865-eeb69fbabc85')\"\n",
              "              title=\"Convert this dataframe to an interactive table.\"\n",
              "              style=\"display:none;\">\n",
              "        \n",
              "  <svg xmlns=\"http://www.w3.org/2000/svg\" height=\"24px\"viewBox=\"0 0 24 24\"\n",
              "       width=\"24px\">\n",
              "    <path d=\"M0 0h24v24H0V0z\" fill=\"none\"/>\n",
              "    <path d=\"M18.56 5.44l.94 2.06.94-2.06 2.06-.94-2.06-.94-.94-2.06-.94 2.06-2.06.94zm-11 1L8.5 8.5l.94-2.06 2.06-.94-2.06-.94L8.5 2.5l-.94 2.06-2.06.94zm10 10l.94 2.06.94-2.06 2.06-.94-2.06-.94-.94-2.06-.94 2.06-2.06.94z\"/><path d=\"M17.41 7.96l-1.37-1.37c-.4-.4-.92-.59-1.43-.59-.52 0-1.04.2-1.43.59L10.3 9.45l-7.72 7.72c-.78.78-.78 2.05 0 2.83L4 21.41c.39.39.9.59 1.41.59.51 0 1.02-.2 1.41-.59l7.78-7.78 2.81-2.81c.8-.78.8-2.07 0-2.86zM5.41 20L4 18.59l7.72-7.72 1.47 1.35L5.41 20z\"/>\n",
              "  </svg>\n",
              "      </button>\n",
              "      \n",
              "  <style>\n",
              "    .colab-df-container {\n",
              "      display:flex;\n",
              "      flex-wrap:wrap;\n",
              "      gap: 12px;\n",
              "    }\n",
              "\n",
              "    .colab-df-convert {\n",
              "      background-color: #E8F0FE;\n",
              "      border: none;\n",
              "      border-radius: 50%;\n",
              "      cursor: pointer;\n",
              "      display: none;\n",
              "      fill: #1967D2;\n",
              "      height: 32px;\n",
              "      padding: 0 0 0 0;\n",
              "      width: 32px;\n",
              "    }\n",
              "\n",
              "    .colab-df-convert:hover {\n",
              "      background-color: #E2EBFA;\n",
              "      box-shadow: 0px 1px 2px rgba(60, 64, 67, 0.3), 0px 1px 3px 1px rgba(60, 64, 67, 0.15);\n",
              "      fill: #174EA6;\n",
              "    }\n",
              "\n",
              "    [theme=dark] .colab-df-convert {\n",
              "      background-color: #3B4455;\n",
              "      fill: #D2E3FC;\n",
              "    }\n",
              "\n",
              "    [theme=dark] .colab-df-convert:hover {\n",
              "      background-color: #434B5C;\n",
              "      box-shadow: 0px 1px 3px 1px rgba(0, 0, 0, 0.15);\n",
              "      filter: drop-shadow(0px 1px 2px rgba(0, 0, 0, 0.3));\n",
              "      fill: #FFFFFF;\n",
              "    }\n",
              "  </style>\n",
              "\n",
              "      <script>\n",
              "        const buttonEl =\n",
              "          document.querySelector('#df-28bac4d9-bdd0-46df-b865-eeb69fbabc85 button.colab-df-convert');\n",
              "        buttonEl.style.display =\n",
              "          google.colab.kernel.accessAllowed ? 'block' : 'none';\n",
              "\n",
              "        async function convertToInteractive(key) {\n",
              "          const element = document.querySelector('#df-28bac4d9-bdd0-46df-b865-eeb69fbabc85');\n",
              "          const dataTable =\n",
              "            await google.colab.kernel.invokeFunction('convertToInteractive',\n",
              "                                                     [key], {});\n",
              "          if (!dataTable) return;\n",
              "\n",
              "          const docLinkHtml = 'Like what you see? Visit the ' +\n",
              "            '<a target=\"_blank\" href=https://colab.research.google.com/notebooks/data_table.ipynb>data table notebook</a>'\n",
              "            + ' to learn more about interactive tables.';\n",
              "          element.innerHTML = '';\n",
              "          dataTable['output_type'] = 'display_data';\n",
              "          await google.colab.output.renderOutput(dataTable, element);\n",
              "          const docLink = document.createElement('div');\n",
              "          docLink.innerHTML = docLinkHtml;\n",
              "          element.appendChild(docLink);\n",
              "        }\n",
              "      </script>\n",
              "    </div>\n",
              "  </div>\n",
              "  "
            ],
            "text/plain": [
              "         0         1         2   ...        13        14        15\n",
              "0 -0.363795 -0.193074 -0.273387  ... -0.402736 -0.220694 -0.442753\n",
              "1 -0.363795 -0.193074 -0.252413  ... -0.410508 -0.198736 -0.445335\n",
              "2 -0.363795 -0.193074 -0.273387  ... -0.402736 -0.213595 -0.440956\n",
              "3 -0.363795 -0.193074 -0.252413  ... -0.379421 -0.255736 -0.445335\n",
              "4 -0.363795 -0.193074 -0.189492  ... -0.363877 -0.265665 -0.450139\n",
              "5 -0.363795 -0.193074 -0.273387  ... -0.402736 -0.220694 -0.442753\n",
              "6 -0.363795 -0.193074 -0.189492  ... -0.363877 -0.265665 -0.450139\n",
              "\n",
              "[7 rows x 16 columns]"
            ]
          },
          "metadata": {},
          "execution_count": 36
        }
      ],
      "source": [
        "df_matriz_g_final = pd.DataFrame(matriz_g_final)\n",
        "df_matriz_g_final"
      ]
    },
    {
      "cell_type": "code",
      "execution_count": null,
      "metadata": {
        "id": "K8lcy3bIvF_V",
        "colab": {
          "base_uri": "https://localhost:8080/",
          "height": 454
        },
        "outputId": "f90a4654-4cec-4b46-8680-f52a0dd2f066"
      },
      "outputs": [
        {
          "output_type": "execute_result",
          "data": {
            "text/html": [
              "\n",
              "  <div id=\"df-e5b36366-44cc-429b-a7bf-3fb879d70405\">\n",
              "    <div class=\"colab-df-container\">\n",
              "      <div>\n",
              "<style scoped>\n",
              "    .dataframe tbody tr th:only-of-type {\n",
              "        vertical-align: middle;\n",
              "    }\n",
              "\n",
              "    .dataframe tbody tr th {\n",
              "        vertical-align: top;\n",
              "    }\n",
              "\n",
              "    .dataframe thead th {\n",
              "        text-align: right;\n",
              "    }\n",
              "</style>\n",
              "<table border=\"1\" class=\"dataframe\">\n",
              "  <thead>\n",
              "    <tr style=\"text-align: right;\">\n",
              "      <th></th>\n",
              "      <th>0</th>\n",
              "      <th>1</th>\n",
              "      <th>2</th>\n",
              "      <th>3</th>\n",
              "      <th>4</th>\n",
              "      <th>5</th>\n",
              "      <th>6</th>\n",
              "      <th>7</th>\n",
              "      <th>8</th>\n",
              "      <th>9</th>\n",
              "      <th>10</th>\n",
              "      <th>11</th>\n",
              "      <th>12</th>\n",
              "      <th>13</th>\n",
              "      <th>14</th>\n",
              "      <th>15</th>\n",
              "    </tr>\n",
              "  </thead>\n",
              "  <tbody>\n",
              "    <tr>\n",
              "      <th>0</th>\n",
              "      <td>0.000038</td>\n",
              "      <td>0.000231</td>\n",
              "      <td>5.436585e-05</td>\n",
              "      <td>0.493859</td>\n",
              "      <td>1.146819e-04</td>\n",
              "      <td>0.505702</td>\n",
              "      <td>1.436884e-09</td>\n",
              "      <td>1.531602e-09</td>\n",
              "      <td>6.385070e-10</td>\n",
              "      <td>2.230339e-09</td>\n",
              "      <td>5.909716e-10</td>\n",
              "      <td>6.993654e-11</td>\n",
              "      <td>4.361646e-10</td>\n",
              "      <td>8.328978e-10</td>\n",
              "      <td>1.416461e-09</td>\n",
              "      <td>2.239239e-07</td>\n",
              "    </tr>\n",
              "    <tr>\n",
              "      <th>1</th>\n",
              "      <td>0.000072</td>\n",
              "      <td>0.000098</td>\n",
              "      <td>2.567926e-05</td>\n",
              "      <td>0.323608</td>\n",
              "      <td>1.877964e-04</td>\n",
              "      <td>0.676008</td>\n",
              "      <td>2.419095e-09</td>\n",
              "      <td>2.530824e-09</td>\n",
              "      <td>1.084331e-09</td>\n",
              "      <td>3.734419e-09</td>\n",
              "      <td>9.850155e-10</td>\n",
              "      <td>1.185914e-10</td>\n",
              "      <td>6.903977e-10</td>\n",
              "      <td>1.396063e-09</td>\n",
              "      <td>1.572517e-09</td>\n",
              "      <td>4.112081e-07</td>\n",
              "    </tr>\n",
              "    <tr>\n",
              "      <th>2</th>\n",
              "      <td>0.000010</td>\n",
              "      <td>0.501974</td>\n",
              "      <td>2.187361e-05</td>\n",
              "      <td>0.262543</td>\n",
              "      <td>4.461154e-05</td>\n",
              "      <td>0.235406</td>\n",
              "      <td>3.654128e-10</td>\n",
              "      <td>3.961220e-10</td>\n",
              "      <td>1.545459e-10</td>\n",
              "      <td>5.692869e-10</td>\n",
              "      <td>1.197339e-10</td>\n",
              "      <td>1.350770e-11</td>\n",
              "      <td>8.508646e-11</td>\n",
              "      <td>2.072323e-10</td>\n",
              "      <td>3.086359e-10</td>\n",
              "      <td>3.503371e-08</td>\n",
              "    </tr>\n",
              "    <tr>\n",
              "      <th>3</th>\n",
              "      <td>0.000101</td>\n",
              "      <td>0.000037</td>\n",
              "      <td>4.689073e-05</td>\n",
              "      <td>0.985558</td>\n",
              "      <td>5.773903e-07</td>\n",
              "      <td>0.014256</td>\n",
              "      <td>2.193906e-09</td>\n",
              "      <td>2.351933e-09</td>\n",
              "      <td>9.786787e-10</td>\n",
              "      <td>3.589834e-09</td>\n",
              "      <td>9.790306e-10</td>\n",
              "      <td>1.297669e-10</td>\n",
              "      <td>7.617626e-10</td>\n",
              "      <td>1.303932e-09</td>\n",
              "      <td>1.618913e-09</td>\n",
              "      <td>4.285996e-07</td>\n",
              "    </tr>\n",
              "    <tr>\n",
              "      <th>4</th>\n",
              "      <td>0.000016</td>\n",
              "      <td>0.999702</td>\n",
              "      <td>1.377573e-09</td>\n",
              "      <td>0.000170</td>\n",
              "      <td>3.507951e-10</td>\n",
              "      <td>0.000113</td>\n",
              "      <td>7.688357e-11</td>\n",
              "      <td>8.847362e-11</td>\n",
              "      <td>2.866300e-11</td>\n",
              "      <td>1.455915e-10</td>\n",
              "      <td>2.069211e-11</td>\n",
              "      <td>1.949786e-12</td>\n",
              "      <td>1.354553e-11</td>\n",
              "      <td>4.066570e-11</td>\n",
              "      <td>1.768037e-11</td>\n",
              "      <td>1.997940e-08</td>\n",
              "    </tr>\n",
              "    <tr>\n",
              "      <th>5</th>\n",
              "      <td>0.000038</td>\n",
              "      <td>0.000231</td>\n",
              "      <td>5.436585e-05</td>\n",
              "      <td>0.493859</td>\n",
              "      <td>1.146819e-04</td>\n",
              "      <td>0.505702</td>\n",
              "      <td>1.436884e-09</td>\n",
              "      <td>1.531602e-09</td>\n",
              "      <td>6.385070e-10</td>\n",
              "      <td>2.230339e-09</td>\n",
              "      <td>5.909716e-10</td>\n",
              "      <td>6.993654e-11</td>\n",
              "      <td>4.361646e-10</td>\n",
              "      <td>8.328978e-10</td>\n",
              "      <td>1.416461e-09</td>\n",
              "      <td>2.239239e-07</td>\n",
              "    </tr>\n",
              "    <tr>\n",
              "      <th>6</th>\n",
              "      <td>0.000016</td>\n",
              "      <td>0.999702</td>\n",
              "      <td>1.377573e-09</td>\n",
              "      <td>0.000170</td>\n",
              "      <td>3.507951e-10</td>\n",
              "      <td>0.000113</td>\n",
              "      <td>7.688357e-11</td>\n",
              "      <td>8.847362e-11</td>\n",
              "      <td>2.866300e-11</td>\n",
              "      <td>1.455915e-10</td>\n",
              "      <td>2.069211e-11</td>\n",
              "      <td>1.949786e-12</td>\n",
              "      <td>1.354553e-11</td>\n",
              "      <td>4.066570e-11</td>\n",
              "      <td>1.768037e-11</td>\n",
              "      <td>1.997940e-08</td>\n",
              "    </tr>\n",
              "  </tbody>\n",
              "</table>\n",
              "</div>\n",
              "      <button class=\"colab-df-convert\" onclick=\"convertToInteractive('df-e5b36366-44cc-429b-a7bf-3fb879d70405')\"\n",
              "              title=\"Convert this dataframe to an interactive table.\"\n",
              "              style=\"display:none;\">\n",
              "        \n",
              "  <svg xmlns=\"http://www.w3.org/2000/svg\" height=\"24px\"viewBox=\"0 0 24 24\"\n",
              "       width=\"24px\">\n",
              "    <path d=\"M0 0h24v24H0V0z\" fill=\"none\"/>\n",
              "    <path d=\"M18.56 5.44l.94 2.06.94-2.06 2.06-.94-2.06-.94-.94-2.06-.94 2.06-2.06.94zm-11 1L8.5 8.5l.94-2.06 2.06-.94-2.06-.94L8.5 2.5l-.94 2.06-2.06.94zm10 10l.94 2.06.94-2.06 2.06-.94-2.06-.94-.94-2.06-.94 2.06-2.06.94z\"/><path d=\"M17.41 7.96l-1.37-1.37c-.4-.4-.92-.59-1.43-.59-.52 0-1.04.2-1.43.59L10.3 9.45l-7.72 7.72c-.78.78-.78 2.05 0 2.83L4 21.41c.39.39.9.59 1.41.59.51 0 1.02-.2 1.41-.59l7.78-7.78 2.81-2.81c.8-.78.8-2.07 0-2.86zM5.41 20L4 18.59l7.72-7.72 1.47 1.35L5.41 20z\"/>\n",
              "  </svg>\n",
              "      </button>\n",
              "      \n",
              "  <style>\n",
              "    .colab-df-container {\n",
              "      display:flex;\n",
              "      flex-wrap:wrap;\n",
              "      gap: 12px;\n",
              "    }\n",
              "\n",
              "    .colab-df-convert {\n",
              "      background-color: #E8F0FE;\n",
              "      border: none;\n",
              "      border-radius: 50%;\n",
              "      cursor: pointer;\n",
              "      display: none;\n",
              "      fill: #1967D2;\n",
              "      height: 32px;\n",
              "      padding: 0 0 0 0;\n",
              "      width: 32px;\n",
              "    }\n",
              "\n",
              "    .colab-df-convert:hover {\n",
              "      background-color: #E2EBFA;\n",
              "      box-shadow: 0px 1px 2px rgba(60, 64, 67, 0.3), 0px 1px 3px 1px rgba(60, 64, 67, 0.15);\n",
              "      fill: #174EA6;\n",
              "    }\n",
              "\n",
              "    [theme=dark] .colab-df-convert {\n",
              "      background-color: #3B4455;\n",
              "      fill: #D2E3FC;\n",
              "    }\n",
              "\n",
              "    [theme=dark] .colab-df-convert:hover {\n",
              "      background-color: #434B5C;\n",
              "      box-shadow: 0px 1px 3px 1px rgba(0, 0, 0, 0.15);\n",
              "      filter: drop-shadow(0px 1px 2px rgba(0, 0, 0, 0.3));\n",
              "      fill: #FFFFFF;\n",
              "    }\n",
              "  </style>\n",
              "\n",
              "      <script>\n",
              "        const buttonEl =\n",
              "          document.querySelector('#df-e5b36366-44cc-429b-a7bf-3fb879d70405 button.colab-df-convert');\n",
              "        buttonEl.style.display =\n",
              "          google.colab.kernel.accessAllowed ? 'block' : 'none';\n",
              "\n",
              "        async function convertToInteractive(key) {\n",
              "          const element = document.querySelector('#df-e5b36366-44cc-429b-a7bf-3fb879d70405');\n",
              "          const dataTable =\n",
              "            await google.colab.kernel.invokeFunction('convertToInteractive',\n",
              "                                                     [key], {});\n",
              "          if (!dataTable) return;\n",
              "\n",
              "          const docLinkHtml = 'Like what you see? Visit the ' +\n",
              "            '<a target=\"_blank\" href=https://colab.research.google.com/notebooks/data_table.ipynb>data table notebook</a>'\n",
              "            + ' to learn more about interactive tables.';\n",
              "          element.innerHTML = '';\n",
              "          dataTable['output_type'] = 'display_data';\n",
              "          await google.colab.output.renderOutput(dataTable, element);\n",
              "          const docLink = document.createElement('div');\n",
              "          docLink.innerHTML = docLinkHtml;\n",
              "          element.appendChild(docLink);\n",
              "        }\n",
              "      </script>\n",
              "    </div>\n",
              "  </div>\n",
              "  "
            ],
            "text/plain": [
              "         0         1             2   ...            13            14            15\n",
              "0  0.000038  0.000231  5.436585e-05  ...  8.328978e-10  1.416461e-09  2.239239e-07\n",
              "1  0.000072  0.000098  2.567926e-05  ...  1.396063e-09  1.572517e-09  4.112081e-07\n",
              "2  0.000010  0.501974  2.187361e-05  ...  2.072323e-10  3.086359e-10  3.503371e-08\n",
              "3  0.000101  0.000037  4.689073e-05  ...  1.303932e-09  1.618913e-09  4.285996e-07\n",
              "4  0.000016  0.999702  1.377573e-09  ...  4.066570e-11  1.768037e-11  1.997940e-08\n",
              "5  0.000038  0.000231  5.436585e-05  ...  8.328978e-10  1.416461e-09  2.239239e-07\n",
              "6  0.000016  0.999702  1.377573e-09  ...  4.066570e-11  1.768037e-11  1.997940e-08\n",
              "\n",
              "[7 rows x 16 columns]"
            ]
          },
          "metadata": {},
          "execution_count": 37
        }
      ],
      "source": [
        "df_matriz_v_final = pd.DataFrame(matriz_v_final)\n",
        "df_matriz_v_final"
      ]
    },
    {
      "cell_type": "code",
      "execution_count": null,
      "metadata": {
        "id": "FHjqm5suz0nA",
        "colab": {
          "base_uri": "https://localhost:8080/",
          "height": 423
        },
        "outputId": "255d3e71-9c08-44cf-e473-3d9cd2b0dbe8"
      },
      "outputs": [
        {
          "output_type": "execute_result",
          "data": {
            "text/html": [
              "\n",
              "  <div id=\"df-2fec0820-fa3c-4166-bd4a-528331dac08f\">\n",
              "    <div class=\"colab-df-container\">\n",
              "      <div>\n",
              "<style scoped>\n",
              "    .dataframe tbody tr th:only-of-type {\n",
              "        vertical-align: middle;\n",
              "    }\n",
              "\n",
              "    .dataframe tbody tr th {\n",
              "        vertical-align: top;\n",
              "    }\n",
              "\n",
              "    .dataframe thead th {\n",
              "        text-align: right;\n",
              "    }\n",
              "</style>\n",
              "<table border=\"1\" class=\"dataframe\">\n",
              "  <thead>\n",
              "    <tr style=\"text-align: right;\">\n",
              "      <th></th>\n",
              "      <th>0</th>\n",
              "      <th>1</th>\n",
              "      <th>2</th>\n",
              "      <th>3</th>\n",
              "      <th>4</th>\n",
              "      <th>5</th>\n",
              "      <th>6</th>\n",
              "    </tr>\n",
              "  </thead>\n",
              "  <tbody>\n",
              "    <tr>\n",
              "      <th>0</th>\n",
              "      <td>0.140723</td>\n",
              "      <td>0.139808</td>\n",
              "      <td>0.143604</td>\n",
              "      <td>0.142196</td>\n",
              "      <td>0.146473</td>\n",
              "      <td>0.140723</td>\n",
              "      <td>0.146473</td>\n",
              "    </tr>\n",
              "    <tr>\n",
              "      <th>1</th>\n",
              "      <td>0.141809</td>\n",
              "      <td>0.141487</td>\n",
              "      <td>0.143423</td>\n",
              "      <td>0.142075</td>\n",
              "      <td>0.144699</td>\n",
              "      <td>0.141809</td>\n",
              "      <td>0.144699</td>\n",
              "    </tr>\n",
              "    <tr>\n",
              "      <th>2</th>\n",
              "      <td>0.132673</td>\n",
              "      <td>0.137184</td>\n",
              "      <td>0.147231</td>\n",
              "      <td>0.121047</td>\n",
              "      <td>0.164596</td>\n",
              "      <td>0.132673</td>\n",
              "      <td>0.164596</td>\n",
              "    </tr>\n",
              "    <tr>\n",
              "      <th>3</th>\n",
              "      <td>0.140793</td>\n",
              "      <td>0.143325</td>\n",
              "      <td>0.144151</td>\n",
              "      <td>0.134233</td>\n",
              "      <td>0.148353</td>\n",
              "      <td>0.140793</td>\n",
              "      <td>0.148353</td>\n",
              "    </tr>\n",
              "    <tr>\n",
              "      <th>4</th>\n",
              "      <td>0.141937</td>\n",
              "      <td>0.141693</td>\n",
              "      <td>0.143343</td>\n",
              "      <td>0.141412</td>\n",
              "      <td>0.144839</td>\n",
              "      <td>0.141937</td>\n",
              "      <td>0.144839</td>\n",
              "    </tr>\n",
              "    <tr>\n",
              "      <th>...</th>\n",
              "      <td>...</td>\n",
              "      <td>...</td>\n",
              "      <td>...</td>\n",
              "      <td>...</td>\n",
              "      <td>...</td>\n",
              "      <td>...</td>\n",
              "      <td>...</td>\n",
              "    </tr>\n",
              "    <tr>\n",
              "      <th>2095</th>\n",
              "      <td>0.140649</td>\n",
              "      <td>0.140021</td>\n",
              "      <td>0.143359</td>\n",
              "      <td>0.143662</td>\n",
              "      <td>0.145830</td>\n",
              "      <td>0.140649</td>\n",
              "      <td>0.145830</td>\n",
              "    </tr>\n",
              "    <tr>\n",
              "      <th>2096</th>\n",
              "      <td>0.132479</td>\n",
              "      <td>0.135797</td>\n",
              "      <td>0.147271</td>\n",
              "      <td>0.123822</td>\n",
              "      <td>0.164075</td>\n",
              "      <td>0.132479</td>\n",
              "      <td>0.164075</td>\n",
              "    </tr>\n",
              "    <tr>\n",
              "      <th>2097</th>\n",
              "      <td>0.136227</td>\n",
              "      <td>0.135779</td>\n",
              "      <td>0.145412</td>\n",
              "      <td>0.136889</td>\n",
              "      <td>0.154732</td>\n",
              "      <td>0.136227</td>\n",
              "      <td>0.154732</td>\n",
              "    </tr>\n",
              "    <tr>\n",
              "      <th>2098</th>\n",
              "      <td>0.136174</td>\n",
              "      <td>0.138750</td>\n",
              "      <td>0.145822</td>\n",
              "      <td>0.130128</td>\n",
              "      <td>0.156476</td>\n",
              "      <td>0.136174</td>\n",
              "      <td>0.156476</td>\n",
              "    </tr>\n",
              "    <tr>\n",
              "      <th>2099</th>\n",
              "      <td>0.141260</td>\n",
              "      <td>0.143158</td>\n",
              "      <td>0.143934</td>\n",
              "      <td>0.136385</td>\n",
              "      <td>0.147002</td>\n",
              "      <td>0.141260</td>\n",
              "      <td>0.147002</td>\n",
              "    </tr>\n",
              "  </tbody>\n",
              "</table>\n",
              "<p>2100 rows × 7 columns</p>\n",
              "</div>\n",
              "      <button class=\"colab-df-convert\" onclick=\"convertToInteractive('df-2fec0820-fa3c-4166-bd4a-528331dac08f')\"\n",
              "              title=\"Convert this dataframe to an interactive table.\"\n",
              "              style=\"display:none;\">\n",
              "        \n",
              "  <svg xmlns=\"http://www.w3.org/2000/svg\" height=\"24px\"viewBox=\"0 0 24 24\"\n",
              "       width=\"24px\">\n",
              "    <path d=\"M0 0h24v24H0V0z\" fill=\"none\"/>\n",
              "    <path d=\"M18.56 5.44l.94 2.06.94-2.06 2.06-.94-2.06-.94-.94-2.06-.94 2.06-2.06.94zm-11 1L8.5 8.5l.94-2.06 2.06-.94-2.06-.94L8.5 2.5l-.94 2.06-2.06.94zm10 10l.94 2.06.94-2.06 2.06-.94-2.06-.94-.94-2.06-.94 2.06-2.06.94z\"/><path d=\"M17.41 7.96l-1.37-1.37c-.4-.4-.92-.59-1.43-.59-.52 0-1.04.2-1.43.59L10.3 9.45l-7.72 7.72c-.78.78-.78 2.05 0 2.83L4 21.41c.39.39.9.59 1.41.59.51 0 1.02-.2 1.41-.59l7.78-7.78 2.81-2.81c.8-.78.8-2.07 0-2.86zM5.41 20L4 18.59l7.72-7.72 1.47 1.35L5.41 20z\"/>\n",
              "  </svg>\n",
              "      </button>\n",
              "      \n",
              "  <style>\n",
              "    .colab-df-container {\n",
              "      display:flex;\n",
              "      flex-wrap:wrap;\n",
              "      gap: 12px;\n",
              "    }\n",
              "\n",
              "    .colab-df-convert {\n",
              "      background-color: #E8F0FE;\n",
              "      border: none;\n",
              "      border-radius: 50%;\n",
              "      cursor: pointer;\n",
              "      display: none;\n",
              "      fill: #1967D2;\n",
              "      height: 32px;\n",
              "      padding: 0 0 0 0;\n",
              "      width: 32px;\n",
              "    }\n",
              "\n",
              "    .colab-df-convert:hover {\n",
              "      background-color: #E2EBFA;\n",
              "      box-shadow: 0px 1px 2px rgba(60, 64, 67, 0.3), 0px 1px 3px 1px rgba(60, 64, 67, 0.15);\n",
              "      fill: #174EA6;\n",
              "    }\n",
              "\n",
              "    [theme=dark] .colab-df-convert {\n",
              "      background-color: #3B4455;\n",
              "      fill: #D2E3FC;\n",
              "    }\n",
              "\n",
              "    [theme=dark] .colab-df-convert:hover {\n",
              "      background-color: #434B5C;\n",
              "      box-shadow: 0px 1px 3px 1px rgba(0, 0, 0, 0.15);\n",
              "      filter: drop-shadow(0px 1px 2px rgba(0, 0, 0, 0.3));\n",
              "      fill: #FFFFFF;\n",
              "    }\n",
              "  </style>\n",
              "\n",
              "      <script>\n",
              "        const buttonEl =\n",
              "          document.querySelector('#df-2fec0820-fa3c-4166-bd4a-528331dac08f button.colab-df-convert');\n",
              "        buttonEl.style.display =\n",
              "          google.colab.kernel.accessAllowed ? 'block' : 'none';\n",
              "\n",
              "        async function convertToInteractive(key) {\n",
              "          const element = document.querySelector('#df-2fec0820-fa3c-4166-bd4a-528331dac08f');\n",
              "          const dataTable =\n",
              "            await google.colab.kernel.invokeFunction('convertToInteractive',\n",
              "                                                     [key], {});\n",
              "          if (!dataTable) return;\n",
              "\n",
              "          const docLinkHtml = 'Like what you see? Visit the ' +\n",
              "            '<a target=\"_blank\" href=https://colab.research.google.com/notebooks/data_table.ipynb>data table notebook</a>'\n",
              "            + ' to learn more about interactive tables.';\n",
              "          element.innerHTML = '';\n",
              "          dataTable['output_type'] = 'display_data';\n",
              "          await google.colab.output.renderOutput(dataTable, element);\n",
              "          const docLink = document.createElement('div');\n",
              "          docLink.innerHTML = docLinkHtml;\n",
              "          element.appendChild(docLink);\n",
              "        }\n",
              "      </script>\n",
              "    </div>\n",
              "  </div>\n",
              "  "
            ],
            "text/plain": [
              "             0         1         2         3         4         5         6\n",
              "0     0.140723  0.139808  0.143604  0.142196  0.146473  0.140723  0.146473\n",
              "1     0.141809  0.141487  0.143423  0.142075  0.144699  0.141809  0.144699\n",
              "2     0.132673  0.137184  0.147231  0.121047  0.164596  0.132673  0.164596\n",
              "3     0.140793  0.143325  0.144151  0.134233  0.148353  0.140793  0.148353\n",
              "4     0.141937  0.141693  0.143343  0.141412  0.144839  0.141937  0.144839\n",
              "...        ...       ...       ...       ...       ...       ...       ...\n",
              "2095  0.140649  0.140021  0.143359  0.143662  0.145830  0.140649  0.145830\n",
              "2096  0.132479  0.135797  0.147271  0.123822  0.164075  0.132479  0.164075\n",
              "2097  0.136227  0.135779  0.145412  0.136889  0.154732  0.136227  0.154732\n",
              "2098  0.136174  0.138750  0.145822  0.130128  0.156476  0.136174  0.156476\n",
              "2099  0.141260  0.143158  0.143934  0.136385  0.147002  0.141260  0.147002\n",
              "\n",
              "[2100 rows x 7 columns]"
            ]
          },
          "metadata": {},
          "execution_count": 38
        }
      ],
      "source": [
        "df_matriz_u_final = pd.DataFrame(matriz_u_final)\n",
        "df_matriz_u_final"
      ]
    },
    {
      "cell_type": "markdown",
      "source": [
        "____\n",
        "Calculo do Modified partition coefficient\n",
        "___"
      ],
      "metadata": {
        "id": "Ywem03MXieBF"
      }
    },
    {
      "cell_type": "code",
      "execution_count": null,
      "metadata": {
        "id": "IcLDgl0zxJ8x",
        "colab": {
          "base_uri": "https://localhost:8080/"
        },
        "outputId": "d57b76cf-8620-4c26-91f9-4155ba945bb6"
      },
      "outputs": [
        {
          "output_type": "execute_result",
          "data": {
            "text/plain": [
              "0.5350485762987356"
            ]
          },
          "metadata": {},
          "execution_count": 39
        }
      ],
      "source": [
        "MPC(matriz_u_final)"
      ]
    },
    {
      "cell_type": "markdown",
      "source": [
        "____\n",
        "Calculo do Partition entropy\n",
        "___"
      ],
      "metadata": {
        "id": "vSxou9M0iv8S"
      }
    },
    {
      "cell_type": "code",
      "execution_count": null,
      "metadata": {
        "id": "s0yCSoxT0-ou",
        "colab": {
          "base_uri": "https://localhost:8080/"
        },
        "outputId": "3eabe084-d178-46b8-c4a6-057b54ad16b0"
      },
      "outputs": [
        {
          "output_type": "execute_result",
          "data": {
            "text/plain": [
              "7.344767156516437"
            ]
          },
          "metadata": {},
          "execution_count": 40
        }
      ],
      "source": [
        "VPE(matriz_u_final)"
      ]
    },
    {
      "cell_type": "markdown",
      "source": [
        "____\n",
        "Calculo do crisp e calculo do índice de Rand corrigido e a F-measure (adaptada para agrupamento)\n",
        "___"
      ],
      "metadata": {
        "id": "QVG_65N7jPUK"
      }
    },
    {
      "cell_type": "code",
      "execution_count": null,
      "metadata": {
        "id": "hShhopMRwzu_",
        "colab": {
          "base_uri": "https://localhost:8080/"
        },
        "outputId": "13f1ab83-2de8-41a9-fb8c-208018f77eb2"
      },
      "outputs": [
        {
          "output_type": "execute_result",
          "data": {
            "text/plain": [
              "array([4, 4, 4, ..., 4, 4, 4])"
            ]
          },
          "metadata": {},
          "execution_count": 41
        }
      ],
      "source": [
        "crisp_completo= crisp_partition(matriz_u_final, c)\n",
        "crisp_completo"
      ]
    },
    {
      "cell_type": "markdown",
      "source": [
        "___\n",
        "F-measure\n",
        "___"
      ],
      "metadata": {
        "id": "5uCg6X7SaMYa"
      }
    },
    {
      "cell_type": "code",
      "source": [
        "f1_score(y_train, crisp_completo,average='weighted')"
      ],
      "metadata": {
        "colab": {
          "base_uri": "https://localhost:8080/"
        },
        "id": "fuJchPkwZWJX",
        "outputId": "ef630cef-e755-4ced-e83b-4db9d62c572e"
      },
      "execution_count": null,
      "outputs": [
        {
          "output_type": "execute_result",
          "data": {
            "text/plain": [
              "0.03822895925123188"
            ]
          },
          "metadata": {},
          "execution_count": 43
        }
      ]
    },
    {
      "cell_type": "code",
      "source": [
        "adjusted_rand_score(y_train, crisp_completo)"
      ],
      "metadata": {
        "colab": {
          "base_uri": "https://localhost:8080/"
        },
        "id": "1plF_MkJaVNa",
        "outputId": "3ad96eb0-2660-46ef-f636-2e8e0b66b127"
      },
      "execution_count": null,
      "outputs": [
        {
          "output_type": "execute_result",
          "data": {
            "text/plain": [
              "0.0007496603658785016"
            ]
          },
          "metadata": {},
          "execution_count": 44
        }
      ]
    },
    {
      "cell_type": "code",
      "source": [
        "sns.heatmap(confusion_matrix(y_train,crisp_completo),annot=True,vmax=300);"
      ],
      "metadata": {
        "colab": {
          "base_uri": "https://localhost:8080/",
          "height": 269
        },
        "id": "_Eu3nBnVNK2u",
        "outputId": "3d426fbb-6d6f-426d-b081-f4c90eeb0fef"
      },
      "execution_count": null,
      "outputs": [
        {
          "output_type": "display_data",
          "data": {
            "image/png": "[encoded data removed]",
            "text/plain": [
              "<Figure size 432x288 with 2 Axes>"
            ]
          },
          "metadata": {
            "needs_background": "light"
          }
        }
      ]
    },
    {
      "cell_type": "markdown",
      "source": [
        "#### Dataframe 1"
      ],
      "metadata": {
        "id": "lP3k2CiwkMrv"
      }
    },
    {
      "cell_type": "markdown",
      "metadata": {
        "id": "oUNjoGXUkMrw"
      },
      "source": [
        "____\n",
        "Variaveis iniciais\n",
        "____"
      ]
    },
    {
      "cell_type": "code",
      "execution_count": null,
      "metadata": {
        "id": "uODVocP3kMrx"
      },
      "outputs": [],
      "source": [
        "matriz_x = X_train1\n",
        "c = 7\n",
        "E = 10 ** -10\n",
        "T = 150"
      ]
    },
    {
      "cell_type": "markdown",
      "metadata": {
        "id": "CLNXoetYkMrx"
      },
      "source": [
        "___\n",
        "Algoritmo para encontrar as matrizes e calcular sua função objetivo\n",
        "___"
      ]
    },
    {
      "cell_type": "code",
      "execution_count": null,
      "metadata": {
        "id": "6dcLiqiokMry"
      },
      "outputs": [],
      "source": [
        "temp = 10000 #Valor qualquer alto\n",
        "i=0 #Interador da função objetivo -> 50\n",
        "\n",
        "while(i < 50):\n",
        "  matriz_u = random_matriz_u(matriz_x,c) # Aleatorizando a matriz U\n",
        "  i += 1 #Interação de i\n",
        "\n",
        "  for a in range(0, T):\n",
        "    Tv = 10\n",
        "    Tu = 0.1\n",
        "    U_temp = matriz_u.copy() #copia para fazer o teste. Será o Ui-1\n",
        "\n",
        "    matriz_g = calc_matriz_g(matriz_x, matriz_u) #Matriz G\n",
        "\n",
        "    matriz_v = calc_matriz_v(matriz_x,matriz_u ,matriz_g,Tv = Tv) #Matriz V\n",
        "\n",
        "    matriz_u = calc_matriz_u(matriz_x, matriz_g, matriz_v, Tu = Tu) #Matriz U\n",
        "\n",
        "    matriz_test_U = np.abs(matriz_u - U_temp) #Matriz para teste do E (condição de parada)\n",
        "\n",
        "    if matriz_test_U.max() < E:\n",
        "      aux1 = JEFCMLS1(matriz_u, matriz_x, matriz_v, matriz_g, Tu = Tu, Tv = Tv)\n",
        "      # Calculo da função objetivo\n",
        "      if aux1 < temp: #Se a função objetivo for menor que a anterior, as matrizes são salvas\n",
        "\n",
        "        matriz_g_final1 = matriz_g.copy()\n",
        "        matriz_v_final1 = matriz_v.copy()\n",
        "        matriz_u_final1 = matriz_u.copy()\n",
        "        temp = aux1\n",
        "        matriz_u = random_matriz_u(matriz_x,c)\n",
        "        #Aleatoriza novamente a matriz U para uma proxima interação\n",
        "      print('Interação do objetivo ',i, 'foram calculados em ',a, 'Interções')\n",
        "      break"
      ]
    },
    {
      "cell_type": "markdown",
      "metadata": {
        "id": "jCVsQJ6AkMrz"
      },
      "source": [
        "___\n",
        "Visualização das matrizes final.\n",
        "___"
      ]
    },
    {
      "cell_type": "code",
      "execution_count": null,
      "metadata": {
        "id": "glBzP6e8kMrz"
      },
      "outputs": [],
      "source": [
        "df_matriz_g_final1 = pd.DataFrame(matriz_g_final1)\n",
        "df_matriz_g_final1"
      ]
    },
    {
      "cell_type": "code",
      "execution_count": null,
      "metadata": {
        "id": "ZfWDeXcLkMr0"
      },
      "outputs": [],
      "source": [
        "df_matriz_v_final1 = pd.DataFrame(matriz_v_final1)\n",
        "df_matriz_v_final1"
      ]
    },
    {
      "cell_type": "code",
      "execution_count": null,
      "metadata": {
        "id": "PAEv-LB4kMr0"
      },
      "outputs": [],
      "source": [
        "df_matriz_u_final1 = pd.DataFrame(matriz_u_final1)\n",
        "df_matriz_u_final1"
      ]
    },
    {
      "cell_type": "markdown",
      "source": [
        "____\n",
        "Calculo do Modified partition coefficient\n",
        "___"
      ],
      "metadata": {
        "id": "s8S2Gc86kMr0"
      }
    },
    {
      "cell_type": "code",
      "execution_count": null,
      "metadata": {
        "id": "IBpA44-mkMr1"
      },
      "outputs": [],
      "source": [
        "MPC(matriz_u_final1)"
      ]
    },
    {
      "cell_type": "markdown",
      "source": [
        "____\n",
        "Calculo do Partition entropy\n",
        "___"
      ],
      "metadata": {
        "id": "760IPf0gkMr1"
      }
    },
    {
      "cell_type": "code",
      "execution_count": null,
      "metadata": {
        "id": "xJXM7P_bkMr2"
      },
      "outputs": [],
      "source": [
        "VPE(matriz_u_final1)"
      ]
    },
    {
      "cell_type": "markdown",
      "source": [
        "____\n",
        "Calculo do crisp e calculo do índice de Rand corrigido e a F-measure (adaptada para agrupamento)\n",
        "___"
      ],
      "metadata": {
        "id": "sp3PFoK1kMr2"
      }
    },
    {
      "cell_type": "code",
      "execution_count": null,
      "metadata": {
        "id": "Wy6633jMkMr3"
      },
      "outputs": [],
      "source": [
        "crisp_completo1= crisp_partition(matriz_u_final1, c)\n",
        "crisp_completo1"
      ]
    },
    {
      "cell_type": "code",
      "source": [
        "df_crisp_completo1 = pd.DataFrame(crisp_completo1)\n",
        "df_crisp_completo1.value_counts(normalize = True, ascending=False)"
      ],
      "metadata": {
        "id": "ZFZu9lHO0q-S"
      },
      "execution_count": null,
      "outputs": []
    },
    {
      "cell_type": "markdown",
      "source": [
        "___\n",
        "F-measure\n",
        "___"
      ],
      "metadata": {
        "id": "86qLAheI5pPK"
      }
    },
    {
      "cell_type": "code",
      "source": [
        "f1_score(y_train, crisp_completo1,average='weighted')"
      ],
      "metadata": {
        "id": "ezrE2jiO5zLV"
      },
      "execution_count": null,
      "outputs": []
    },
    {
      "cell_type": "markdown",
      "source": [
        "___\n",
        "Rand\n",
        "___"
      ],
      "metadata": {
        "id": "s91tU7a5541_"
      }
    },
    {
      "cell_type": "code",
      "source": [
        "adjusted_rand_score(y_train, crisp_completo1)"
      ],
      "metadata": {
        "id": "drYWVQxT57ql"
      },
      "execution_count": null,
      "outputs": []
    },
    {
      "cell_type": "markdown",
      "source": [
        "___\n",
        "Matriz de confusão\n",
        "___"
      ],
      "metadata": {
        "id": "GB2jIHI9xLJc"
      }
    },
    {
      "cell_type": "code",
      "source": [
        "sns.heatmap(confusion_matrix(y_train,crisp_completo1),annot=True,vmax=300);"
      ],
      "metadata": {
        "id": "Ktaq3PiCxJ94"
      },
      "execution_count": null,
      "outputs": []
    },
    {
      "cell_type": "markdown",
      "source": [
        "#### Dataframe 2"
      ],
      "metadata": {
        "id": "hEdj8lgikn2P"
      }
    },
    {
      "cell_type": "markdown",
      "metadata": {
        "id": "gfzk19aBkn2Q"
      },
      "source": [
        "____\n",
        "Variaveis iniciais\n",
        "____"
      ]
    },
    {
      "cell_type": "code",
      "execution_count": null,
      "metadata": {
        "id": "vnBFmUOVkn2R"
      },
      "outputs": [],
      "source": [
        "matriz_x = X_train2\n",
        "c = 7\n",
        "E = 10 ** -10\n",
        "T = 150"
      ]
    },
    {
      "cell_type": "markdown",
      "metadata": {
        "id": "OYRr67vwkn2R"
      },
      "source": [
        "___\n",
        "Algoritmo para encontrar as matrizes e calcular sua função objetivo\n",
        "___"
      ]
    },
    {
      "cell_type": "code",
      "execution_count": null,
      "metadata": {
        "id": "rrdC1VISkn2S",
        "colab": {
          "base_uri": "https://localhost:8080/"
        },
        "outputId": "8fe6403c-f7e0-4080-d0e1-40101bd80078"
      },
      "outputs": [
        {
          "output_type": "stream",
          "name": "stdout",
          "text": [
            "Interação em função objetivo  1 foram calculados em  54 Interções\n",
            "Interação em função objetivo  2 foram calculados em  49 Interções\n",
            "Interação em função objetivo  3 foram calculados em  31 Interções\n",
            "Interação em função objetivo  4 foram calculados em  53 Interções\n",
            "Interação em função objetivo  5 foram calculados em  23 Interções\n",
            "Interação em função objetivo  6 foram calculados em  21 Interções\n",
            "Interação em função objetivo  7 foram calculados em  46 Interções\n",
            "Interação em função objetivo  8 foram calculados em  27 Interções\n",
            "Interação em função objetivo  9 foram calculados em  43 Interções\n",
            "Interação em função objetivo  10 foram calculados em  28 Interções\n",
            "Interação em função objetivo  11 foram calculados em  47 Interções\n",
            "Interação em função objetivo  12 foram calculados em  44 Interções\n",
            "Interação em função objetivo  13 foram calculados em  42 Interções\n",
            "Interação em função objetivo  14 foram calculados em  53 Interções\n",
            "Interação em função objetivo  15 foram calculados em  31 Interções\n",
            "Interação em função objetivo  16 foram calculados em  50 Interções\n",
            "Interação em função objetivo  17 foram calculados em  45 Interções\n",
            "Interação em função objetivo  18 foram calculados em  56 Interções\n",
            "Interação em função objetivo  19 foram calculados em  24 Interções\n",
            "Interação em função objetivo  20 foram calculados em  55 Interções\n",
            "Interação em função objetivo  21 foram calculados em  43 Interções\n",
            "Interação em função objetivo  22 foram calculados em  22 Interções\n",
            "Interação em função objetivo  23 foram calculados em  52 Interções\n",
            "Interação em função objetivo  24 foram calculados em  47 Interções\n",
            "Interação em função objetivo  25 foram calculados em  41 Interções\n",
            "Interação em função objetivo  26 foram calculados em  40 Interções\n",
            "Interação em função objetivo  27 foram calculados em  49 Interções\n",
            "Interação em função objetivo  28 foram calculados em  52 Interções\n",
            "Interação em função objetivo  29 foram calculados em  35 Interções\n",
            "Interação em função objetivo  30 foram calculados em  48 Interções\n",
            "Interação em função objetivo  31 foram calculados em  43 Interções\n",
            "Interação em função objetivo  32 foram calculados em  32 Interções\n",
            "Interação em função objetivo  33 foram calculados em  38 Interções\n",
            "Interação em função objetivo  34 foram calculados em  54 Interções\n",
            "Interação em função objetivo  35 foram calculados em  49 Interções\n",
            "Interação em função objetivo  36 foram calculados em  47 Interções\n",
            "Interação em função objetivo  37 foram calculados em  64 Interções\n",
            "Interação em função objetivo  38 foram calculados em  28 Interções\n",
            "Interação em função objetivo  39 foram calculados em  34 Interções\n",
            "Interação em função objetivo  40 foram calculados em  46 Interções\n",
            "Interação em função objetivo  41 foram calculados em  53 Interções\n",
            "Interação em função objetivo  42 foram calculados em  48 Interções\n",
            "Interação em função objetivo  43 foram calculados em  54 Interções\n",
            "Interação em função objetivo  44 foram calculados em  42 Interções\n",
            "Interação em função objetivo  45 foram calculados em  25 Interções\n",
            "Interação em função objetivo  46 foram calculados em  57 Interções\n",
            "Interação em função objetivo  47 foram calculados em  23 Interções\n",
            "Interação em função objetivo  48 foram calculados em  54 Interções\n",
            "Interação em função objetivo  49 foram calculados em  26 Interções\n",
            "Interação em função objetivo  50 foram calculados em  36 Interções\n"
          ]
        }
      ],
      "source": [
        "temp = 10000 #Valor qualquer alto\n",
        "i=0 #Interador da função objetivo -> 50\n",
        "\n",
        "while(i < 50):\n",
        "  matriz_u = random_matriz_u(matriz_x,c) # Aleatorizando a matriz U\n",
        "  i += 1 #Interação de i\n",
        "\n",
        "  for a in range(0, T):\n",
        "    Tv = 10\n",
        "    Tu = 0.1\n",
        "    U_temp = matriz_u.copy() #copia para fazer o teste. Será o Ui-1\n",
        "\n",
        "    matriz_g = calc_matriz_g(matriz_x, matriz_u) #Matriz G\n",
        "\n",
        "    matriz_v = calc_matriz_v(matriz_x,matriz_u ,matriz_g,Tv = Tv) #Matriz V\n",
        "\n",
        "    matriz_u = calc_matriz_u(matriz_x, matriz_g, matriz_v, Tu = Tu) #Matriz U\n",
        "\n",
        "    matriz_test_U = np.abs(matriz_u - U_temp) #Matriz para teste do E (condição de parada)\n",
        "\n",
        "    if matriz_test_U.max() < E:\n",
        "      aux1 = JEFCMLS1(matriz_u, matriz_x, matriz_v, matriz_g, Tu = Tu, Tv = Tv)\n",
        "      # Calculo da função objetivo\n",
        "      if aux1 < temp: #Se a função objetivo for menor que a anterior, as matrizes são salvas\n",
        "\n",
        "        matriz_g_final2 = matriz_g.copy()\n",
        "        matriz_v_final2 = matriz_v.copy()\n",
        "        matriz_u_final2 = matriz_u.copy()\n",
        "        temp = aux1\n",
        "        matriz_u = random_matriz_u(matriz_x,c)\n",
        "        #Aleatoriza novamente a matriz U para uma proxima interação\n",
        "      print('Interação em função objetivo ',i, 'foram calculados em ',a, 'Interções')\n",
        "      break"
      ]
    },
    {
      "cell_type": "markdown",
      "metadata": {
        "id": "iRplmO5Gkn2S"
      },
      "source": [
        "___\n",
        "Visualização das matrizes final.\n",
        "___"
      ]
    },
    {
      "cell_type": "code",
      "execution_count": null,
      "metadata": {
        "id": "oLxh5zOnkn2T",
        "colab": {
          "base_uri": "https://localhost:8080/"
        },
        "outputId": "0063d6ed-6121-40b7-e1ca-118e44c5b215"
      },
      "outputs": [
        {
          "output_type": "execute_result",
          "data": {
            "text/html": [
              "\n",
              "  <div id=\"df-5ea92a4f-0c55-4a85-8b90-e74525a99bfd\">\n",
              "    <div class=\"colab-df-container\">\n",
              "      <div>\n",
              "<style scoped>\n",
              "    .dataframe tbody tr th:only-of-type {\n",
              "        vertical-align: middle;\n",
              "    }\n",
              "\n",
              "    .dataframe tbody tr th {\n",
              "        vertical-align: top;\n",
              "    }\n",
              "\n",
              "    .dataframe thead th {\n",
              "        text-align: right;\n",
              "    }\n",
              "</style>\n",
              "<table border=\"1\" class=\"dataframe\">\n",
              "  <thead>\n",
              "    <tr style=\"text-align: right;\">\n",
              "      <th></th>\n",
              "      <th>0</th>\n",
              "      <th>1</th>\n",
              "      <th>2</th>\n",
              "      <th>3</th>\n",
              "      <th>4</th>\n",
              "      <th>5</th>\n",
              "      <th>6</th>\n",
              "      <th>7</th>\n",
              "      <th>8</th>\n",
              "      <th>9</th>\n",
              "    </tr>\n",
              "  </thead>\n",
              "  <tbody>\n",
              "    <tr>\n",
              "      <th>0</th>\n",
              "      <td>-0.450052</td>\n",
              "      <td>-0.410511</td>\n",
              "      <td>-0.487487</td>\n",
              "      <td>-0.450555</td>\n",
              "      <td>0.474797</td>\n",
              "      <td>-0.538683</td>\n",
              "      <td>0.026395</td>\n",
              "      <td>-0.457138</td>\n",
              "      <td>-0.086916</td>\n",
              "      <td>-0.014068</td>\n",
              "    </tr>\n",
              "    <tr>\n",
              "      <th>1</th>\n",
              "      <td>0.145436</td>\n",
              "      <td>0.148439</td>\n",
              "      <td>0.174075</td>\n",
              "      <td>0.100483</td>\n",
              "      <td>-0.129409</td>\n",
              "      <td>0.394338</td>\n",
              "      <td>-0.481082</td>\n",
              "      <td>0.154240</td>\n",
              "      <td>-0.520106</td>\n",
              "      <td>-0.472336</td>\n",
              "    </tr>\n",
              "    <tr>\n",
              "      <th>2</th>\n",
              "      <td>0.461152</td>\n",
              "      <td>0.440618</td>\n",
              "      <td>0.529122</td>\n",
              "      <td>0.372941</td>\n",
              "      <td>-0.608937</td>\n",
              "      <td>0.671417</td>\n",
              "      <td>-0.375757</td>\n",
              "      <td>0.514331</td>\n",
              "      <td>-0.579738</td>\n",
              "      <td>-0.589830</td>\n",
              "    </tr>\n",
              "    <tr>\n",
              "      <th>3</th>\n",
              "      <td>0.145436</td>\n",
              "      <td>0.148439</td>\n",
              "      <td>0.174075</td>\n",
              "      <td>0.100483</td>\n",
              "      <td>-0.129409</td>\n",
              "      <td>0.394338</td>\n",
              "      <td>-0.481082</td>\n",
              "      <td>0.154240</td>\n",
              "      <td>-0.520106</td>\n",
              "      <td>-0.472336</td>\n",
              "    </tr>\n",
              "    <tr>\n",
              "      <th>4</th>\n",
              "      <td>-0.586052</td>\n",
              "      <td>-0.604238</td>\n",
              "      <td>-0.699493</td>\n",
              "      <td>-0.459739</td>\n",
              "      <td>0.407663</td>\n",
              "      <td>-1.234208</td>\n",
              "      <td>1.749904</td>\n",
              "      <td>-0.604802</td>\n",
              "      <td>-0.022367</td>\n",
              "      <td>2.228176</td>\n",
              "    </tr>\n",
              "    <tr>\n",
              "      <th>5</th>\n",
              "      <td>-0.825996</td>\n",
              "      <td>-0.763031</td>\n",
              "      <td>-0.865522</td>\n",
              "      <td>-0.851589</td>\n",
              "      <td>1.098184</td>\n",
              "      <td>-0.951474</td>\n",
              "      <td>0.380672</td>\n",
              "      <td>-0.879403</td>\n",
              "      <td>0.577573</td>\n",
              "      <td>0.273713</td>\n",
              "    </tr>\n",
              "    <tr>\n",
              "      <th>6</th>\n",
              "      <td>0.145436</td>\n",
              "      <td>0.148439</td>\n",
              "      <td>0.174075</td>\n",
              "      <td>0.100483</td>\n",
              "      <td>-0.129409</td>\n",
              "      <td>0.394338</td>\n",
              "      <td>-0.481082</td>\n",
              "      <td>0.154240</td>\n",
              "      <td>-0.520106</td>\n",
              "      <td>-0.472336</td>\n",
              "    </tr>\n",
              "  </tbody>\n",
              "</table>\n",
              "</div>\n",
              "      <button class=\"colab-df-convert\" onclick=\"convertToInteractive('df-5ea92a4f-0c55-4a85-8b90-e74525a99bfd')\"\n",
              "              title=\"Convert this dataframe to an interactive table.\"\n",
              "              style=\"display:none;\">\n",
              "        \n",
              "  <svg xmlns=\"http://www.w3.org/2000/svg\" height=\"24px\"viewBox=\"0 0 24 24\"\n",
              "       width=\"24px\">\n",
              "    <path d=\"M0 0h24v24H0V0z\" fill=\"none\"/>\n",
              "    <path d=\"M18.56 5.44l.94 2.06.94-2.06 2.06-.94-2.06-.94-.94-2.06-.94 2.06-2.06.94zm-11 1L8.5 8.5l.94-2.06 2.06-.94-2.06-.94L8.5 2.5l-.94 2.06-2.06.94zm10 10l.94 2.06.94-2.06 2.06-.94-2.06-.94-.94-2.06-.94 2.06-2.06.94z\"/><path d=\"M17.41 7.96l-1.37-1.37c-.4-.4-.92-.59-1.43-.59-.52 0-1.04.2-1.43.59L10.3 9.45l-7.72 7.72c-.78.78-.78 2.05 0 2.83L4 21.41c.39.39.9.59 1.41.59.51 0 1.02-.2 1.41-.59l7.78-7.78 2.81-2.81c.8-.78.8-2.07 0-2.86zM5.41 20L4 18.59l7.72-7.72 1.47 1.35L5.41 20z\"/>\n",
              "  </svg>\n",
              "      </button>\n",
              "      \n",
              "  <style>\n",
              "    .colab-df-container {\n",
              "      display:flex;\n",
              "      flex-wrap:wrap;\n",
              "      gap: 12px;\n",
              "    }\n",
              "\n",
              "    .colab-df-convert {\n",
              "      background-color: #E8F0FE;\n",
              "      border: none;\n",
              "      border-radius: 50%;\n",
              "      cursor: pointer;\n",
              "      display: none;\n",
              "      fill: #1967D2;\n",
              "      height: 32px;\n",
              "      padding: 0 0 0 0;\n",
              "      width: 32px;\n",
              "    }\n",
              "\n",
              "    .colab-df-convert:hover {\n",
              "      background-color: #E2EBFA;\n",
              "      box-shadow: 0px 1px 2px rgba(60, 64, 67, 0.3), 0px 1px 3px 1px rgba(60, 64, 67, 0.15);\n",
              "      fill: #174EA6;\n",
              "    }\n",
              "\n",
              "    [theme=dark] .colab-df-convert {\n",
              "      background-color: #3B4455;\n",
              "      fill: #D2E3FC;\n",
              "    }\n",
              "\n",
              "    [theme=dark] .colab-df-convert:hover {\n",
              "      background-color: #434B5C;\n",
              "      box-shadow: 0px 1px 3px 1px rgba(0, 0, 0, 0.15);\n",
              "      filter: drop-shadow(0px 1px 2px rgba(0, 0, 0, 0.3));\n",
              "      fill: #FFFFFF;\n",
              "    }\n",
              "  </style>\n",
              "\n",
              "      <script>\n",
              "        const buttonEl =\n",
              "          document.querySelector('#df-5ea92a4f-0c55-4a85-8b90-e74525a99bfd button.colab-df-convert');\n",
              "        buttonEl.style.display =\n",
              "          google.colab.kernel.accessAllowed ? 'block' : 'none';\n",
              "\n",
              "        async function convertToInteractive(key) {\n",
              "          const element = document.querySelector('#df-5ea92a4f-0c55-4a85-8b90-e74525a99bfd');\n",
              "          const dataTable =\n",
              "            await google.colab.kernel.invokeFunction('convertToInteractive',\n",
              "                                                     [key], {});\n",
              "          if (!dataTable) return;\n",
              "\n",
              "          const docLinkHtml = 'Like what you see? Visit the ' +\n",
              "            '<a target=\"_blank\" href=https://colab.research.google.com/notebooks/data_table.ipynb>data table notebook</a>'\n",
              "            + ' to learn more about interactive tables.';\n",
              "          element.innerHTML = '';\n",
              "          dataTable['output_type'] = 'display_data';\n",
              "          await google.colab.output.renderOutput(dataTable, element);\n",
              "          const docLink = document.createElement('div');\n",
              "          docLink.innerHTML = docLinkHtml;\n",
              "          element.appendChild(docLink);\n",
              "        }\n",
              "      </script>\n",
              "    </div>\n",
              "  </div>\n",
              "  "
            ],
            "text/plain": [
              "          0         1         2  ...         7         8         9\n",
              "0 -0.450052 -0.410511 -0.487487  ... -0.457138 -0.086916 -0.014068\n",
              "1  0.145436  0.148439  0.174075  ...  0.154240 -0.520106 -0.472336\n",
              "2  0.461152  0.440618  0.529122  ...  0.514331 -0.579738 -0.589830\n",
              "3  0.145436  0.148439  0.174075  ...  0.154240 -0.520106 -0.472336\n",
              "4 -0.586052 -0.604238 -0.699493  ... -0.604802 -0.022367  2.228176\n",
              "5 -0.825996 -0.763031 -0.865522  ... -0.879403  0.577573  0.273713\n",
              "6  0.145436  0.148439  0.174075  ...  0.154240 -0.520106 -0.472336\n",
              "\n",
              "[7 rows x 10 columns]"
            ]
          },
          "metadata": {},
          "execution_count": 46
        }
      ],
      "source": [
        "df_matriz_g_final2 = pd.DataFrame(matriz_g_final2)\n",
        "df_matriz_g_final2"
      ]
    },
    {
      "cell_type": "code",
      "execution_count": null,
      "metadata": {
        "id": "UjhZpesHkn2T",
        "colab": {
          "base_uri": "https://localhost:8080/"
        },
        "outputId": "b3f618ce-d650-4e11-bd88-efcacca4910d"
      },
      "outputs": [
        {
          "output_type": "execute_result",
          "data": {
            "text/html": [
              "\n",
              "  <div id=\"df-89e1c897-7c4b-4957-b211-951d6c753724\">\n",
              "    <div class=\"colab-df-container\">\n",
              "      <div>\n",
              "<style scoped>\n",
              "    .dataframe tbody tr th:only-of-type {\n",
              "        vertical-align: middle;\n",
              "    }\n",
              "\n",
              "    .dataframe tbody tr th {\n",
              "        vertical-align: top;\n",
              "    }\n",
              "\n",
              "    .dataframe thead th {\n",
              "        text-align: right;\n",
              "    }\n",
              "</style>\n",
              "<table border=\"1\" class=\"dataframe\">\n",
              "  <thead>\n",
              "    <tr style=\"text-align: right;\">\n",
              "      <th></th>\n",
              "      <th>0</th>\n",
              "      <th>1</th>\n",
              "      <th>2</th>\n",
              "      <th>3</th>\n",
              "      <th>4</th>\n",
              "      <th>5</th>\n",
              "      <th>6</th>\n",
              "      <th>7</th>\n",
              "      <th>8</th>\n",
              "      <th>9</th>\n",
              "    </tr>\n",
              "  </thead>\n",
              "  <tbody>\n",
              "    <tr>\n",
              "      <th>0</th>\n",
              "      <td>3.125822e-01</td>\n",
              "      <td>2.003738e-01</td>\n",
              "      <td>1.132533e-01</td>\n",
              "      <td>1.034094e-01</td>\n",
              "      <td>5.616085e-05</td>\n",
              "      <td>4.881509e-06</td>\n",
              "      <td>1.345441e-12</td>\n",
              "      <td>2.480832e-01</td>\n",
              "      <td>2.223699e-02</td>\n",
              "      <td>3.238805e-12</td>\n",
              "    </tr>\n",
              "    <tr>\n",
              "      <th>1</th>\n",
              "      <td>5.663794e-11</td>\n",
              "      <td>5.492937e-11</td>\n",
              "      <td>4.852430e-11</td>\n",
              "      <td>8.431765e-11</td>\n",
              "      <td>3.828937e-10</td>\n",
              "      <td>7.122915e-10</td>\n",
              "      <td>1.242289e-07</td>\n",
              "      <td>3.351969e-11</td>\n",
              "      <td>3.564212e-10</td>\n",
              "      <td>9.999999e-01</td>\n",
              "    </tr>\n",
              "    <tr>\n",
              "      <th>2</th>\n",
              "      <td>4.373235e-16</td>\n",
              "      <td>3.303645e-16</td>\n",
              "      <td>1.402803e-15</td>\n",
              "      <td>2.088349e-16</td>\n",
              "      <td>7.152162e-13</td>\n",
              "      <td>1.363071e-10</td>\n",
              "      <td>2.908724e-06</td>\n",
              "      <td>8.384863e-16</td>\n",
              "      <td>8.345246e-11</td>\n",
              "      <td>9.999971e-01</td>\n",
              "    </tr>\n",
              "    <tr>\n",
              "      <th>3</th>\n",
              "      <td>5.663794e-11</td>\n",
              "      <td>5.492937e-11</td>\n",
              "      <td>4.852430e-11</td>\n",
              "      <td>8.431765e-11</td>\n",
              "      <td>3.828937e-10</td>\n",
              "      <td>7.122915e-10</td>\n",
              "      <td>1.242289e-07</td>\n",
              "      <td>3.351969e-11</td>\n",
              "      <td>3.564212e-10</td>\n",
              "      <td>9.999999e-01</td>\n",
              "    </tr>\n",
              "    <tr>\n",
              "      <th>4</th>\n",
              "      <td>2.485604e-01</td>\n",
              "      <td>2.319135e-01</td>\n",
              "      <td>1.849592e-01</td>\n",
              "      <td>1.206543e-01</td>\n",
              "      <td>8.740162e-04</td>\n",
              "      <td>3.503573e-04</td>\n",
              "      <td>2.242496e-08</td>\n",
              "      <td>2.119251e-01</td>\n",
              "      <td>7.631220e-04</td>\n",
              "      <td>1.271339e-09</td>\n",
              "    </tr>\n",
              "    <tr>\n",
              "      <th>5</th>\n",
              "      <td>2.429865e-01</td>\n",
              "      <td>1.557337e-01</td>\n",
              "      <td>2.834923e-01</td>\n",
              "      <td>1.454790e-01</td>\n",
              "      <td>3.100404e-05</td>\n",
              "      <td>3.599303e-03</td>\n",
              "      <td>3.956776e-06</td>\n",
              "      <td>1.686743e-01</td>\n",
              "      <td>2.849387e-10</td>\n",
              "      <td>3.589574e-09</td>\n",
              "    </tr>\n",
              "    <tr>\n",
              "      <th>6</th>\n",
              "      <td>5.663794e-11</td>\n",
              "      <td>5.492937e-11</td>\n",
              "      <td>4.852430e-11</td>\n",
              "      <td>8.431765e-11</td>\n",
              "      <td>3.828937e-10</td>\n",
              "      <td>7.122915e-10</td>\n",
              "      <td>1.242289e-07</td>\n",
              "      <td>3.351969e-11</td>\n",
              "      <td>3.564212e-10</td>\n",
              "      <td>9.999999e-01</td>\n",
              "    </tr>\n",
              "  </tbody>\n",
              "</table>\n",
              "</div>\n",
              "      <button class=\"colab-df-convert\" onclick=\"convertToInteractive('df-89e1c897-7c4b-4957-b211-951d6c753724')\"\n",
              "              title=\"Convert this dataframe to an interactive table.\"\n",
              "              style=\"display:none;\">\n",
              "        \n",
              "  <svg xmlns=\"http://www.w3.org/2000/svg\" height=\"24px\"viewBox=\"0 0 24 24\"\n",
              "       width=\"24px\">\n",
              "    <path d=\"M0 0h24v24H0V0z\" fill=\"none\"/>\n",
              "    <path d=\"M18.56 5.44l.94 2.06.94-2.06 2.06-.94-2.06-.94-.94-2.06-.94 2.06-2.06.94zm-11 1L8.5 8.5l.94-2.06 2.06-.94-2.06-.94L8.5 2.5l-.94 2.06-2.06.94zm10 10l.94 2.06.94-2.06 2.06-.94-2.06-.94-.94-2.06-.94 2.06-2.06.94z\"/><path d=\"M17.41 7.96l-1.37-1.37c-.4-.4-.92-.59-1.43-.59-.52 0-1.04.2-1.43.59L10.3 9.45l-7.72 7.72c-.78.78-.78 2.05 0 2.83L4 21.41c.39.39.9.59 1.41.59.51 0 1.02-.2 1.41-.59l7.78-7.78 2.81-2.81c.8-.78.8-2.07 0-2.86zM5.41 20L4 18.59l7.72-7.72 1.47 1.35L5.41 20z\"/>\n",
              "  </svg>\n",
              "      </button>\n",
              "      \n",
              "  <style>\n",
              "    .colab-df-container {\n",
              "      display:flex;\n",
              "      flex-wrap:wrap;\n",
              "      gap: 12px;\n",
              "    }\n",
              "\n",
              "    .colab-df-convert {\n",
              "      background-color: #E8F0FE;\n",
              "      border: none;\n",
              "      border-radius: 50%;\n",
              "      cursor: pointer;\n",
              "      display: none;\n",
              "      fill: #1967D2;\n",
              "      height: 32px;\n",
              "      padding: 0 0 0 0;\n",
              "      width: 32px;\n",
              "    }\n",
              "\n",
              "    .colab-df-convert:hover {\n",
              "      background-color: #E2EBFA;\n",
              "      box-shadow: 0px 1px 2px rgba(60, 64, 67, 0.3), 0px 1px 3px 1px rgba(60, 64, 67, 0.15);\n",
              "      fill: #174EA6;\n",
              "    }\n",
              "\n",
              "    [theme=dark] .colab-df-convert {\n",
              "      background-color: #3B4455;\n",
              "      fill: #D2E3FC;\n",
              "    }\n",
              "\n",
              "    [theme=dark] .colab-df-convert:hover {\n",
              "      background-color: #434B5C;\n",
              "      box-shadow: 0px 1px 3px 1px rgba(0, 0, 0, 0.15);\n",
              "      filter: drop-shadow(0px 1px 2px rgba(0, 0, 0, 0.3));\n",
              "      fill: #FFFFFF;\n",
              "    }\n",
              "  </style>\n",
              "\n",
              "      <script>\n",
              "        const buttonEl =\n",
              "          document.querySelector('#df-89e1c897-7c4b-4957-b211-951d6c753724 button.colab-df-convert');\n",
              "        buttonEl.style.display =\n",
              "          google.colab.kernel.accessAllowed ? 'block' : 'none';\n",
              "\n",
              "        async function convertToInteractive(key) {\n",
              "          const element = document.querySelector('#df-89e1c897-7c4b-4957-b211-951d6c753724');\n",
              "          const dataTable =\n",
              "            await google.colab.kernel.invokeFunction('convertToInteractive',\n",
              "                                                     [key], {});\n",
              "          if (!dataTable) return;\n",
              "\n",
              "          const docLinkHtml = 'Like what you see? Visit the ' +\n",
              "            '<a target=\"_blank\" href=https://colab.research.google.com/notebooks/data_table.ipynb>data table notebook</a>'\n",
              "            + ' to learn more about interactive tables.';\n",
              "          element.innerHTML = '';\n",
              "          dataTable['output_type'] = 'display_data';\n",
              "          await google.colab.output.renderOutput(dataTable, element);\n",
              "          const docLink = document.createElement('div');\n",
              "          docLink.innerHTML = docLinkHtml;\n",
              "          element.appendChild(docLink);\n",
              "        }\n",
              "      </script>\n",
              "    </div>\n",
              "  </div>\n",
              "  "
            ],
            "text/plain": [
              "              0             1  ...             8             9\n",
              "0  3.125822e-01  2.003738e-01  ...  2.223699e-02  3.238805e-12\n",
              "1  5.663794e-11  5.492937e-11  ...  3.564212e-10  9.999999e-01\n",
              "2  4.373235e-16  3.303645e-16  ...  8.345246e-11  9.999971e-01\n",
              "3  5.663794e-11  5.492937e-11  ...  3.564212e-10  9.999999e-01\n",
              "4  2.485604e-01  2.319135e-01  ...  7.631220e-04  1.271339e-09\n",
              "5  2.429865e-01  1.557337e-01  ...  2.849387e-10  3.589574e-09\n",
              "6  5.663794e-11  5.492937e-11  ...  3.564212e-10  9.999999e-01\n",
              "\n",
              "[7 rows x 10 columns]"
            ]
          },
          "metadata": {},
          "execution_count": 47
        }
      ],
      "source": [
        "df_matriz_v_final2 = pd.DataFrame(matriz_v_final2)\n",
        "df_matriz_v_final2"
      ]
    },
    {
      "cell_type": "code",
      "execution_count": null,
      "metadata": {
        "id": "yfbOFMKwkn2T",
        "colab": {
          "base_uri": "https://localhost:8080/"
        },
        "outputId": "0fb71e3e-7bbe-4321-f991-e8e60336acf8"
      },
      "outputs": [
        {
          "output_type": "execute_result",
          "data": {
            "text/html": [
              "\n",
              "  <div id=\"df-4859a197-3759-4986-8b9c-5f8e64a43532\">\n",
              "    <div class=\"colab-df-container\">\n",
              "      <div>\n",
              "<style scoped>\n",
              "    .dataframe tbody tr th:only-of-type {\n",
              "        vertical-align: middle;\n",
              "    }\n",
              "\n",
              "    .dataframe tbody tr th {\n",
              "        vertical-align: top;\n",
              "    }\n",
              "\n",
              "    .dataframe thead th {\n",
              "        text-align: right;\n",
              "    }\n",
              "</style>\n",
              "<table border=\"1\" class=\"dataframe\">\n",
              "  <thead>\n",
              "    <tr style=\"text-align: right;\">\n",
              "      <th></th>\n",
              "      <th>0</th>\n",
              "      <th>1</th>\n",
              "      <th>2</th>\n",
              "      <th>3</th>\n",
              "      <th>4</th>\n",
              "      <th>5</th>\n",
              "      <th>6</th>\n",
              "    </tr>\n",
              "  </thead>\n",
              "  <tbody>\n",
              "    <tr>\n",
              "      <th>0</th>\n",
              "      <td>0.161198</td>\n",
              "      <td>5.742389e-12</td>\n",
              "      <td>1.773477e-12</td>\n",
              "      <td>5.742389e-12</td>\n",
              "      <td>0.686686</td>\n",
              "      <td>0.152116</td>\n",
              "      <td>5.742389e-12</td>\n",
              "    </tr>\n",
              "    <tr>\n",
              "      <th>1</th>\n",
              "      <td>0.174389</td>\n",
              "      <td>4.170817e-12</td>\n",
              "      <td>1.288116e-12</td>\n",
              "      <td>4.170817e-12</td>\n",
              "      <td>0.715484</td>\n",
              "      <td>0.110127</td>\n",
              "      <td>4.170817e-12</td>\n",
              "    </tr>\n",
              "    <tr>\n",
              "      <th>2</th>\n",
              "      <td>0.150424</td>\n",
              "      <td>3.742332e-12</td>\n",
              "      <td>1.155789e-12</td>\n",
              "      <td>3.742332e-12</td>\n",
              "      <td>0.652566</td>\n",
              "      <td>0.197010</td>\n",
              "      <td>3.742332e-12</td>\n",
              "    </tr>\n",
              "    <tr>\n",
              "      <th>3</th>\n",
              "      <td>0.158693</td>\n",
              "      <td>7.309510e-12</td>\n",
              "      <td>2.257470e-12</td>\n",
              "      <td>7.309510e-12</td>\n",
              "      <td>0.676654</td>\n",
              "      <td>0.164653</td>\n",
              "      <td>7.309510e-12</td>\n",
              "    </tr>\n",
              "    <tr>\n",
              "      <th>4</th>\n",
              "      <td>0.289512</td>\n",
              "      <td>7.743071e-12</td>\n",
              "      <td>2.391369e-12</td>\n",
              "      <td>7.743071e-12</td>\n",
              "      <td>0.632773</td>\n",
              "      <td>0.077715</td>\n",
              "      <td>7.743071e-12</td>\n",
              "    </tr>\n",
              "    <tr>\n",
              "      <th>...</th>\n",
              "      <td>...</td>\n",
              "      <td>...</td>\n",
              "      <td>...</td>\n",
              "      <td>...</td>\n",
              "      <td>...</td>\n",
              "      <td>...</td>\n",
              "      <td>...</td>\n",
              "    </tr>\n",
              "    <tr>\n",
              "      <th>2095</th>\n",
              "      <td>0.017676</td>\n",
              "      <td>2.119159e-01</td>\n",
              "      <td>6.544720e-02</td>\n",
              "      <td>2.119159e-01</td>\n",
              "      <td>0.085060</td>\n",
              "      <td>0.196069</td>\n",
              "      <td>2.119159e-01</td>\n",
              "    </tr>\n",
              "    <tr>\n",
              "      <th>2096</th>\n",
              "      <td>0.014836</td>\n",
              "      <td>2.361639e-01</td>\n",
              "      <td>7.293560e-02</td>\n",
              "      <td>2.361639e-01</td>\n",
              "      <td>0.069105</td>\n",
              "      <td>0.134631</td>\n",
              "      <td>2.361639e-01</td>\n",
              "    </tr>\n",
              "    <tr>\n",
              "      <th>2097</th>\n",
              "      <td>0.012956</td>\n",
              "      <td>2.141764e-01</td>\n",
              "      <td>6.614525e-02</td>\n",
              "      <td>2.141764e-01</td>\n",
              "      <td>0.063261</td>\n",
              "      <td>0.215109</td>\n",
              "      <td>2.141764e-01</td>\n",
              "    </tr>\n",
              "    <tr>\n",
              "      <th>2098</th>\n",
              "      <td>0.024241</td>\n",
              "      <td>1.966858e-01</td>\n",
              "      <td>6.074367e-02</td>\n",
              "      <td>1.966858e-01</td>\n",
              "      <td>0.115021</td>\n",
              "      <td>0.209937</td>\n",
              "      <td>1.966858e-01</td>\n",
              "    </tr>\n",
              "    <tr>\n",
              "      <th>2099</th>\n",
              "      <td>0.025746</td>\n",
              "      <td>2.329093e-01</td>\n",
              "      <td>7.193076e-02</td>\n",
              "      <td>2.329093e-01</td>\n",
              "      <td>0.112869</td>\n",
              "      <td>0.090727</td>\n",
              "      <td>2.329093e-01</td>\n",
              "    </tr>\n",
              "  </tbody>\n",
              "</table>\n",
              "<p>2100 rows × 7 columns</p>\n",
              "</div>\n",
              "      <button class=\"colab-df-convert\" onclick=\"convertToInteractive('df-4859a197-3759-4986-8b9c-5f8e64a43532')\"\n",
              "              title=\"Convert this dataframe to an interactive table.\"\n",
              "              style=\"display:none;\">\n",
              "        \n",
              "  <svg xmlns=\"http://www.w3.org/2000/svg\" height=\"24px\"viewBox=\"0 0 24 24\"\n",
              "       width=\"24px\">\n",
              "    <path d=\"M0 0h24v24H0V0z\" fill=\"none\"/>\n",
              "    <path d=\"M18.56 5.44l.94 2.06.94-2.06 2.06-.94-2.06-.94-.94-2.06-.94 2.06-2.06.94zm-11 1L8.5 8.5l.94-2.06 2.06-.94-2.06-.94L8.5 2.5l-.94 2.06-2.06.94zm10 10l.94 2.06.94-2.06 2.06-.94-2.06-.94-.94-2.06-.94 2.06-2.06.94z\"/><path d=\"M17.41 7.96l-1.37-1.37c-.4-.4-.92-.59-1.43-.59-.52 0-1.04.2-1.43.59L10.3 9.45l-7.72 7.72c-.78.78-.78 2.05 0 2.83L4 21.41c.39.39.9.59 1.41.59.51 0 1.02-.2 1.41-.59l7.78-7.78 2.81-2.81c.8-.78.8-2.07 0-2.86zM5.41 20L4 18.59l7.72-7.72 1.47 1.35L5.41 20z\"/>\n",
              "  </svg>\n",
              "      </button>\n",
              "      \n",
              "  <style>\n",
              "    .colab-df-container {\n",
              "      display:flex;\n",
              "      flex-wrap:wrap;\n",
              "      gap: 12px;\n",
              "    }\n",
              "\n",
              "    .colab-df-convert {\n",
              "      background-color: #E8F0FE;\n",
              "      border: none;\n",
              "      border-radius: 50%;\n",
              "      cursor: pointer;\n",
              "      display: none;\n",
              "      fill: #1967D2;\n",
              "      height: 32px;\n",
              "      padding: 0 0 0 0;\n",
              "      width: 32px;\n",
              "    }\n",
              "\n",
              "    .colab-df-convert:hover {\n",
              "      background-color: #E2EBFA;\n",
              "      box-shadow: 0px 1px 2px rgba(60, 64, 67, 0.3), 0px 1px 3px 1px rgba(60, 64, 67, 0.15);\n",
              "      fill: #174EA6;\n",
              "    }\n",
              "\n",
              "    [theme=dark] .colab-df-convert {\n",
              "      background-color: #3B4455;\n",
              "      fill: #D2E3FC;\n",
              "    }\n",
              "\n",
              "    [theme=dark] .colab-df-convert:hover {\n",
              "      background-color: #434B5C;\n",
              "      box-shadow: 0px 1px 3px 1px rgba(0, 0, 0, 0.15);\n",
              "      filter: drop-shadow(0px 1px 2px rgba(0, 0, 0, 0.3));\n",
              "      fill: #FFFFFF;\n",
              "    }\n",
              "  </style>\n",
              "\n",
              "      <script>\n",
              "        const buttonEl =\n",
              "          document.querySelector('#df-4859a197-3759-4986-8b9c-5f8e64a43532 button.colab-df-convert');\n",
              "        buttonEl.style.display =\n",
              "          google.colab.kernel.accessAllowed ? 'block' : 'none';\n",
              "\n",
              "        async function convertToInteractive(key) {\n",
              "          const element = document.querySelector('#df-4859a197-3759-4986-8b9c-5f8e64a43532');\n",
              "          const dataTable =\n",
              "            await google.colab.kernel.invokeFunction('convertToInteractive',\n",
              "                                                     [key], {});\n",
              "          if (!dataTable) return;\n",
              "\n",
              "          const docLinkHtml = 'Like what you see? Visit the ' +\n",
              "            '<a target=\"_blank\" href=https://colab.research.google.com/notebooks/data_table.ipynb>data table notebook</a>'\n",
              "            + ' to learn more about interactive tables.';\n",
              "          element.innerHTML = '';\n",
              "          dataTable['output_type'] = 'display_data';\n",
              "          await google.colab.output.renderOutput(dataTable, element);\n",
              "          const docLink = document.createElement('div');\n",
              "          docLink.innerHTML = docLinkHtml;\n",
              "          element.appendChild(docLink);\n",
              "        }\n",
              "      </script>\n",
              "    </div>\n",
              "  </div>\n",
              "  "
            ],
            "text/plain": [
              "             0             1             2  ...         4         5             6\n",
              "0     0.161198  5.742389e-12  1.773477e-12  ...  0.686686  0.152116  5.742389e-12\n",
              "1     0.174389  4.170817e-12  1.288116e-12  ...  0.715484  0.110127  4.170817e-12\n",
              "2     0.150424  3.742332e-12  1.155789e-12  ...  0.652566  0.197010  3.742332e-12\n",
              "3     0.158693  7.309510e-12  2.257470e-12  ...  0.676654  0.164653  7.309510e-12\n",
              "4     0.289512  7.743071e-12  2.391369e-12  ...  0.632773  0.077715  7.743071e-12\n",
              "...        ...           ...           ...  ...       ...       ...           ...\n",
              "2095  0.017676  2.119159e-01  6.544720e-02  ...  0.085060  0.196069  2.119159e-01\n",
              "2096  0.014836  2.361639e-01  7.293560e-02  ...  0.069105  0.134631  2.361639e-01\n",
              "2097  0.012956  2.141764e-01  6.614525e-02  ...  0.063261  0.215109  2.141764e-01\n",
              "2098  0.024241  1.966858e-01  6.074367e-02  ...  0.115021  0.209937  1.966858e-01\n",
              "2099  0.025746  2.329093e-01  7.193076e-02  ...  0.112869  0.090727  2.329093e-01\n",
              "\n",
              "[2100 rows x 7 columns]"
            ]
          },
          "metadata": {},
          "execution_count": 48
        }
      ],
      "source": [
        "df_matriz_u_final2 = pd.DataFrame(matriz_u_final2)\n",
        "df_matriz_u_final2"
      ]
    },
    {
      "cell_type": "markdown",
      "source": [
        "____\n",
        "Calculo do Modified partition coefficient\n",
        "___"
      ],
      "metadata": {
        "id": "ZlTKYB8ukn2U"
      }
    },
    {
      "cell_type": "code",
      "execution_count": null,
      "metadata": {
        "id": "TUwms5dNkn2U",
        "colab": {
          "base_uri": "https://localhost:8080/"
        },
        "outputId": "2410569a-a37e-4328-dc5b-cd2537c3a865"
      },
      "outputs": [
        {
          "output_type": "execute_result",
          "data": {
            "text/plain": [
              "0.2505399470684999"
            ]
          },
          "metadata": {},
          "execution_count": 49
        }
      ],
      "source": [
        "MPC(matriz_u_final2)"
      ]
    },
    {
      "cell_type": "markdown",
      "source": [
        "____\n",
        "Calculo do Partition entropy\n",
        "___"
      ],
      "metadata": {
        "id": "wQmM6pfkkn2V"
      }
    },
    {
      "cell_type": "code",
      "execution_count": null,
      "metadata": {
        "id": "jxrBFZOzkn2V",
        "colab": {
          "base_uri": "https://localhost:8080/"
        },
        "outputId": "ca0b2f85-22f2-46dc-a488-42f0657a03f1"
      },
      "outputs": [
        {
          "output_type": "execute_result",
          "data": {
            "text/plain": [
              "1.2455228328310222"
            ]
          },
          "metadata": {},
          "execution_count": 50
        }
      ],
      "source": [
        "VPE(matriz_u_final2)"
      ]
    },
    {
      "cell_type": "markdown",
      "source": [
        "____\n",
        "Calculo do crisp e calculo do índice de Rand corrigido e a F-measure (adaptada para agrupamento)\n",
        "___"
      ],
      "metadata": {
        "id": "JSMkN5Fakn2W"
      }
    },
    {
      "cell_type": "code",
      "execution_count": null,
      "metadata": {
        "id": "EyjvHlGikn2W",
        "colab": {
          "base_uri": "https://localhost:8080/"
        },
        "outputId": "a0ef4b42-3bf0-4d71-d038-c5a24f665ffa"
      },
      "outputs": [
        {
          "output_type": "execute_result",
          "data": {
            "text/plain": [
              "array([4, 4, 4, ..., 5, 5, 1])"
            ]
          },
          "metadata": {},
          "execution_count": 51
        }
      ],
      "source": [
        "crisp_completo2= crisp_partition(matriz_u_final2, c)\n",
        "crisp_completo2"
      ]
    },
    {
      "cell_type": "code",
      "source": [
        "df_crisp_completo2 = pd.DataFrame(crisp_completo2)\n",
        "df_crisp_completo2.value_counts(normalize = False, ascending=False)"
      ],
      "metadata": {
        "colab": {
          "base_uri": "https://localhost:8080/"
        },
        "id": "GxA5R1PRsD6r",
        "outputId": "e9e6f45e-565e-4cd0-de7e-fba1d86cf249"
      },
      "execution_count": null,
      "outputs": [
        {
          "output_type": "execute_result",
          "data": {
            "text/plain": [
              "1    885\n",
              "2    489\n",
              "5    283\n",
              "0    266\n",
              "4    177\n",
              "dtype: int64"
            ]
          },
          "metadata": {},
          "execution_count": 52
        }
      ]
    },
    {
      "cell_type": "code",
      "source": [
        "df_crisp_completo2.to_csv('df_crisp_completo2_train', index = False)"
      ],
      "metadata": {
        "id": "jTuLGdu-tLLo"
      },
      "execution_count": null,
      "outputs": []
    },
    {
      "cell_type": "markdown",
      "source": [
        "___\n",
        "F-MEASURE\n",
        "___"
      ],
      "metadata": {
        "id": "i-8u0SynsTAG"
      }
    },
    {
      "cell_type": "code",
      "source": [
        "f1_score(y_train, crisp_completo2,average='weighted')"
      ],
      "metadata": {
        "colab": {
          "base_uri": "https://localhost:8080/"
        },
        "id": "wfo8r1NGsR8C",
        "outputId": "9a11b9fa-2b70-4744-c01a-9d5e05d7d656"
      },
      "execution_count": null,
      "outputs": [
        {
          "output_type": "execute_result",
          "data": {
            "text/plain": [
              "0.20228730187588273"
            ]
          },
          "metadata": {},
          "execution_count": 54
        }
      ]
    },
    {
      "cell_type": "markdown",
      "source": [
        "___\n",
        "RAND\n",
        "___"
      ],
      "metadata": {
        "id": "o3382YV0ssuB"
      }
    },
    {
      "cell_type": "code",
      "source": [
        "adjusted_rand_score(y_train, crisp_completo2)"
      ],
      "metadata": {
        "colab": {
          "base_uri": "https://localhost:8080/"
        },
        "id": "UdrMQWnPsreF",
        "outputId": "2d386329-c07a-4222-a6f0-ab59edb43b2b"
      },
      "execution_count": null,
      "outputs": [
        {
          "output_type": "execute_result",
          "data": {
            "text/plain": [
              "0.29016465034657485"
            ]
          },
          "metadata": {},
          "execution_count": 55
        }
      ]
    },
    {
      "cell_type": "markdown",
      "source": [
        "___\n",
        "MATRIZ CONFUSÃO\n",
        "___"
      ],
      "metadata": {
        "id": "DtHYNApPttTS"
      }
    },
    {
      "cell_type": "code",
      "source": [
        "sns.heatmap(confusion_matrix(y_train,crisp_completo2),annot=True,vmax=300);"
      ],
      "metadata": {
        "colab": {
          "base_uri": "https://localhost:8080/"
        },
        "id": "FCx2Dgf2uXbB",
        "outputId": "4f811e86-cd35-4af2-b7c1-d8d5d0befb64"
      },
      "execution_count": null,
      "outputs": [
        {
          "output_type": "display_data",
          "data": {
            "image/png": "[encoded data removed]",
            "text/plain": [
              "<Figure size 432x288 with 2 Axes>"
            ]
          },
          "metadata": {
            "needs_background": "light"
          }
        }
      ]
    },
    {
      "cell_type": "markdown",
      "metadata": {
        "id": "6Zf7-cBSAZI0"
      },
      "source": [
        "## QUESTÃO 2"
      ]
    },
    {
      "cell_type": "markdown",
      "metadata": {
        "id": "WBG-qMKcVLGJ"
      },
      "source": [
        "### 4 MODELAGEM"
      ]
    },
    {
      "cell_type": "markdown",
      "metadata": {
        "id": "2P54Wnp0cTE6"
      },
      "source": [
        "#### 4.1 GAUSSIANO BAYESIANO"
      ]
    },
    {
      "cell_type": "markdown",
      "metadata": {
        "id": "jPcDcTMEYTLo"
      },
      "source": [
        "##### 4.1.1 BUSCAR PARAMETROS"
      ]
    },
    {
      "cell_type": "code",
      "execution_count": null,
      "metadata": {
        "id": "jYL0WM396xMp"
      },
      "outputs": [],
      "source": [
        "# Inicializando hiperparametros e classificador\n",
        "\n",
        "hypeparameters_nb = {\n",
        "    'var_smoothing': np.logspace(0,-15,16)\n",
        "}\n",
        "clf_nb_gs = GaussianNB()\n",
        "\n",
        "# Inicializando busca paramentos\n",
        "gs_nb = GridSearchCV(clf_nb_gs,\n",
        "                           param_grid= hypeparameters_nb,\n",
        "                           cv=skf , n_jobs=-1, verbose=1, scoring = \"accuracy\")"
      ]
    },
    {
      "cell_type": "code",
      "execution_count": null,
      "metadata": {
        "colab": {
          "base_uri": "https://localhost:8080/"
        },
        "id": "HN4Ke6faQiOM",
        "outputId": "5d90b0d7-a197-437b-e311-612412dbb2c7"
      },
      "outputs": [
        {
          "output_type": "stream",
          "name": "stdout",
          "text": [
            "Fitting 5 folds for each of 16 candidates, totalling 80 fits\n"
          ]
        }
      ],
      "source": [
        "clf_nb1 = gs_nb.fit(X_train1,y_train).best_estimator_"
      ]
    },
    {
      "cell_type": "code",
      "source": [
        "param_nb1 = clf_nb1.get_params"
      ],
      "metadata": {
        "id": "SQX3dNMluS_Q"
      },
      "execution_count": null,
      "outputs": []
    },
    {
      "cell_type": "code",
      "execution_count": null,
      "metadata": {
        "colab": {
          "base_uri": "https://localhost:8080/"
        },
        "id": "poQBUwiiRoRl",
        "outputId": "45a3a169-7528-402c-e56d-4661ccb3185b"
      },
      "outputs": [
        {
          "output_type": "stream",
          "name": "stdout",
          "text": [
            "Fitting 5 folds for each of 16 candidates, totalling 80 fits\n"
          ]
        }
      ],
      "source": [
        "clf_nb2 = gs_nb.fit(X_train2,y_train).best_estimator_"
      ]
    },
    {
      "cell_type": "code",
      "source": [
        "param_nb2 = clf_nb2.get_params"
      ],
      "metadata": {
        "id": "WDq3NM47uUFY"
      },
      "execution_count": null,
      "outputs": []
    },
    {
      "cell_type": "code",
      "execution_count": null,
      "metadata": {
        "colab": {
          "base_uri": "https://localhost:8080/"
        },
        "id": "d_uw7PFCR9Sb",
        "outputId": "33915037-e8aa-47ab-ef76-ccac75232471"
      },
      "outputs": [
        {
          "output_type": "stream",
          "name": "stdout",
          "text": [
            "Fitting 5 folds for each of 16 candidates, totalling 80 fits\n"
          ]
        }
      ],
      "source": [
        "clf_nb = gs_nb.fit(X_train,y_train).best_estimator_"
      ]
    },
    {
      "cell_type": "code",
      "source": [
        "param_nb = clf_nb.get_params"
      ],
      "metadata": {
        "id": "UaJMnnUFuUpp"
      },
      "execution_count": null,
      "outputs": []
    },
    {
      "cell_type": "code",
      "source": [
        "param_nb1"
      ],
      "metadata": {
        "colab": {
          "base_uri": "https://localhost:8080/"
        },
        "id": "AZXFkU_tdWY8",
        "outputId": "0b7bc66f-badc-4dfd-d00e-db06b659ffb4"
      },
      "execution_count": null,
      "outputs": [
        {
          "output_type": "execute_result",
          "data": {
            "text/plain": [
              "<bound method BaseEstimator.get_params of GaussianNB(var_smoothing=1e-05)>"
            ]
          },
          "metadata": {},
          "execution_count": 67
        }
      ]
    },
    {
      "cell_type": "code",
      "source": [
        "param_nb2"
      ],
      "metadata": {
        "colab": {
          "base_uri": "https://localhost:8080/"
        },
        "id": "g_YHdVo2dprD",
        "outputId": "c15ee55a-f4dd-440d-d91a-3b3a8b4871f9"
      },
      "execution_count": null,
      "outputs": [
        {
          "output_type": "execute_result",
          "data": {
            "text/plain": [
              "<bound method BaseEstimator.get_params of GaussianNB(var_smoothing=0.01)>"
            ]
          },
          "metadata": {},
          "execution_count": 68
        }
      ]
    },
    {
      "cell_type": "code",
      "source": [
        "param_nb"
      ],
      "metadata": {
        "colab": {
          "base_uri": "https://localhost:8080/"
        },
        "id": "x0dzRjMudsbD",
        "outputId": "61c3656d-e490-4d96-e6ae-4981803900c9"
      },
      "execution_count": null,
      "outputs": [
        {
          "output_type": "execute_result",
          "data": {
            "text/plain": [
              "<bound method BaseEstimator.get_params of GaussianNB(var_smoothing=0.01)>"
            ]
          },
          "metadata": {},
          "execution_count": 69
        }
      ]
    },
    {
      "cell_type": "markdown",
      "source": [
        "##### 4.1.2 TREINAMENTO"
      ],
      "metadata": {
        "id": "dI0qJJIzrbbH"
      }
    },
    {
      "cell_type": "code",
      "execution_count": null,
      "metadata": {
        "colab": {
          "base_uri": "https://localhost:8080/"
        },
        "id": "94AfV-1QRKQD",
        "outputId": "07899849-e128-4fa0-9843-f457c948f815"
      },
      "outputs": [
        {
          "output_type": "execute_result",
          "data": {
            "text/plain": [
              "GaussianNB(var_smoothing=1e-05)"
            ]
          },
          "metadata": {},
          "execution_count": 70
        }
      ],
      "source": [
        "clf_nb1.fit(X_train1,y_train)"
      ]
    },
    {
      "cell_type": "code",
      "execution_count": null,
      "metadata": {
        "colab": {
          "base_uri": "https://localhost:8080/"
        },
        "id": "BET9whCCRpsT",
        "outputId": "5c1d6ab2-cb7b-49c9-94d7-d9f386d135f6"
      },
      "outputs": [
        {
          "output_type": "execute_result",
          "data": {
            "text/plain": [
              "GaussianNB(var_smoothing=0.01)"
            ]
          },
          "metadata": {},
          "execution_count": 71
        }
      ],
      "source": [
        "clf_nb2.fit(X_train2,y_train)"
      ]
    },
    {
      "cell_type": "code",
      "execution_count": null,
      "metadata": {
        "colab": {
          "base_uri": "https://localhost:8080/"
        },
        "id": "JzRSvmygR-gk",
        "outputId": "a185eaeb-6a8c-4c89-a23e-ef1ba77dd5ae"
      },
      "outputs": [
        {
          "output_type": "execute_result",
          "data": {
            "text/plain": [
              "GaussianNB(var_smoothing=0.01)"
            ]
          },
          "metadata": {},
          "execution_count": 72
        }
      ],
      "source": [
        "clf_nb.fit(X_train,y_train)"
      ]
    },
    {
      "cell_type": "markdown",
      "metadata": {
        "id": "3anuhMFhbsr7"
      },
      "source": [
        "##### 4.1.3 VOTO MAJORITARIO"
      ]
    },
    {
      "cell_type": "code",
      "execution_count": null,
      "metadata": {
        "id": "haluKJnInXQj"
      },
      "outputs": [],
      "source": [
        "y_pred_mv_nb = mv_prev(clf_nb,clf_nb1,clf_nb2,X_test,X_test1,X_test2)\n",
        "acc_nb = round(accuracy_score(y_test,y_pred_mv_nb)*100,2)"
      ]
    },
    {
      "cell_type": "code",
      "source": [
        "accu_cv_nb, precision_cv_nb, recall_cv_nb,f1_cv_nb = cv_score_vm(clf_nb,clf_nb1,clf_nb2)"
      ],
      "metadata": {
        "id": "iMMPXv_vkTJ5"
      },
      "execution_count": null,
      "outputs": []
    },
    {
      "cell_type": "markdown",
      "metadata": {
        "id": "11dyyDa3c21a"
      },
      "source": [
        "#### 4.2 KNN"
      ]
    },
    {
      "cell_type": "markdown",
      "metadata": {
        "id": "M4QL0eS2ZVc8"
      },
      "source": [
        "##### 4.2.1 BUSCAR PARAMETROS"
      ]
    },
    {
      "cell_type": "code",
      "execution_count": null,
      "metadata": {
        "id": "Bb8zI9xfd-Dy"
      },
      "outputs": [],
      "source": [
        "# Inicializando hiperparametros e classificador\n",
        "\n",
        "k = list(range(1,30))\n",
        "hypeparameters_knn = {\n",
        "    'n_neighbors':k,\n",
        "    'weights': ['uniform', 'distance'],\n",
        "    'algorithm' : ['auto', 'ball_tree', 'kd_tree', 'brute'],\n",
        "    'leaf_size' : [10, 20, 30, 50]\n",
        "}\n",
        "clf_knn_gs = KNeighborsClassifier()\n",
        "\n",
        "# Inicializando busca paramentos\n",
        "gs_knn = GridSearchCV(clf_knn_gs,\n",
        "                           param_grid= hypeparameters_knn,\n",
        "                           cv=skf , n_jobs=-1, verbose=1, scoring = \"accuracy\")"
      ]
    },
    {
      "cell_type": "code",
      "execution_count": null,
      "metadata": {
        "colab": {
          "base_uri": "https://localhost:8080/"
        },
        "id": "4qFzgcSLtgq0",
        "outputId": "a5c56264-740c-4a85-b31e-c386f399169b"
      },
      "outputs": [
        {
          "output_type": "stream",
          "name": "stdout",
          "text": [
            "Fitting 5 folds for each of 928 candidates, totalling 4640 fits\n"
          ]
        }
      ],
      "source": [
        "clf_knn1 = gs_knn.fit(X_train1,y_train).best_estimator_"
      ]
    },
    {
      "cell_type": "code",
      "source": [
        "param_knn1 = clf_knn1.get_params"
      ],
      "metadata": {
        "id": "0useO_jFujhR"
      },
      "execution_count": null,
      "outputs": []
    },
    {
      "cell_type": "code",
      "execution_count": null,
      "metadata": {
        "colab": {
          "base_uri": "https://localhost:8080/"
        },
        "id": "bggIE9E1phLN",
        "outputId": "5620a18d-c506-4a4a-89ab-b50df2321c99"
      },
      "outputs": [
        {
          "output_type": "stream",
          "name": "stdout",
          "text": [
            "Fitting 5 folds for each of 928 candidates, totalling 4640 fits\n"
          ]
        }
      ],
      "source": [
        "clf_knn2 = gs_knn.fit(X_train2,y_train).best_estimator_"
      ]
    },
    {
      "cell_type": "code",
      "source": [
        "param_knn2 = clf_knn2.get_params"
      ],
      "metadata": {
        "id": "-AWyvl95uodu"
      },
      "execution_count": null,
      "outputs": []
    },
    {
      "cell_type": "code",
      "execution_count": null,
      "metadata": {
        "colab": {
          "base_uri": "https://localhost:8080/"
        },
        "id": "Oa2Ky_O9r6BM",
        "outputId": "a21389af-24e2-4627-f86f-ba3f266307b4"
      },
      "outputs": [
        {
          "output_type": "stream",
          "name": "stdout",
          "text": [
            "Fitting 5 folds for each of 928 candidates, totalling 4640 fits\n"
          ]
        }
      ],
      "source": [
        "clf_knn = gs_knn.fit(X_train,y_train).best_estimator_"
      ]
    },
    {
      "cell_type": "code",
      "source": [
        "param_knn = clf_knn.get_params"
      ],
      "metadata": {
        "id": "Hl3g6WoNuqPp"
      },
      "execution_count": null,
      "outputs": []
    },
    {
      "cell_type": "code",
      "source": [
        "param_knn1"
      ],
      "metadata": {
        "colab": {
          "base_uri": "https://localhost:8080/"
        },
        "id": "zfqepnqzd8PL",
        "outputId": "4babcd88-c265-47ec-f8e8-0172c5a5746f"
      },
      "execution_count": null,
      "outputs": [
        {
          "output_type": "execute_result",
          "data": {
            "text/plain": [
              "<bound method BaseEstimator.get_params of KNeighborsClassifier(algorithm='brute', leaf_size=10, n_neighbors=25,\n",
              "                     weights='distance')>"
            ]
          },
          "metadata": {},
          "execution_count": 50
        }
      ]
    },
    {
      "cell_type": "code",
      "source": [
        "param_knn2"
      ],
      "metadata": {
        "colab": {
          "base_uri": "https://localhost:8080/"
        },
        "id": "4y5_TlIJd-jJ",
        "outputId": "b157a41c-f523-4618-d1e3-01f3cff05b2d"
      },
      "execution_count": null,
      "outputs": [
        {
          "output_type": "execute_result",
          "data": {
            "text/plain": [
              "<bound method BaseEstimator.get_params of KNeighborsClassifier(leaf_size=10, n_neighbors=4, weights='distance')>"
            ]
          },
          "metadata": {},
          "execution_count": 51
        }
      ]
    },
    {
      "cell_type": "code",
      "source": [
        "param_knn"
      ],
      "metadata": {
        "colab": {
          "base_uri": "https://localhost:8080/"
        },
        "id": "xYnK_ppGd_kd",
        "outputId": "2c05d4e2-9ffb-4f04-a3c2-f2c1ab700a1c"
      },
      "execution_count": null,
      "outputs": [
        {
          "output_type": "execute_result",
          "data": {
            "text/plain": [
              "<bound method BaseEstimator.get_params of KNeighborsClassifier(algorithm='ball_tree', leaf_size=10, n_neighbors=4,\n",
              "                     weights='distance')>"
            ]
          },
          "metadata": {},
          "execution_count": 52
        }
      ]
    },
    {
      "cell_type": "markdown",
      "source": [
        "##### 4.2.2 TREINAMENTO"
      ],
      "metadata": {
        "id": "FNuFobNFz9cY"
      }
    },
    {
      "cell_type": "code",
      "execution_count": null,
      "metadata": {
        "colab": {
          "base_uri": "https://localhost:8080/"
        },
        "id": "Kp1mrUtJwPCY",
        "outputId": "6f368fdd-6520-4fba-9189-beb2e6bc7196"
      },
      "outputs": [
        {
          "output_type": "execute_result",
          "data": {
            "text/plain": [
              "KNeighborsClassifier(algorithm='brute', leaf_size=10, n_neighbors=25,\n",
              "                     weights='distance')"
            ]
          },
          "metadata": {},
          "execution_count": 64
        }
      ],
      "source": [
        "clf_knn1.fit(X_train1,y_train)"
      ]
    },
    {
      "cell_type": "code",
      "execution_count": null,
      "metadata": {
        "colab": {
          "base_uri": "https://localhost:8080/"
        },
        "id": "yhlX7BxWvkQJ",
        "outputId": "16b6931e-ba51-4e4b-92d6-996cabde920a"
      },
      "outputs": [
        {
          "output_type": "execute_result",
          "data": {
            "text/plain": [
              "KNeighborsClassifier(leaf_size=10, n_neighbors=4, weights='distance')"
            ]
          },
          "metadata": {},
          "execution_count": 65
        }
      ],
      "source": [
        "clf_knn2.fit(X_train2,y_train)"
      ]
    },
    {
      "cell_type": "code",
      "execution_count": null,
      "metadata": {
        "colab": {
          "base_uri": "https://localhost:8080/"
        },
        "id": "MMSbhsopwPjw",
        "outputId": "aac16f5b-7ce8-488c-f294-7be188260e88"
      },
      "outputs": [
        {
          "output_type": "execute_result",
          "data": {
            "text/plain": [
              "KNeighborsClassifier(algorithm='ball_tree', leaf_size=10, n_neighbors=4,\n",
              "                     weights='distance')"
            ]
          },
          "metadata": {},
          "execution_count": 66
        }
      ],
      "source": [
        "clf_knn.fit(X_train,y_train)"
      ]
    },
    {
      "cell_type": "markdown",
      "metadata": {
        "id": "2LOIjabLzjsl"
      },
      "source": [
        "##### 4.2.2 VOTO MAJORITARIO"
      ]
    },
    {
      "cell_type": "code",
      "execution_count": null,
      "metadata": {
        "id": "OYCjbufr64Vl"
      },
      "outputs": [],
      "source": [
        "y_pred_mv_knn = mv_prev(clf_knn,clf_knn1,clf_knn2,X_test,X_test1,X_test2)\n",
        "acc_knn = round(accuracy_score(y_test,y_pred_mv_knn)*100,2)"
      ]
    },
    {
      "cell_type": "code",
      "source": [
        "accu_cv_knn, precision_cv_knn, recall_cv_knn,f1_cv_knn = cv_score_vm(clf_knn,clf_knn1,clf_knn2)"
      ],
      "metadata": {
        "id": "wfPlTW9wVQT0"
      },
      "execution_count": null,
      "outputs": []
    },
    {
      "cell_type": "markdown",
      "metadata": {
        "id": "ywOx5XGEc4Bq"
      },
      "source": [
        "#### 4.3 REGRESSÃO LOGISTICA"
      ]
    },
    {
      "cell_type": "markdown",
      "metadata": {
        "id": "T9M4jRdTVpH4"
      },
      "source": [
        "##### 4.3.1 BUSCAR PARAMETROS"
      ]
    },
    {
      "cell_type": "code",
      "execution_count": null,
      "metadata": {
        "id": "SV8CcCvUVoTp"
      },
      "outputs": [],
      "source": [
        "# Inicializando hiperparametros e classificador\n",
        "\n",
        "\n",
        "hypeparameters_lr = {\n",
        "    'penalty': ['l1', 'l2', 'elasticnet', 'none'],\n",
        "    'tol': np.logspace(0,-10,11)\n",
        "}\n",
        "clf_lr_gs = LogisticRegression(multi_class='ovr')\n",
        "\n",
        "# Inicializando busca paramentos\n",
        "gs_lr = GridSearchCV(clf_lr_gs,\n",
        "                           param_grid= hypeparameters_lr,\n",
        "                           cv=skf , n_jobs=-1, verbose=1, scoring = \"accuracy\")"
      ]
    },
    {
      "cell_type": "code",
      "source": [
        "clf_lr1 = gs_lr.fit(X_train1,y_train).best_estimator_"
      ],
      "metadata": {
        "colab": {
          "base_uri": "https://localhost:8080/"
        },
        "id": "8aTrghCUyK9T",
        "outputId": "7534e1ac-da31-47f6-81ea-31442dbcdd2a"
      },
      "execution_count": null,
      "outputs": [
        {
          "output_type": "stream",
          "name": "stdout",
          "text": [
            "Fitting 5 folds for each of 44 candidates, totalling 220 fits\n"
          ]
        }
      ]
    },
    {
      "cell_type": "code",
      "source": [
        "param_lr1 = clf_lr1.get_params"
      ],
      "metadata": {
        "id": "sTusvYnswwwH"
      },
      "execution_count": null,
      "outputs": []
    },
    {
      "cell_type": "code",
      "execution_count": null,
      "metadata": {
        "colab": {
          "base_uri": "https://localhost:8080/"
        },
        "id": "j13w70cmZAic",
        "outputId": "93e4a24e-8b83-4c4e-f14e-fed459a2f3a3"
      },
      "outputs": [
        {
          "output_type": "stream",
          "name": "stdout",
          "text": [
            "Fitting 5 folds for each of 44 candidates, totalling 220 fits\n"
          ]
        }
      ],
      "source": [
        "clf_lr2 = gs_lr.fit(X_train2,y_train).best_estimator_"
      ]
    },
    {
      "cell_type": "code",
      "source": [
        "param_lr2 = clf_lr2.get_params"
      ],
      "metadata": {
        "id": "7gPoUEbAwzkG"
      },
      "execution_count": null,
      "outputs": []
    },
    {
      "cell_type": "code",
      "execution_count": null,
      "metadata": {
        "colab": {
          "base_uri": "https://localhost:8080/"
        },
        "id": "W3-NJvMcZBzI",
        "outputId": "75899fcb-2949-4b7f-bfe4-b926949bb4a9"
      },
      "outputs": [
        {
          "output_type": "stream",
          "name": "stdout",
          "text": [
            "Fitting 5 folds for each of 44 candidates, totalling 220 fits\n"
          ]
        }
      ],
      "source": [
        "clf_lr = gs_lr.fit(X_train,y_train).best_estimator_"
      ]
    },
    {
      "cell_type": "code",
      "source": [
        "param_lr = clf_lr.get_params"
      ],
      "metadata": {
        "id": "yy9bbBYhw0iC"
      },
      "execution_count": null,
      "outputs": []
    },
    {
      "cell_type": "code",
      "source": [
        "param_lr1"
      ],
      "metadata": {
        "colab": {
          "base_uri": "https://localhost:8080/"
        },
        "id": "a7zXE76XeEGe",
        "outputId": "ed65595e-d78d-41ac-f7c5-2aa86955252a"
      },
      "execution_count": null,
      "outputs": [
        {
          "output_type": "execute_result",
          "data": {
            "text/plain": [
              "<bound method BaseEstimator.get_params of LogisticRegression(multi_class='ovr', penalty='none', tol=0.1)>"
            ]
          },
          "metadata": {},
          "execution_count": 60
        }
      ]
    },
    {
      "cell_type": "code",
      "source": [
        "param_lr2"
      ],
      "metadata": {
        "colab": {
          "base_uri": "https://localhost:8080/"
        },
        "id": "le09zvgoeF8s",
        "outputId": "b33c20cd-9f30-4192-8ef4-96293225f689"
      },
      "execution_count": null,
      "outputs": [
        {
          "output_type": "execute_result",
          "data": {
            "text/plain": [
              "<bound method BaseEstimator.get_params of LogisticRegression(multi_class='ovr', penalty='none')>"
            ]
          },
          "metadata": {},
          "execution_count": 61
        }
      ]
    },
    {
      "cell_type": "code",
      "source": [
        "param_lr"
      ],
      "metadata": {
        "colab": {
          "base_uri": "https://localhost:8080/"
        },
        "id": "my4h8M2NeHfX",
        "outputId": "fd4454ac-b08d-4de2-e2fb-f25955f87bc6"
      },
      "execution_count": null,
      "outputs": [
        {
          "output_type": "execute_result",
          "data": {
            "text/plain": [
              "<bound method BaseEstimator.get_params of LogisticRegression(multi_class='ovr', penalty='none', tol=1.0)>"
            ]
          },
          "metadata": {},
          "execution_count": 62
        }
      ]
    },
    {
      "cell_type": "markdown",
      "source": [
        "##### 4.3.2 TREINAMENTO"
      ],
      "metadata": {
        "id": "w7kkP3pDw9Ao"
      }
    },
    {
      "cell_type": "code",
      "source": [
        "clf_lr1.fit(X_train1,y_train)"
      ],
      "metadata": {
        "colab": {
          "base_uri": "https://localhost:8080/"
        },
        "id": "qxBNr4dvxClp",
        "outputId": "30fc1d59-c352-4f45-c330-8d4ea6b4acf9"
      },
      "execution_count": null,
      "outputs": [
        {
          "output_type": "execute_result",
          "data": {
            "text/plain": [
              "LogisticRegression(multi_class='ovr', penalty='none', tol=0.1)"
            ]
          },
          "metadata": {},
          "execution_count": 69
        }
      ]
    },
    {
      "cell_type": "code",
      "source": [
        "clf_lr2.fit(X_train2,y_train)"
      ],
      "metadata": {
        "colab": {
          "base_uri": "https://localhost:8080/"
        },
        "id": "rYKFh2DvxCYO",
        "outputId": "d129cb4e-d79e-4379-b0f6-ebe5199c2b18"
      },
      "execution_count": null,
      "outputs": [
        {
          "output_type": "execute_result",
          "data": {
            "text/plain": [
              "LogisticRegression(multi_class='ovr', penalty='none')"
            ]
          },
          "metadata": {},
          "execution_count": 70
        }
      ]
    },
    {
      "cell_type": "code",
      "source": [
        "clf_lr.fit(X_train,y_train)"
      ],
      "metadata": {
        "colab": {
          "base_uri": "https://localhost:8080/"
        },
        "id": "EluUbSdoxCLB",
        "outputId": "29b16a47-5276-422e-f139-38cd7c4677b7"
      },
      "execution_count": null,
      "outputs": [
        {
          "output_type": "execute_result",
          "data": {
            "text/plain": [
              "LogisticRegression(multi_class='ovr', penalty='none', tol=1.0)"
            ]
          },
          "metadata": {},
          "execution_count": 71
        }
      ]
    },
    {
      "cell_type": "markdown",
      "metadata": {
        "id": "q_t_Z9M089x9"
      },
      "source": [
        "##### 4.3.3 VOTO MAJORITARIO"
      ]
    },
    {
      "cell_type": "code",
      "execution_count": null,
      "metadata": {
        "id": "O5apcAFznzmU"
      },
      "outputs": [],
      "source": [
        "y_pred_mv_lr = mv_prev(clf_lr,clf_lr1,clf_lr2,X_test,X_test1,X_test2)\n",
        "acc_lr = round(accuracy_score(y_test,y_pred_mv_lr)*100,2)"
      ]
    },
    {
      "cell_type": "code",
      "source": [
        "accu_cv_lr, precision_cv_lr, recall_cv_lr, f1_cv_lr = cv_score_vm(clf_lr,clf_lr1,clf_lr2)"
      ],
      "metadata": {
        "id": "o-4_YNM-Va_I"
      },
      "execution_count": null,
      "outputs": []
    },
    {
      "cell_type": "markdown",
      "metadata": {
        "id": "czXH0M5rc41y"
      },
      "source": [
        "#### 4.4 JANELA DE PARZEN"
      ]
    },
    {
      "cell_type": "markdown",
      "source": [
        "##### 4.4.1 BUSCAR PARAMETROS"
      ],
      "metadata": {
        "id": "mXkLs82BfiNL"
      }
    },
    {
      "cell_type": "markdown",
      "source": [
        "##### 4.4.2 TREINAMENTO"
      ],
      "metadata": {
        "id": "bTuiZIXgXgyX"
      }
    },
    {
      "cell_type": "code",
      "source": [
        "clf_kde1 = clf_kde(X_train1,y_train)\n",
        "clf_kde2 = clf_kde(X_train2,y_train)\n",
        "clf_kde = clf_kde(X_train,y_train)"
      ],
      "metadata": {
        "id": "wFAZravOfV7I"
      },
      "execution_count": null,
      "outputs": []
    },
    {
      "cell_type": "markdown",
      "source": [
        "##### 4.3.2 VOTO MAJORITARIO"
      ],
      "metadata": {
        "id": "emMkxzRPUSG7"
      }
    },
    {
      "cell_type": "code",
      "source": [
        "y_pred_kde1 = janela_parzen_pred(clf_kde1,X_test1)\n",
        "y_pred_kde2 = janela_parzen_pred(clf_kde2,X_test2)\n",
        "y_pred_kde = janela_parzen_pred(clf_kde,X_test)\n",
        "y_pred_mv_kde = y_mv_pred(y_pred_kde1,y_pred_kde2,y_pred_kde)\n",
        "acc_kde = round(accuracy_score(y_test,y_pred_mv_kde)*100,2)"
      ],
      "metadata": {
        "id": "3M63eLtQvBgm"
      },
      "execution_count": null,
      "outputs": []
    },
    {
      "cell_type": "code",
      "source": [
        "accu_cv_kde, precision_cv_kde, recall_cv_kde, f1_cv_kde = cv_score_vm2(clf_kde,clf_kde1,clf_kde2)"
      ],
      "metadata": {
        "id": "6_GiFbDRURuL"
      },
      "execution_count": null,
      "outputs": []
    },
    {
      "cell_type": "markdown",
      "source": [
        "### 5 AVALIAÇÃO"
      ],
      "metadata": {
        "id": "KzKHldjAp9ay"
      }
    },
    {
      "cell_type": "markdown",
      "source": [
        "####  5.1 TESTE"
      ],
      "metadata": {
        "id": "E9HNXgdXy5Ab"
      }
    },
    {
      "cell_type": "markdown",
      "source": [
        "##### 5.1.1 NB"
      ],
      "metadata": {
        "id": "fpTkY2ehqFHH"
      }
    },
    {
      "cell_type": "code",
      "source": [
        "sns.heatmap(confusion_matrix(y_test, y_pred_mv_nb), annot=True, vmax=30);"
      ],
      "metadata": {
        "colab": {
          "base_uri": "https://localhost:8080/",
          "height": 269
        },
        "id": "PD0U90CyfXTb",
        "outputId": "9d28554f-40ba-47e6-deef-0413c15101c2"
      },
      "execution_count": null,
      "outputs": [
        {
          "output_type": "display_data",
          "data": {
            "image/png": "[encoded data removed]",
            "text/plain": [
              "<Figure size 432x288 with 2 Axes>"
            ]
          },
          "metadata": {
            "needs_background": "light"
          }
        }
      ]
    },
    {
      "cell_type": "code",
      "source": [
        "print(classification_report(y_test,y_pred_mv_nb))"
      ],
      "metadata": {
        "colab": {
          "base_uri": "https://localhost:8080/"
        },
        "id": "NX4cEdEWhXJX",
        "outputId": "ad641a61-5196-4c84-ab74-bbdb8595a9ff"
      },
      "execution_count": null,
      "outputs": [
        {
          "output_type": "stream",
          "name": "stdout",
          "text": [
            "              precision    recall  f1-score   support\n",
            "\n",
            "           0       0.79      0.90      0.84        30\n",
            "           1       0.20      0.30      0.24        30\n",
            "           2       1.00      0.13      0.24        30\n",
            "           3       1.00      1.00      1.00        30\n",
            "           4       0.60      0.90      0.72        30\n",
            "           5       1.00      1.00      1.00        30\n",
            "           6       0.81      0.57      0.67        30\n",
            "\n",
            "    accuracy                           0.69       210\n",
            "   macro avg       0.77      0.69      0.67       210\n",
            "weighted avg       0.77      0.69      0.67       210\n",
            "\n"
          ]
        }
      ]
    },
    {
      "cell_type": "markdown",
      "source": [
        "##### 5.1.2 KNN"
      ],
      "metadata": {
        "id": "RQaylsb_qAW7"
      }
    },
    {
      "cell_type": "code",
      "source": [
        "sns.heatmap(confusion_matrix(y_test,y_pred_mv_knn), annot=True, vmax=30);"
      ],
      "metadata": {
        "colab": {
          "base_uri": "https://localhost:8080/",
          "height": 269
        },
        "id": "Rv95z4C_hKHJ",
        "outputId": "911aea5f-3b49-4459-8848-b5645db049c2"
      },
      "execution_count": null,
      "outputs": [
        {
          "output_type": "display_data",
          "data": {
            "image/png": "[encoded data removed]",
            "text/plain": [
              "<Figure size 432x288 with 2 Axes>"
            ]
          },
          "metadata": {
            "needs_background": "light"
          }
        }
      ]
    },
    {
      "cell_type": "code",
      "source": [
        "print(classification_report(y_test, y_pred_mv_knn))"
      ],
      "metadata": {
        "colab": {
          "base_uri": "https://localhost:8080/"
        },
        "id": "YjWtO-TsffrR",
        "outputId": "e54bb9dc-b2a1-461d-ee97-958184dc5a93"
      },
      "execution_count": null,
      "outputs": [
        {
          "output_type": "stream",
          "name": "stdout",
          "text": [
            "              precision    recall  f1-score   support\n",
            "\n",
            "           0       1.00      1.00      1.00        30\n",
            "           1       0.93      0.90      0.92        30\n",
            "           2       0.94      0.97      0.95        30\n",
            "           3       1.00      1.00      1.00        30\n",
            "           4       0.91      1.00      0.95        30\n",
            "           5       1.00      1.00      1.00        30\n",
            "           6       1.00      0.90      0.95        30\n",
            "\n",
            "    accuracy                           0.97       210\n",
            "   macro avg       0.97      0.97      0.97       210\n",
            "weighted avg       0.97      0.97      0.97       210\n",
            "\n"
          ]
        }
      ]
    },
    {
      "cell_type": "markdown",
      "source": [
        "##### 5.1.3 REGRESSÃO LOGISTICA"
      ],
      "metadata": {
        "id": "p6letlHNrAfK"
      }
    },
    {
      "cell_type": "code",
      "source": [
        "sns.heatmap(confusion_matrix(y_test,y_pred_mv_lr), annot=True, vmax=30);"
      ],
      "metadata": {
        "colab": {
          "base_uri": "https://localhost:8080/",
          "height": 269
        },
        "id": "4Q3RMoiz3988",
        "outputId": "7092a1bb-91f1-42c8-b915-63683329c48d"
      },
      "execution_count": null,
      "outputs": [
        {
          "output_type": "display_data",
          "data": {
            "image/png": "[encoded data removed]",
            "text/plain": [
              "<Figure size 432x288 with 2 Axes>"
            ]
          },
          "metadata": {
            "needs_background": "light"
          }
        }
      ]
    },
    {
      "cell_type": "code",
      "source": [
        "print(classification_report(y_test,y_pred_mv_lr))"
      ],
      "metadata": {
        "colab": {
          "base_uri": "https://localhost:8080/"
        },
        "id": "gQRzgLw3W1pz",
        "outputId": "76d0465a-cabb-42a0-e2b7-770adaaf4b11"
      },
      "execution_count": null,
      "outputs": [
        {
          "output_type": "stream",
          "name": "stdout",
          "text": [
            "              precision    recall  f1-score   support\n",
            "\n",
            "           0       1.00      0.97      0.98        30\n",
            "           1       0.69      0.37      0.48        30\n",
            "           2       0.84      0.87      0.85        30\n",
            "           3       1.00      1.00      1.00        30\n",
            "           4       0.64      0.97      0.77        30\n",
            "           5       1.00      1.00      1.00        30\n",
            "           6       0.76      0.73      0.75        30\n",
            "\n",
            "    accuracy                           0.84       210\n",
            "   macro avg       0.85      0.84      0.83       210\n",
            "weighted avg       0.85      0.84      0.83       210\n",
            "\n"
          ]
        }
      ]
    },
    {
      "cell_type": "markdown",
      "source": [
        "##### 5.1.4 JANELA DE PARZEN"
      ],
      "metadata": {
        "id": "X_pfFZpprBSU"
      }
    },
    {
      "cell_type": "code",
      "source": [
        "sns.heatmap(confusion_matrix(y_test,y_pred_mv_kde), annot=True, vmax=30);"
      ],
      "metadata": {
        "colab": {
          "base_uri": "https://localhost:8080/",
          "height": 269
        },
        "id": "dKOhBHyt177W",
        "outputId": "6ffa2d12-5783-4310-c0b7-fe9bc9b5fb58"
      },
      "execution_count": null,
      "outputs": [
        {
          "output_type": "display_data",
          "data": {
            "image/png": "[encoded data removed]",
            "text/plain": [
              "<Figure size 432x288 with 2 Axes>"
            ]
          },
          "metadata": {
            "needs_background": "light"
          }
        }
      ]
    },
    {
      "cell_type": "code",
      "source": [
        "print(classification_report(y_test,y_pred_mv_kde))"
      ],
      "metadata": {
        "colab": {
          "base_uri": "https://localhost:8080/"
        },
        "id": "wtudqk8K2eOt",
        "outputId": "bc31d0c7-160a-4603-c943-c57801df149d"
      },
      "execution_count": null,
      "outputs": [
        {
          "output_type": "stream",
          "name": "stdout",
          "text": [
            "              precision    recall  f1-score   support\n",
            "\n",
            "           0       0.61      1.00      0.76        30\n",
            "           1       0.78      0.23      0.36        30\n",
            "           2       0.63      0.87      0.73        30\n",
            "           3       0.97      1.00      0.98        30\n",
            "           4       0.60      0.97      0.74        30\n",
            "           5       0.94      1.00      0.97        30\n",
            "           6       0.00      0.00      0.00        30\n",
            "\n",
            "    accuracy                           0.72       210\n",
            "   macro avg       0.65      0.72      0.65       210\n",
            "weighted avg       0.65      0.72      0.65       210\n",
            "\n"
          ]
        }
      ]
    },
    {
      "cell_type": "markdown",
      "source": [
        "#### 5.2 VALIDAÇÃO"
      ],
      "metadata": {
        "id": "FfnjvRClzY6G"
      }
    },
    {
      "cell_type": "markdown",
      "source": [
        "##### 5.2.1 TAXA DE ERRO"
      ],
      "metadata": {
        "id": "5yww_FVI90Xz"
      }
    },
    {
      "cell_type": "code",
      "source": [
        "taxa_erro_geral = pd.DataFrame()\n",
        "taxa_erro_geral['Gaussiana Bayesiana'] = 1-accu_cv_nb\n",
        "taxa_erro_geral['KNN'] = 1-accu_cv_knn\n",
        "taxa_erro_geral['Regressão Logistica'] = 1-accu_cv_lr\n",
        "taxa_erro_geral['Janela de Parzen'] = 1-accu_cv_kde\n",
        "\n",
        "plt.figure(figsize= (10, 5))\n",
        "sns.histplot(data=taxa_erro_geral, kde=True, element='step')\n",
        "plt.ylabel('Frequência')\n",
        "plt.xlabel('Taxa de Erro')\n",
        "plt.title('Distribuição da taxa de erro dos modelos')\n",
        "plt.show()"
      ],
      "metadata": {
        "colab": {
          "base_uri": "https://localhost:8080/",
          "height": 350
        },
        "id": "8QOc7GCHC5kq",
        "outputId": "7b29ef51-9520-4ec1-a411-e1a1471cfa08"
      },
      "execution_count": null,
      "outputs": [
        {
          "output_type": "display_data",
          "data": {
            "image/png": "[encoded data removed]",
            "text/plain": [
              "<Figure size 720x360 with 1 Axes>"
            ]
          },
          "metadata": {
            "needs_background": "light"
          }
        }
      ]
    },
    {
      "cell_type": "code",
      "source": [
        "# Taxa de erro\n",
        "\n",
        "# Gaussiana Bayesiana\n",
        "cv_acc_mean_nb = 100-round(accu_cv_nb.mean()*100,2)\n",
        "cv_acc_ic_nb = round(1.96*accu_cv_nb.std()*100,2)\n",
        "#Knn\n",
        "cv_acc_mean_knn = 100-round(accu_cv_knn.mean()*100,2)\n",
        "cv_acc_ic_knn = round(1.96*accu_cv_knn.std()*100,2)\n",
        "# Regressão logistica\n",
        "cv_acc_mean_lr = 100-round(accu_cv_lr.mean()*100,2)\n",
        "cv_acc_ic_lr = round(1.96*accu_cv_lr.std()*100,2)\n",
        "# Janela de Parzen\n",
        "cv_acc_mean_kde = 100-round(accu_cv_kde.mean()*100,2)\n",
        "cv_acc_ic_kde = round(1.96*accu_cv_kde.std()*100,2)"
      ],
      "metadata": {
        "id": "VIz1q9m12Kh1"
      },
      "execution_count": null,
      "outputs": []
    },
    {
      "cell_type": "code",
      "source": [
        "tabela_taxa_de_erro = pd.DataFrame()\n",
        "tabela_taxa_de_erro['Classificador'] = ['Gaussiana Bayesiana','KNN','Regressão Logistica','Janela Parzen']\n",
        "tabela_taxa_de_erro['Limite Superior Taxa de Erro'] = [cv_acc_mean_nb + cv_acc_ic_nb,cv_acc_mean_knn + cv_acc_ic_knn ,cv_acc_mean_lr + cv_acc_ic_lr ,cv_acc_mean_kde + cv_acc_ic_kde]\n",
        "tabela_taxa_de_erro['Média Taxa de Erro Validação'] = [cv_acc_mean_nb,cv_acc_mean_knn,cv_acc_mean_lr,cv_acc_mean_kde]\n",
        "tabela_taxa_de_erro['Limite Inferior Taxa de Erro'] = [cv_acc_mean_nb - cv_acc_ic_nb,cv_acc_mean_knn - cv_acc_ic_knn,cv_acc_mean_lr - cv_acc_ic_lr,cv_acc_mean_kde - cv_acc_ic_kde]\n",
        "tabela_taxa_de_erro['Taxa de Erro Média Intervalo Validação'] = [cv_acc_ic_nb,cv_acc_ic_knn,cv_acc_ic_lr,cv_acc_ic_kde]"
      ],
      "metadata": {
        "id": "xOnVMPlQAgKE"
      },
      "execution_count": null,
      "outputs": []
    },
    {
      "cell_type": "code",
      "source": [
        "tabela_taxa_de_erro.T"
      ],
      "metadata": {
        "colab": {
          "base_uri": "https://localhost:8080/",
          "height": 206
        },
        "id": "rVpQ-o94_k5C",
        "outputId": "6e4129b3-31a0-4d38-95a8-3411f6957b70"
      },
      "execution_count": null,
      "outputs": [
        {
          "output_type": "execute_result",
          "data": {
            "text/html": [
              "\n",
              "  <div id=\"df-3361b312-42cc-4c40-a5e7-d4f94b93ee6d\">\n",
              "    <div class=\"colab-df-container\">\n",
              "      <div>\n",
              "<style scoped>\n",
              "    .dataframe tbody tr th:only-of-type {\n",
              "        vertical-align: middle;\n",
              "    }\n",
              "\n",
              "    .dataframe tbody tr th {\n",
              "        vertical-align: top;\n",
              "    }\n",
              "\n",
              "    .dataframe thead th {\n",
              "        text-align: right;\n",
              "    }\n",
              "</style>\n",
              "<table border=\"1\" class=\"dataframe\">\n",
              "  <thead>\n",
              "    <tr style=\"text-align: right;\">\n",
              "      <th></th>\n",
              "      <th>0</th>\n",
              "      <th>1</th>\n",
              "      <th>2</th>\n",
              "      <th>3</th>\n",
              "    </tr>\n",
              "  </thead>\n",
              "  <tbody>\n",
              "    <tr>\n",
              "      <th>Classificador</th>\n",
              "      <td>Gaussiana Bayesiana</td>\n",
              "      <td>KNN</td>\n",
              "      <td>Regressão Logistica</td>\n",
              "      <td>Janela Parzen</td>\n",
              "    </tr>\n",
              "    <tr>\n",
              "      <th>Limite Superior Taxa de Erro</th>\n",
              "      <td>36.14</td>\n",
              "      <td>13.57</td>\n",
              "      <td>18.26</td>\n",
              "      <td>29.07</td>\n",
              "    </tr>\n",
              "    <tr>\n",
              "      <th>Média Taxa de Erro Validação</th>\n",
              "      <td>31.11</td>\n",
              "      <td>9.75</td>\n",
              "      <td>13.98</td>\n",
              "      <td>26.14</td>\n",
              "    </tr>\n",
              "    <tr>\n",
              "      <th>Limite Inferior Taxa de Erro</th>\n",
              "      <td>26.08</td>\n",
              "      <td>5.93</td>\n",
              "      <td>9.7</td>\n",
              "      <td>23.21</td>\n",
              "    </tr>\n",
              "    <tr>\n",
              "      <th>Taxa de Erro Média Intervalo Validação</th>\n",
              "      <td>5.03</td>\n",
              "      <td>3.82</td>\n",
              "      <td>4.28</td>\n",
              "      <td>2.93</td>\n",
              "    </tr>\n",
              "  </tbody>\n",
              "</table>\n",
              "</div>\n",
              "      <button class=\"colab-df-convert\" onclick=\"convertToInteractive('df-3361b312-42cc-4c40-a5e7-d4f94b93ee6d')\"\n",
              "              title=\"Convert this dataframe to an interactive table.\"\n",
              "              style=\"display:none;\">\n",
              "        \n",
              "  <svg xmlns=\"http://www.w3.org/2000/svg\" height=\"24px\"viewBox=\"0 0 24 24\"\n",
              "       width=\"24px\">\n",
              "    <path d=\"M0 0h24v24H0V0z\" fill=\"none\"/>\n",
              "    <path d=\"M18.56 5.44l.94 2.06.94-2.06 2.06-.94-2.06-.94-.94-2.06-.94 2.06-2.06.94zm-11 1L8.5 8.5l.94-2.06 2.06-.94-2.06-.94L8.5 2.5l-.94 2.06-2.06.94zm10 10l.94 2.06.94-2.06 2.06-.94-2.06-.94-.94-2.06-.94 2.06-2.06.94z\"/><path d=\"M17.41 7.96l-1.37-1.37c-.4-.4-.92-.59-1.43-.59-.52 0-1.04.2-1.43.59L10.3 9.45l-7.72 7.72c-.78.78-.78 2.05 0 2.83L4 21.41c.39.39.9.59 1.41.59.51 0 1.02-.2 1.41-.59l7.78-7.78 2.81-2.81c.8-.78.8-2.07 0-2.86zM5.41 20L4 18.59l7.72-7.72 1.47 1.35L5.41 20z\"/>\n",
              "  </svg>\n",
              "      </button>\n",
              "      \n",
              "  <style>\n",
              "    .colab-df-container {\n",
              "      display:flex;\n",
              "      flex-wrap:wrap;\n",
              "      gap: 12px;\n",
              "    }\n",
              "\n",
              "    .colab-df-convert {\n",
              "      background-color: #E8F0FE;\n",
              "      border: none;\n",
              "      border-radius: 50%;\n",
              "      cursor: pointer;\n",
              "      display: none;\n",
              "      fill: #1967D2;\n",
              "      height: 32px;\n",
              "      padding: 0 0 0 0;\n",
              "      width: 32px;\n",
              "    }\n",
              "\n",
              "    .colab-df-convert:hover {\n",
              "      background-color: #E2EBFA;\n",
              "      box-shadow: 0px 1px 2px rgba(60, 64, 67, 0.3), 0px 1px 3px 1px rgba(60, 64, 67, 0.15);\n",
              "      fill: #174EA6;\n",
              "    }\n",
              "\n",
              "    [theme=dark] .colab-df-convert {\n",
              "      background-color: #3B4455;\n",
              "      fill: #D2E3FC;\n",
              "    }\n",
              "\n",
              "    [theme=dark] .colab-df-convert:hover {\n",
              "      background-color: #434B5C;\n",
              "      box-shadow: 0px 1px 3px 1px rgba(0, 0, 0, 0.15);\n",
              "      filter: drop-shadow(0px 1px 2px rgba(0, 0, 0, 0.3));\n",
              "      fill: #FFFFFF;\n",
              "    }\n",
              "  </style>\n",
              "\n",
              "      <script>\n",
              "        const buttonEl =\n",
              "          document.querySelector('#df-3361b312-42cc-4c40-a5e7-d4f94b93ee6d button.colab-df-convert');\n",
              "        buttonEl.style.display =\n",
              "          google.colab.kernel.accessAllowed ? 'block' : 'none';\n",
              "\n",
              "        async function convertToInteractive(key) {\n",
              "          const element = document.querySelector('#df-3361b312-42cc-4c40-a5e7-d4f94b93ee6d');\n",
              "          const dataTable =\n",
              "            await google.colab.kernel.invokeFunction('convertToInteractive',\n",
              "                                                     [key], {});\n",
              "          if (!dataTable) return;\n",
              "\n",
              "          const docLinkHtml = 'Like what you see? Visit the ' +\n",
              "            '<a target=\"_blank\" href=https://colab.research.google.com/notebooks/data_table.ipynb>data table notebook</a>'\n",
              "            + ' to learn more about interactive tables.';\n",
              "          element.innerHTML = '';\n",
              "          dataTable['output_type'] = 'display_data';\n",
              "          await google.colab.output.renderOutput(dataTable, element);\n",
              "          const docLink = document.createElement('div');\n",
              "          docLink.innerHTML = docLinkHtml;\n",
              "          element.appendChild(docLink);\n",
              "        }\n",
              "      </script>\n",
              "    </div>\n",
              "  </div>\n",
              "  "
            ],
            "text/plain": [
              "                                                          0  ...              3\n",
              "Classificador                           Gaussiana Bayesiana  ...  Janela Parzen\n",
              "Limite Superior Taxa de Erro                          36.14  ...          29.07\n",
              "Média Taxa de Erro Validação                          31.11  ...          26.14\n",
              "Limite Inferior Taxa de Erro                          26.08  ...          23.21\n",
              "Taxa de Erro Média Intervalo Validação                 5.03  ...           2.93\n",
              "\n",
              "[5 rows x 4 columns]"
            ]
          },
          "metadata": {},
          "execution_count": 87
        }
      ]
    },
    {
      "cell_type": "markdown",
      "source": [
        "##### 5.2.2 PRECISÃO"
      ],
      "metadata": {
        "id": "5tcEG5lE9_Zn"
      }
    },
    {
      "cell_type": "code",
      "source": [
        "precision_geral = pd.DataFrame()\n",
        "precision_geral['Gaussiana Bayesiana'] = precision_cv_nb\n",
        "precision_geral['KNN'] = precision_cv_knn\n",
        "precision_geral['Regressão Logistica'] = precision_cv_lr\n",
        "precision_geral['Janela de Parzen'] = precision_cv_kde\n",
        "\n",
        "plt.figure(figsize= (10, 5))\n",
        "sns.histplot(data=precision_geral, kde=True, element='step')\n",
        "plt.ylabel('Frequência')\n",
        "plt.xlabel('Precisão')\n",
        "plt.title('Distribuição da precisão dos modelos')\n",
        "plt.show()"
      ],
      "metadata": {
        "id": "7BkKm15kDC0h",
        "colab": {
          "base_uri": "https://localhost:8080/",
          "height": 350
        },
        "outputId": "177f3d75-9475-4f2b-d904-aecfbb77184a"
      },
      "execution_count": null,
      "outputs": [
        {
          "output_type": "display_data",
          "data": {
            "image/png": "[encoded data removed]",
            "text/plain": [
              "<Figure size 720x360 with 1 Axes>"
            ]
          },
          "metadata": {
            "needs_background": "light"
          }
        }
      ]
    },
    {
      "cell_type": "code",
      "source": [
        "#Calculo de Precisão\n",
        "\n",
        "# Gaussiana Bayesiana\n",
        "precision_mean_nb = round(precision_cv_nb.mean()*100,2)\n",
        "precision_ic_nb = round(1.96*precision_cv_nb.std()*100,2)\n",
        "\n",
        "#Knn\n",
        "precision_mean_knn = round(precision_cv_knn.mean()*100,2)\n",
        "precision_ic_knn = round(1.96*precision_cv_knn.std()*100,2)\n",
        "\n",
        "#Regressão logistica\n",
        "precision_mean_lr = round(precision_cv_lr.mean()*100,2)\n",
        "precision_ic_lr = round(1.96*precision_cv_lr.std()*100,2)\n",
        "\n",
        "# Janela de Parzen\n",
        "precision_mean_kde = round(precision_cv_kde.mean()*100,2)\n",
        "precision_ic_kde = round(1.96*precision_cv_kde.std()*100,2)"
      ],
      "metadata": {
        "id": "f_YirmmwC_qh"
      },
      "execution_count": null,
      "outputs": []
    },
    {
      "cell_type": "code",
      "source": [
        "tabela_precisao = pd.DataFrame()\n",
        "tabela_precisao['Classificador'] = ['Gaussiana Bayesiana','KNN','Regressão Logistica','Janela Parzen']\n",
        "tabela_precisao['Limite Superior Precisão'] = [precision_mean_nb + precision_ic_nb,precision_mean_knn + precision_ic_knn,precision_mean_lr + precision_ic_lr,precision_mean_kde + precision_ic_kde]\n",
        "tabela_precisao['Média Precisão Validação'] = [precision_mean_nb,precision_mean_knn,precision_mean_lr,precision_mean_kde]\n",
        "tabela_precisao['Limite Inferior Precisão'] = [precision_mean_nb - precision_ic_nb,precision_mean_knn - precision_ic_knn,precision_mean_lr - precision_ic_lr,precision_mean_kde - precision_ic_kde]\n",
        "tabela_precisao['Precisão Média Intervalo Validação'] = [precision_ic_nb,precision_ic_knn,precision_ic_lr,precision_ic_kde]"
      ],
      "metadata": {
        "id": "INN-b5X6J1PS"
      },
      "execution_count": null,
      "outputs": []
    },
    {
      "cell_type": "code",
      "source": [
        "tabela_precisao.T"
      ],
      "metadata": {
        "colab": {
          "base_uri": "https://localhost:8080/",
          "height": 206
        },
        "id": "GACl-MOCMGzW",
        "outputId": "d43f9732-858d-49de-c800-b40f6f3520bb"
      },
      "execution_count": null,
      "outputs": [
        {
          "output_type": "execute_result",
          "data": {
            "text/html": [
              "\n",
              "  <div id=\"df-e524414b-023f-44cf-a752-b4139ec89ea2\">\n",
              "    <div class=\"colab-df-container\">\n",
              "      <div>\n",
              "<style scoped>\n",
              "    .dataframe tbody tr th:only-of-type {\n",
              "        vertical-align: middle;\n",
              "    }\n",
              "\n",
              "    .dataframe tbody tr th {\n",
              "        vertical-align: top;\n",
              "    }\n",
              "\n",
              "    .dataframe thead th {\n",
              "        text-align: right;\n",
              "    }\n",
              "</style>\n",
              "<table border=\"1\" class=\"dataframe\">\n",
              "  <thead>\n",
              "    <tr style=\"text-align: right;\">\n",
              "      <th></th>\n",
              "      <th>0</th>\n",
              "      <th>1</th>\n",
              "      <th>2</th>\n",
              "      <th>3</th>\n",
              "    </tr>\n",
              "  </thead>\n",
              "  <tbody>\n",
              "    <tr>\n",
              "      <th>Classificador</th>\n",
              "      <td>Gaussiana Bayesiana</td>\n",
              "      <td>KNN</td>\n",
              "      <td>Regressão Logistica</td>\n",
              "      <td>Janela Parzen</td>\n",
              "    </tr>\n",
              "    <tr>\n",
              "      <th>Limite Superior Precisão</th>\n",
              "      <td>82.98</td>\n",
              "      <td>94.33</td>\n",
              "      <td>90.6</td>\n",
              "      <td>68.94</td>\n",
              "    </tr>\n",
              "    <tr>\n",
              "      <th>Média Precisão Validação</th>\n",
              "      <td>76.67</td>\n",
              "      <td>90.65</td>\n",
              "      <td>86.13</td>\n",
              "      <td>65.19</td>\n",
              "    </tr>\n",
              "    <tr>\n",
              "      <th>Limite Inferior Precisão</th>\n",
              "      <td>70.36</td>\n",
              "      <td>86.97</td>\n",
              "      <td>81.66</td>\n",
              "      <td>61.44</td>\n",
              "    </tr>\n",
              "    <tr>\n",
              "      <th>Precisão Média Intervalo Validação</th>\n",
              "      <td>6.31</td>\n",
              "      <td>3.68</td>\n",
              "      <td>4.47</td>\n",
              "      <td>3.75</td>\n",
              "    </tr>\n",
              "  </tbody>\n",
              "</table>\n",
              "</div>\n",
              "      <button class=\"colab-df-convert\" onclick=\"convertToInteractive('df-e524414b-023f-44cf-a752-b4139ec89ea2')\"\n",
              "              title=\"Convert this dataframe to an interactive table.\"\n",
              "              style=\"display:none;\">\n",
              "        \n",
              "  <svg xmlns=\"http://www.w3.org/2000/svg\" height=\"24px\"viewBox=\"0 0 24 24\"\n",
              "       width=\"24px\">\n",
              "    <path d=\"M0 0h24v24H0V0z\" fill=\"none\"/>\n",
              "    <path d=\"M18.56 5.44l.94 2.06.94-2.06 2.06-.94-2.06-.94-.94-2.06-.94 2.06-2.06.94zm-11 1L8.5 8.5l.94-2.06 2.06-.94-2.06-.94L8.5 2.5l-.94 2.06-2.06.94zm10 10l.94 2.06.94-2.06 2.06-.94-2.06-.94-.94-2.06-.94 2.06-2.06.94z\"/><path d=\"M17.41 7.96l-1.37-1.37c-.4-.4-.92-.59-1.43-.59-.52 0-1.04.2-1.43.59L10.3 9.45l-7.72 7.72c-.78.78-.78 2.05 0 2.83L4 21.41c.39.39.9.59 1.41.59.51 0 1.02-.2 1.41-.59l7.78-7.78 2.81-2.81c.8-.78.8-2.07 0-2.86zM5.41 20L4 18.59l7.72-7.72 1.47 1.35L5.41 20z\"/>\n",
              "  </svg>\n",
              "      </button>\n",
              "      \n",
              "  <style>\n",
              "    .colab-df-container {\n",
              "      display:flex;\n",
              "      flex-wrap:wrap;\n",
              "      gap: 12px;\n",
              "    }\n",
              "\n",
              "    .colab-df-convert {\n",
              "      background-color: #E8F0FE;\n",
              "      border: none;\n",
              "      border-radius: 50%;\n",
              "      cursor: pointer;\n",
              "      display: none;\n",
              "      fill: #1967D2;\n",
              "      height: 32px;\n",
              "      padding: 0 0 0 0;\n",
              "      width: 32px;\n",
              "    }\n",
              "\n",
              "    .colab-df-convert:hover {\n",
              "      background-color: #E2EBFA;\n",
              "      box-shadow: 0px 1px 2px rgba(60, 64, 67, 0.3), 0px 1px 3px 1px rgba(60, 64, 67, 0.15);\n",
              "      fill: #174EA6;\n",
              "    }\n",
              "\n",
              "    [theme=dark] .colab-df-convert {\n",
              "      background-color: #3B4455;\n",
              "      fill: #D2E3FC;\n",
              "    }\n",
              "\n",
              "    [theme=dark] .colab-df-convert:hover {\n",
              "      background-color: #434B5C;\n",
              "      box-shadow: 0px 1px 3px 1px rgba(0, 0, 0, 0.15);\n",
              "      filter: drop-shadow(0px 1px 2px rgba(0, 0, 0, 0.3));\n",
              "      fill: #FFFFFF;\n",
              "    }\n",
              "  </style>\n",
              "\n",
              "      <script>\n",
              "        const buttonEl =\n",
              "          document.querySelector('#df-e524414b-023f-44cf-a752-b4139ec89ea2 button.colab-df-convert');\n",
              "        buttonEl.style.display =\n",
              "          google.colab.kernel.accessAllowed ? 'block' : 'none';\n",
              "\n",
              "        async function convertToInteractive(key) {\n",
              "          const element = document.querySelector('#df-e524414b-023f-44cf-a752-b4139ec89ea2');\n",
              "          const dataTable =\n",
              "            await google.colab.kernel.invokeFunction('convertToInteractive',\n",
              "                                                     [key], {});\n",
              "          if (!dataTable) return;\n",
              "\n",
              "          const docLinkHtml = 'Like what you see? Visit the ' +\n",
              "            '<a target=\"_blank\" href=https://colab.research.google.com/notebooks/data_table.ipynb>data table notebook</a>'\n",
              "            + ' to learn more about interactive tables.';\n",
              "          element.innerHTML = '';\n",
              "          dataTable['output_type'] = 'display_data';\n",
              "          await google.colab.output.renderOutput(dataTable, element);\n",
              "          const docLink = document.createElement('div');\n",
              "          docLink.innerHTML = docLinkHtml;\n",
              "          element.appendChild(docLink);\n",
              "        }\n",
              "      </script>\n",
              "    </div>\n",
              "  </div>\n",
              "  "
            ],
            "text/plain": [
              "                                                      0  ...              3\n",
              "Classificador                       Gaussiana Bayesiana  ...  Janela Parzen\n",
              "Limite Superior Precisão                          82.98  ...          68.94\n",
              "Média Precisão Validação                          76.67  ...          65.19\n",
              "Limite Inferior Precisão                          70.36  ...          61.44\n",
              "Precisão Média Intervalo Validação                 6.31  ...           3.75\n",
              "\n",
              "[5 rows x 4 columns]"
            ]
          },
          "metadata": {},
          "execution_count": 133
        }
      ]
    },
    {
      "cell_type": "markdown",
      "source": [
        "##### 5.2.3 COBERTURA"
      ],
      "metadata": {
        "id": "PziBz2II-DnK"
      }
    },
    {
      "cell_type": "code",
      "source": [
        "cobertura_geral = pd.DataFrame()\n",
        "cobertura_geral['Gaussiana Bayesiana'] = recall_cv_nb\n",
        "cobertura_geral['KNN'] = recall_cv_knn\n",
        "cobertura_geral['Regressão Logistica'] = recall_cv_lr\n",
        "cobertura_geral['Janela de Parzen'] = recall_cv_kde\n",
        "\n",
        "plt.figure(figsize= (10, 5))\n",
        "sns.histplot(data=cobertura_geral, kde=True, element='step')\n",
        "plt.ylabel('Frequência')\n",
        "plt.xlabel('Cobertura')\n",
        "plt.title('Distribuição da cobertura dos modelos')\n",
        "plt.show()"
      ],
      "metadata": {
        "colab": {
          "base_uri": "https://localhost:8080/",
          "height": 350
        },
        "id": "LDxikgAUDHvy",
        "outputId": "1483d99a-cfa1-41f8-920a-d120f9cc5483"
      },
      "execution_count": null,
      "outputs": [
        {
          "output_type": "display_data",
          "data": {
            "image/png": "[encoded data removed]",
            "text/plain": [
              "<Figure size 720x360 with 1 Axes>"
            ]
          },
          "metadata": {
            "needs_background": "light"
          }
        }
      ]
    },
    {
      "cell_type": "code",
      "source": [
        "#Calculo Cobertura\n",
        "\n",
        "# Gaussiana Bayesiana\n",
        "recall_mean_nb = round(recall_cv_nb.mean()*100,2)\n",
        "recall_ic_nb = round(1.96*recall_cv_nb.std()*100,2)\n",
        "\n",
        "# Knn\n",
        "recall_mean_knn = round(recall_cv_knn.mean()*100,2)\n",
        "recall_ic_knn = round(1.96*recall_cv_knn.std()*100,2)\n",
        "\n",
        "# Regressão logistica\n",
        "recall_mean_lr = round(recall_cv_lr.mean()*100,2)\n",
        "recall_ic_lr = round(1.96*recall_cv_lr.std()*100,2)\n",
        "\n",
        "# Janela de Parzen\n",
        "recall_mean_kde = round(recall_cv_kde.mean()*100,2)\n",
        "recall_ic_kde = round(1.96*recall_cv_kde.std()*100,2)"
      ],
      "metadata": {
        "id": "k8NMZ5Z9DM8q"
      },
      "execution_count": null,
      "outputs": []
    },
    {
      "cell_type": "code",
      "source": [
        "tabela_cobertura = pd.DataFrame()\n",
        "tabela_cobertura['Classificador'] = ['Gaussiana Bayesiana','KNN','Regressão Logistica','Janela Parzen']\n",
        "tabela_cobertura['Limite Superior Cobertura'] = [recall_mean_nb + recall_ic_nb,recall_mean_knn + recall_ic_knn,recall_mean_lr + recall_ic_lr,recall_mean_kde + recall_ic_kde]\n",
        "tabela_cobertura['Média Cobertura Validação'] = [recall_mean_nb,recall_mean_knn,recall_mean_lr,recall_mean_kde]\n",
        "tabela_cobertura['Limite Inferior Cobertura'] = [recall_mean_nb - recall_ic_nb,recall_mean_knn - recall_ic_knn,recall_mean_lr - recall_ic_lr,recall_mean_kde - recall_ic_kde]\n",
        "tabela_cobertura['Cobertura Média Intervalo Validação'] = [recall_ic_nb,recall_ic_knn,recall_ic_lr,recall_ic_kde]"
      ],
      "metadata": {
        "id": "V4W3YifVMgCW"
      },
      "execution_count": null,
      "outputs": []
    },
    {
      "cell_type": "code",
      "source": [
        "tabela_cobertura.T"
      ],
      "metadata": {
        "colab": {
          "base_uri": "https://localhost:8080/",
          "height": 206
        },
        "id": "PmGZQny_NSMX",
        "outputId": "0d116443-0447-48e4-bb89-b370f4802d99"
      },
      "execution_count": null,
      "outputs": [
        {
          "output_type": "execute_result",
          "data": {
            "text/html": [
              "\n",
              "  <div id=\"df-349373df-a8f6-4c6b-a5de-b2e061120dc5\">\n",
              "    <div class=\"colab-df-container\">\n",
              "      <div>\n",
              "<style scoped>\n",
              "    .dataframe tbody tr th:only-of-type {\n",
              "        vertical-align: middle;\n",
              "    }\n",
              "\n",
              "    .dataframe tbody tr th {\n",
              "        vertical-align: top;\n",
              "    }\n",
              "\n",
              "    .dataframe thead th {\n",
              "        text-align: right;\n",
              "    }\n",
              "</style>\n",
              "<table border=\"1\" class=\"dataframe\">\n",
              "  <thead>\n",
              "    <tr style=\"text-align: right;\">\n",
              "      <th></th>\n",
              "      <th>0</th>\n",
              "      <th>1</th>\n",
              "      <th>2</th>\n",
              "      <th>3</th>\n",
              "    </tr>\n",
              "  </thead>\n",
              "  <tbody>\n",
              "    <tr>\n",
              "      <th>Classificador</th>\n",
              "      <td>Gaussiana Bayesiana</td>\n",
              "      <td>KNN</td>\n",
              "      <td>Regressão Logistica</td>\n",
              "      <td>Janela Parzen</td>\n",
              "    </tr>\n",
              "    <tr>\n",
              "      <th>Limite Superior Cobertura</th>\n",
              "      <td>73.92</td>\n",
              "      <td>94.16</td>\n",
              "      <td>90.29</td>\n",
              "      <td>76.71</td>\n",
              "    </tr>\n",
              "    <tr>\n",
              "      <th>Média Cobertura Validação</th>\n",
              "      <td>68.89</td>\n",
              "      <td>90.34</td>\n",
              "      <td>86.02</td>\n",
              "      <td>73.89</td>\n",
              "    </tr>\n",
              "    <tr>\n",
              "      <th>Limite Inferior Cobertura</th>\n",
              "      <td>63.86</td>\n",
              "      <td>86.52</td>\n",
              "      <td>81.75</td>\n",
              "      <td>71.07</td>\n",
              "    </tr>\n",
              "    <tr>\n",
              "      <th>Cobertura Média Intervalo Validação</th>\n",
              "      <td>5.03</td>\n",
              "      <td>3.82</td>\n",
              "      <td>4.27</td>\n",
              "      <td>2.82</td>\n",
              "    </tr>\n",
              "  </tbody>\n",
              "</table>\n",
              "</div>\n",
              "      <button class=\"colab-df-convert\" onclick=\"convertToInteractive('df-349373df-a8f6-4c6b-a5de-b2e061120dc5')\"\n",
              "              title=\"Convert this dataframe to an interactive table.\"\n",
              "              style=\"display:none;\">\n",
              "        \n",
              "  <svg xmlns=\"http://www.w3.org/2000/svg\" height=\"24px\"viewBox=\"0 0 24 24\"\n",
              "       width=\"24px\">\n",
              "    <path d=\"M0 0h24v24H0V0z\" fill=\"none\"/>\n",
              "    <path d=\"M18.56 5.44l.94 2.06.94-2.06 2.06-.94-2.06-.94-.94-2.06-.94 2.06-2.06.94zm-11 1L8.5 8.5l.94-2.06 2.06-.94-2.06-.94L8.5 2.5l-.94 2.06-2.06.94zm10 10l.94 2.06.94-2.06 2.06-.94-2.06-.94-.94-2.06-.94 2.06-2.06.94z\"/><path d=\"M17.41 7.96l-1.37-1.37c-.4-.4-.92-.59-1.43-.59-.52 0-1.04.2-1.43.59L10.3 9.45l-7.72 7.72c-.78.78-.78 2.05 0 2.83L4 21.41c.39.39.9.59 1.41.59.51 0 1.02-.2 1.41-.59l7.78-7.78 2.81-2.81c.8-.78.8-2.07 0-2.86zM5.41 20L4 18.59l7.72-7.72 1.47 1.35L5.41 20z\"/>\n",
              "  </svg>\n",
              "      </button>\n",
              "      \n",
              "  <style>\n",
              "    .colab-df-container {\n",
              "      display:flex;\n",
              "      flex-wrap:wrap;\n",
              "      gap: 12px;\n",
              "    }\n",
              "\n",
              "    .colab-df-convert {\n",
              "      background-color: #E8F0FE;\n",
              "      border: none;\n",
              "      border-radius: 50%;\n",
              "      cursor: pointer;\n",
              "      display: none;\n",
              "      fill: #1967D2;\n",
              "      height: 32px;\n",
              "      padding: 0 0 0 0;\n",
              "      width: 32px;\n",
              "    }\n",
              "\n",
              "    .colab-df-convert:hover {\n",
              "      background-color: #E2EBFA;\n",
              "      box-shadow: 0px 1px 2px rgba(60, 64, 67, 0.3), 0px 1px 3px 1px rgba(60, 64, 67, 0.15);\n",
              "      fill: #174EA6;\n",
              "    }\n",
              "\n",
              "    [theme=dark] .colab-df-convert {\n",
              "      background-color: #3B4455;\n",
              "      fill: #D2E3FC;\n",
              "    }\n",
              "\n",
              "    [theme=dark] .colab-df-convert:hover {\n",
              "      background-color: #434B5C;\n",
              "      box-shadow: 0px 1px 3px 1px rgba(0, 0, 0, 0.15);\n",
              "      filter: drop-shadow(0px 1px 2px rgba(0, 0, 0, 0.3));\n",
              "      fill: #FFFFFF;\n",
              "    }\n",
              "  </style>\n",
              "\n",
              "      <script>\n",
              "        const buttonEl =\n",
              "          document.querySelector('#df-349373df-a8f6-4c6b-a5de-b2e061120dc5 button.colab-df-convert');\n",
              "        buttonEl.style.display =\n",
              "          google.colab.kernel.accessAllowed ? 'block' : 'none';\n",
              "\n",
              "        async function convertToInteractive(key) {\n",
              "          const element = document.querySelector('#df-349373df-a8f6-4c6b-a5de-b2e061120dc5');\n",
              "          const dataTable =\n",
              "            await google.colab.kernel.invokeFunction('convertToInteractive',\n",
              "                                                     [key], {});\n",
              "          if (!dataTable) return;\n",
              "\n",
              "          const docLinkHtml = 'Like what you see? Visit the ' +\n",
              "            '<a target=\"_blank\" href=https://colab.research.google.com/notebooks/data_table.ipynb>data table notebook</a>'\n",
              "            + ' to learn more about interactive tables.';\n",
              "          element.innerHTML = '';\n",
              "          dataTable['output_type'] = 'display_data';\n",
              "          await google.colab.output.renderOutput(dataTable, element);\n",
              "          const docLink = document.createElement('div');\n",
              "          docLink.innerHTML = docLinkHtml;\n",
              "          element.appendChild(docLink);\n",
              "        }\n",
              "      </script>\n",
              "    </div>\n",
              "  </div>\n",
              "  "
            ],
            "text/plain": [
              "                                                       0  ...              3\n",
              "Classificador                        Gaussiana Bayesiana  ...  Janela Parzen\n",
              "Limite Superior Cobertura                          73.92  ...          76.71\n",
              "Média Cobertura Validação                          68.89  ...          73.89\n",
              "Limite Inferior Cobertura                          63.86  ...          71.07\n",
              "Cobertura Média Intervalo Validação                 5.03  ...           2.82\n",
              "\n",
              "[5 rows x 4 columns]"
            ]
          },
          "metadata": {},
          "execution_count": 130
        }
      ]
    },
    {
      "cell_type": "markdown",
      "source": [
        "##### 5.2.4 F-MEASURE"
      ],
      "metadata": {
        "id": "R5vr0cz--Hiy"
      }
    },
    {
      "cell_type": "code",
      "source": [
        "f_measure_geral = pd.DataFrame()\n",
        "f_measure_geral['Gaussiana Bayesiana'] = f1_cv_nb\n",
        "f_measure_geral['KNN'] = f1_cv_knn\n",
        "f_measure_geral['Regressão Logistica'] = f1_cv_lr\n",
        "f_measure_geral['Janela de Parzen'] = f1_cv_kde\n",
        "\n",
        "plt.figure(figsize= (10, 5))\n",
        "sns.histplot(data=f_measure_geral, kde=True, element='step')\n",
        "plt.ylabel('Frequência')\n",
        "plt.xlabel('F-Measure')\n",
        "plt.title('Distribuição da F-Measure dos modelos')\n",
        "plt.show()"
      ],
      "metadata": {
        "colab": {
          "base_uri": "https://localhost:8080/",
          "height": 350
        },
        "id": "9vnXvzVf1TrF",
        "outputId": "16fc62e9-856e-4195-8211-8d44bd06819c"
      },
      "execution_count": null,
      "outputs": [
        {
          "output_type": "display_data",
          "data": {
            "image/png": "[encoded data removed]",
            "text/plain": [
              "<Figure size 720x360 with 1 Axes>"
            ]
          },
          "metadata": {
            "needs_background": "light"
          }
        }
      ]
    },
    {
      "cell_type": "code",
      "source": [
        "#Calculo de F-measure\n",
        "\n",
        "# Gaussiana Bayesiana\n",
        "fmeasure_mean_nb = round(f1_cv_nb.mean()*100,2)\n",
        "fmeasure_ic_nb = round(1.96*f1_cv_nb.std()*100,2)\n",
        "\n",
        "# Knn\n",
        "fmeasure_mean_knn = round(f1_cv_knn.mean()*100,2)\n",
        "fmeasure_ic_knn = round(1.96*f1_cv_knn.std()*100,2)\n",
        "\n",
        "# Regressão logistica\n",
        "fmeasure_mean_lr = round(f1_cv_lr.mean()*100,2)\n",
        "fmeasure_ic_lr = round(1.96*f1_cv_lr.std()*100,2)\n",
        "\n",
        "# Janela de Parzen\n",
        "fmeasure_mean_kde = round(f1_cv_kde.mean()*100,2)\n",
        "fmeasure_ic_kde = round(1.96*f1_cv_kde.std()*100,2)"
      ],
      "metadata": {
        "id": "Gluh82KGC0Qx"
      },
      "execution_count": null,
      "outputs": []
    },
    {
      "cell_type": "code",
      "source": [
        "tabela_f_measure = pd.DataFrame()\n",
        "tabela_f_measure['Classificador'] = ['Gaussiana Bayesiana','KNN','Regressão Logistica','Janela Parzen']\n",
        "tabela_f_measure['Limite Superior F-measure'] = [fmeasure_mean_nb + fmeasure_ic_nb,fmeasure_mean_knn + fmeasure_ic_knn,fmeasure_mean_lr + fmeasure_ic_lr,fmeasure_mean_kde + fmeasure_ic_kde]\n",
        "tabela_f_measure['Média F-measure Validação'] = [fmeasure_mean_nb,fmeasure_mean_knn,fmeasure_mean_lr,fmeasure_mean_kde]\n",
        "tabela_f_measure['Limite Inferior F-measure'] = [fmeasure_mean_nb - fmeasure_ic_nb,fmeasure_mean_knn - fmeasure_ic_knn,fmeasure_mean_lr - fmeasure_ic_lr,fmeasure_mean_kde - fmeasure_ic_kde]\n",
        "tabela_f_measure['F-measure Média Intervalo Validação'] = [fmeasure_ic_nb,fmeasure_ic_knn,fmeasure_ic_lr,fmeasure_ic_kde]"
      ],
      "metadata": {
        "id": "SNBtY1kjQNiQ"
      },
      "execution_count": null,
      "outputs": []
    },
    {
      "cell_type": "code",
      "source": [
        "tabela_f_measure.T"
      ],
      "metadata": {
        "colab": {
          "base_uri": "https://localhost:8080/",
          "height": 206
        },
        "id": "i16hPabVQ6kl",
        "outputId": "985f6534-be96-4110-b51b-ef19c0a9126d"
      },
      "execution_count": null,
      "outputs": [
        {
          "output_type": "execute_result",
          "data": {
            "text/html": [
              "\n",
              "  <div id=\"df-79739a1c-9ba2-4276-ad57-50dd3336169a\">\n",
              "    <div class=\"colab-df-container\">\n",
              "      <div>\n",
              "<style scoped>\n",
              "    .dataframe tbody tr th:only-of-type {\n",
              "        vertical-align: middle;\n",
              "    }\n",
              "\n",
              "    .dataframe tbody tr th {\n",
              "        vertical-align: top;\n",
              "    }\n",
              "\n",
              "    .dataframe thead th {\n",
              "        text-align: right;\n",
              "    }\n",
              "</style>\n",
              "<table border=\"1\" class=\"dataframe\">\n",
              "  <thead>\n",
              "    <tr style=\"text-align: right;\">\n",
              "      <th></th>\n",
              "      <th>0</th>\n",
              "      <th>1</th>\n",
              "      <th>2</th>\n",
              "      <th>3</th>\n",
              "    </tr>\n",
              "  </thead>\n",
              "  <tbody>\n",
              "    <tr>\n",
              "      <th>Classificador</th>\n",
              "      <td>Gaussiana Bayesiana</td>\n",
              "      <td>KNN</td>\n",
              "      <td>Regressão Logistica</td>\n",
              "      <td>Janela Parzen</td>\n",
              "    </tr>\n",
              "    <tr>\n",
              "      <th>Limite Superior F-measure</th>\n",
              "      <td>73.24</td>\n",
              "      <td>94.17</td>\n",
              "      <td>90.17</td>\n",
              "      <td>70.26</td>\n",
              "    </tr>\n",
              "    <tr>\n",
              "      <th>Média F-measure Validação</th>\n",
              "      <td>68.32</td>\n",
              "      <td>90.31</td>\n",
              "      <td>85.76</td>\n",
              "      <td>66.78</td>\n",
              "    </tr>\n",
              "    <tr>\n",
              "      <th>Limite Inferior F-measure</th>\n",
              "      <td>63.4</td>\n",
              "      <td>86.45</td>\n",
              "      <td>81.35</td>\n",
              "      <td>63.3</td>\n",
              "    </tr>\n",
              "    <tr>\n",
              "      <th>F-measure Média Intervalo Validação</th>\n",
              "      <td>4.92</td>\n",
              "      <td>3.86</td>\n",
              "      <td>4.41</td>\n",
              "      <td>3.48</td>\n",
              "    </tr>\n",
              "  </tbody>\n",
              "</table>\n",
              "</div>\n",
              "      <button class=\"colab-df-convert\" onclick=\"convertToInteractive('df-79739a1c-9ba2-4276-ad57-50dd3336169a')\"\n",
              "              title=\"Convert this dataframe to an interactive table.\"\n",
              "              style=\"display:none;\">\n",
              "        \n",
              "  <svg xmlns=\"http://www.w3.org/2000/svg\" height=\"24px\"viewBox=\"0 0 24 24\"\n",
              "       width=\"24px\">\n",
              "    <path d=\"M0 0h24v24H0V0z\" fill=\"none\"/>\n",
              "    <path d=\"M18.56 5.44l.94 2.06.94-2.06 2.06-.94-2.06-.94-.94-2.06-.94 2.06-2.06.94zm-11 1L8.5 8.5l.94-2.06 2.06-.94-2.06-.94L8.5 2.5l-.94 2.06-2.06.94zm10 10l.94 2.06.94-2.06 2.06-.94-2.06-.94-.94-2.06-.94 2.06-2.06.94z\"/><path d=\"M17.41 7.96l-1.37-1.37c-.4-.4-.92-.59-1.43-.59-.52 0-1.04.2-1.43.59L10.3 9.45l-7.72 7.72c-.78.78-.78 2.05 0 2.83L4 21.41c.39.39.9.59 1.41.59.51 0 1.02-.2 1.41-.59l7.78-7.78 2.81-2.81c.8-.78.8-2.07 0-2.86zM5.41 20L4 18.59l7.72-7.72 1.47 1.35L5.41 20z\"/>\n",
              "  </svg>\n",
              "      </button>\n",
              "      \n",
              "  <style>\n",
              "    .colab-df-container {\n",
              "      display:flex;\n",
              "      flex-wrap:wrap;\n",
              "      gap: 12px;\n",
              "    }\n",
              "\n",
              "    .colab-df-convert {\n",
              "      background-color: #E8F0FE;\n",
              "      border: none;\n",
              "      border-radius: 50%;\n",
              "      cursor: pointer;\n",
              "      display: none;\n",
              "      fill: #1967D2;\n",
              "      height: 32px;\n",
              "      padding: 0 0 0 0;\n",
              "      width: 32px;\n",
              "    }\n",
              "\n",
              "    .colab-df-convert:hover {\n",
              "      background-color: #E2EBFA;\n",
              "      box-shadow: 0px 1px 2px rgba(60, 64, 67, 0.3), 0px 1px 3px 1px rgba(60, 64, 67, 0.15);\n",
              "      fill: #174EA6;\n",
              "    }\n",
              "\n",
              "    [theme=dark] .colab-df-convert {\n",
              "      background-color: #3B4455;\n",
              "      fill: #D2E3FC;\n",
              "    }\n",
              "\n",
              "    [theme=dark] .colab-df-convert:hover {\n",
              "      background-color: #434B5C;\n",
              "      box-shadow: 0px 1px 3px 1px rgba(0, 0, 0, 0.15);\n",
              "      filter: drop-shadow(0px 1px 2px rgba(0, 0, 0, 0.3));\n",
              "      fill: #FFFFFF;\n",
              "    }\n",
              "  </style>\n",
              "\n",
              "      <script>\n",
              "        const buttonEl =\n",
              "          document.querySelector('#df-79739a1c-9ba2-4276-ad57-50dd3336169a button.colab-df-convert');\n",
              "        buttonEl.style.display =\n",
              "          google.colab.kernel.accessAllowed ? 'block' : 'none';\n",
              "\n",
              "        async function convertToInteractive(key) {\n",
              "          const element = document.querySelector('#df-79739a1c-9ba2-4276-ad57-50dd3336169a');\n",
              "          const dataTable =\n",
              "            await google.colab.kernel.invokeFunction('convertToInteractive',\n",
              "                                                     [key], {});\n",
              "          if (!dataTable) return;\n",
              "\n",
              "          const docLinkHtml = 'Like what you see? Visit the ' +\n",
              "            '<a target=\"_blank\" href=https://colab.research.google.com/notebooks/data_table.ipynb>data table notebook</a>'\n",
              "            + ' to learn more about interactive tables.';\n",
              "          element.innerHTML = '';\n",
              "          dataTable['output_type'] = 'display_data';\n",
              "          await google.colab.output.renderOutput(dataTable, element);\n",
              "          const docLink = document.createElement('div');\n",
              "          docLink.innerHTML = docLinkHtml;\n",
              "          element.appendChild(docLink);\n",
              "        }\n",
              "      </script>\n",
              "    </div>\n",
              "  </div>\n",
              "  "
            ],
            "text/plain": [
              "                                                       0  ...              3\n",
              "Classificador                        Gaussiana Bayesiana  ...  Janela Parzen\n",
              "Limite Superior F-measure                          73.24  ...          70.26\n",
              "Média F-measure Validação                          68.32  ...          66.78\n",
              "Limite Inferior F-measure                           63.4  ...           63.3\n",
              "F-measure Média Intervalo Validação                 4.92  ...           3.48\n",
              "\n",
              "[5 rows x 4 columns]"
            ]
          },
          "metadata": {},
          "execution_count": 142
        }
      ]
    },
    {
      "cell_type": "markdown",
      "metadata": {
        "id": "jrss-kiYTHJl"
      },
      "source": [
        "### 6 TESTES"
      ]
    },
    {
      "cell_type": "markdown",
      "source": [
        "#### 6.1 FRIEDMAN TESTE"
      ],
      "metadata": {
        "id": "rrWUlrKfSuzG"
      }
    },
    {
      "cell_type": "markdown",
      "source": [
        "###### 6.1.1 DEFINIR HIPOTESES"
      ],
      "metadata": {
        "id": "0Mp2pIuBxm0I"
      }
    },
    {
      "cell_type": "markdown",
      "source": [
        "Hipotese nula:. $H_0$:  A acurácia média de todos os classificadores são iguais.\n",
        "\n",
        "Hipotese alternativa:. $H_1$:  Pelo menos um dos classificadores tem acurácia media diferente dos outros.\n"
      ],
      "metadata": {
        "id": "Dtm9f72X0Ge1"
      }
    },
    {
      "cell_type": "markdown",
      "source": [
        "###### 6.1.2 DEFINIR GRAU DE SIGNIFICANCIA"
      ],
      "metadata": {
        "id": "Ubb1_rXH0JA-"
      }
    },
    {
      "cell_type": "code",
      "source": [
        "confianca = 0.95"
      ],
      "metadata": {
        "id": "OE494rv50GGW"
      },
      "execution_count": null,
      "outputs": []
    },
    {
      "cell_type": "code",
      "source": [
        "alpha = 1 - confianca"
      ],
      "metadata": {
        "id": "Q8W6bjnq1O5D"
      },
      "execution_count": null,
      "outputs": []
    },
    {
      "cell_type": "code",
      "source": [
        "nivel = scipy.stats.chi2.ppf(1-alpha, df=3)"
      ],
      "metadata": {
        "colab": {
          "base_uri": "https://localhost:8080/"
        },
        "id": "X3cZUpbKMrB4",
        "outputId": "ff65b176-4491-4391-9265-af6187b82891"
      },
      "execution_count": null,
      "outputs": [
        {
          "output_type": "execute_result",
          "data": {
            "text/plain": [
              "2.3659738843753377"
            ]
          },
          "metadata": {},
          "execution_count": 195
        }
      ]
    },
    {
      "cell_type": "markdown",
      "source": [
        "###### 6.1.3 APLICAR TESTE"
      ],
      "metadata": {
        "id": "A5S-PL461cTU"
      }
    },
    {
      "cell_type": "code",
      "source": [
        "estatistica_teste, pvalor =scipy.stats.friedmanchisquare(accu_cv_nb,accu_cv_knn,accu_cv_lr,accu_cv_kde)"
      ],
      "metadata": {
        "id": "jOttazTmhj77"
      },
      "execution_count": null,
      "outputs": []
    },
    {
      "cell_type": "markdown",
      "source": [
        "####### 6.3 TESTE P-VALOR"
      ],
      "metadata": {
        "id": "4yBIaNrh3ZoD"
      }
    },
    {
      "cell_type": "code",
      "source": [
        "if pvalor > alpha:\n",
        "    print('Hiposte nula aceita')\n",
        "else:\n",
        "    print('Hipostese nula rejeitada')\n"
      ],
      "metadata": {
        "colab": {
          "base_uri": "https://localhost:8080/"
        },
        "id": "SrveJueW2sK9",
        "outputId": "3e395a0c-a16b-49ee-aa58-fe0fad8c5010"
      },
      "execution_count": null,
      "outputs": [
        {
          "output_type": "stream",
          "name": "stdout",
          "text": [
            "Hipostese nula rejeitada\n"
          ]
        }
      ]
    },
    {
      "cell_type": "markdown",
      "source": [
        "###### 6.1.4 ESTATISTICA DO TESTE"
      ],
      "metadata": {
        "id": "-Ckx0CLq3acS"
      }
    },
    {
      "cell_type": "code",
      "source": [
        "if estatistica_teste > nivel:\n",
        "    print('Hiposte nula aceita')\n",
        "else:\n",
        "    print('Hipostese nula rejeitada')"
      ],
      "metadata": {
        "colab": {
          "base_uri": "https://localhost:8080/"
        },
        "id": "obtiRKR13i-R",
        "outputId": "93f3b11d-4905-42d2-a844-769532f660ae"
      },
      "execution_count": null,
      "outputs": [
        {
          "output_type": "stream",
          "name": "stdout",
          "text": [
            "Hipostese nula rejeitada\n"
          ]
        }
      ]
    },
    {
      "cell_type": "markdown",
      "source": [
        "###### 6.1.5 DECISÃO"
      ],
      "metadata": {
        "id": "12Udkb2f3Xl1"
      }
    },
    {
      "cell_type": "markdown",
      "source": [
        "Os resultados obtidos não dão evidencia sufienciente para aceitar hipotese nula $H_0$."
      ],
      "metadata": {
        "id": "wEvK9EqT30gD"
      }
    },
    {
      "cell_type": "markdown",
      "source": [
        "#### 6.2 NEMENYI TESTE"
      ],
      "metadata": {
        "id": "h81eu7pS5VOQ"
      }
    },
    {
      "cell_type": "code",
      "source": [
        "data = np.array([accu_cv_nb,accu_cv_knn,accu_cv_lr,accu_cv_kde])"
      ],
      "metadata": {
        "id": "kVWLYcZm5Vvk"
      },
      "execution_count": null,
      "outputs": []
    },
    {
      "cell_type": "code",
      "source": [
        "post=sp.posthoc_nemenyi_friedman(data.T)"
      ],
      "metadata": {
        "id": "VeMlcjEO9e8F"
      },
      "execution_count": null,
      "outputs": []
    },
    {
      "cell_type": "code",
      "source": [
        "post"
      ],
      "metadata": {
        "colab": {
          "base_uri": "https://localhost:8080/",
          "height": 175
        },
        "id": "giOy4R2A-xYC",
        "outputId": "de45b921-c6d5-4dfe-ea30-5dbcf88dc25b"
      },
      "execution_count": null,
      "outputs": [
        {
          "output_type": "execute_result",
          "data": {
            "text/html": [
              "\n",
              "  <div id=\"df-48ddd608-9371-4405-8b12-835b2a3710ad\">\n",
              "    <div class=\"colab-df-container\">\n",
              "      <div>\n",
              "<style scoped>\n",
              "    .dataframe tbody tr th:only-of-type {\n",
              "        vertical-align: middle;\n",
              "    }\n",
              "\n",
              "    .dataframe tbody tr th {\n",
              "        vertical-align: top;\n",
              "    }\n",
              "\n",
              "    .dataframe thead th {\n",
              "        text-align: right;\n",
              "    }\n",
              "</style>\n",
              "<table border=\"1\" class=\"dataframe\">\n",
              "  <thead>\n",
              "    <tr style=\"text-align: right;\">\n",
              "      <th></th>\n",
              "      <th>0</th>\n",
              "      <th>1</th>\n",
              "      <th>2</th>\n",
              "      <th>3</th>\n",
              "    </tr>\n",
              "  </thead>\n",
              "  <tbody>\n",
              "    <tr>\n",
              "      <th>0</th>\n",
              "      <td>1.000</td>\n",
              "      <td>0.001</td>\n",
              "      <td>0.001</td>\n",
              "      <td>0.001</td>\n",
              "    </tr>\n",
              "    <tr>\n",
              "      <th>1</th>\n",
              "      <td>0.001</td>\n",
              "      <td>1.000</td>\n",
              "      <td>0.001</td>\n",
              "      <td>0.001</td>\n",
              "    </tr>\n",
              "    <tr>\n",
              "      <th>2</th>\n",
              "      <td>0.001</td>\n",
              "      <td>0.001</td>\n",
              "      <td>1.000</td>\n",
              "      <td>0.001</td>\n",
              "    </tr>\n",
              "    <tr>\n",
              "      <th>3</th>\n",
              "      <td>0.001</td>\n",
              "      <td>0.001</td>\n",
              "      <td>0.001</td>\n",
              "      <td>1.000</td>\n",
              "    </tr>\n",
              "  </tbody>\n",
              "</table>\n",
              "</div>\n",
              "      <button class=\"colab-df-convert\" onclick=\"convertToInteractive('df-48ddd608-9371-4405-8b12-835b2a3710ad')\"\n",
              "              title=\"Convert this dataframe to an interactive table.\"\n",
              "              style=\"display:none;\">\n",
              "        \n",
              "  <svg xmlns=\"http://www.w3.org/2000/svg\" height=\"24px\"viewBox=\"0 0 24 24\"\n",
              "       width=\"24px\">\n",
              "    <path d=\"M0 0h24v24H0V0z\" fill=\"none\"/>\n",
              "    <path d=\"M18.56 5.44l.94 2.06.94-2.06 2.06-.94-2.06-.94-.94-2.06-.94 2.06-2.06.94zm-11 1L8.5 8.5l.94-2.06 2.06-.94-2.06-.94L8.5 2.5l-.94 2.06-2.06.94zm10 10l.94 2.06.94-2.06 2.06-.94-2.06-.94-.94-2.06-.94 2.06-2.06.94z\"/><path d=\"M17.41 7.96l-1.37-1.37c-.4-.4-.92-.59-1.43-.59-.52 0-1.04.2-1.43.59L10.3 9.45l-7.72 7.72c-.78.78-.78 2.05 0 2.83L4 21.41c.39.39.9.59 1.41.59.51 0 1.02-.2 1.41-.59l7.78-7.78 2.81-2.81c.8-.78.8-2.07 0-2.86zM5.41 20L4 18.59l7.72-7.72 1.47 1.35L5.41 20z\"/>\n",
              "  </svg>\n",
              "      </button>\n",
              "      \n",
              "  <style>\n",
              "    .colab-df-container {\n",
              "      display:flex;\n",
              "      flex-wrap:wrap;\n",
              "      gap: 12px;\n",
              "    }\n",
              "\n",
              "    .colab-df-convert {\n",
              "      background-color: #E8F0FE;\n",
              "      border: none;\n",
              "      border-radius: 50%;\n",
              "      cursor: pointer;\n",
              "      display: none;\n",
              "      fill: #1967D2;\n",
              "      height: 32px;\n",
              "      padding: 0 0 0 0;\n",
              "      width: 32px;\n",
              "    }\n",
              "\n",
              "    .colab-df-convert:hover {\n",
              "      background-color: #E2EBFA;\n",
              "      box-shadow: 0px 1px 2px rgba(60, 64, 67, 0.3), 0px 1px 3px 1px rgba(60, 64, 67, 0.15);\n",
              "      fill: #174EA6;\n",
              "    }\n",
              "\n",
              "    [theme=dark] .colab-df-convert {\n",
              "      background-color: #3B4455;\n",
              "      fill: #D2E3FC;\n",
              "    }\n",
              "\n",
              "    [theme=dark] .colab-df-convert:hover {\n",
              "      background-color: #434B5C;\n",
              "      box-shadow: 0px 1px 3px 1px rgba(0, 0, 0, 0.15);\n",
              "      filter: drop-shadow(0px 1px 2px rgba(0, 0, 0, 0.3));\n",
              "      fill: #FFFFFF;\n",
              "    }\n",
              "  </style>\n",
              "\n",
              "      <script>\n",
              "        const buttonEl =\n",
              "          document.querySelector('#df-48ddd608-9371-4405-8b12-835b2a3710ad button.colab-df-convert');\n",
              "        buttonEl.style.display =\n",
              "          google.colab.kernel.accessAllowed ? 'block' : 'none';\n",
              "\n",
              "        async function convertToInteractive(key) {\n",
              "          const element = document.querySelector('#df-48ddd608-9371-4405-8b12-835b2a3710ad');\n",
              "          const dataTable =\n",
              "            await google.colab.kernel.invokeFunction('convertToInteractive',\n",
              "                                                     [key], {});\n",
              "          if (!dataTable) return;\n",
              "\n",
              "          const docLinkHtml = 'Like what you see? Visit the ' +\n",
              "            '<a target=\"_blank\" href=https://colab.research.google.com/notebooks/data_table.ipynb>data table notebook</a>'\n",
              "            + ' to learn more about interactive tables.';\n",
              "          element.innerHTML = '';\n",
              "          dataTable['output_type'] = 'display_data';\n",
              "          await google.colab.output.renderOutput(dataTable, element);\n",
              "          const docLink = document.createElement('div');\n",
              "          docLink.innerHTML = docLinkHtml;\n",
              "          element.appendChild(docLink);\n",
              "        }\n",
              "      </script>\n",
              "    </div>\n",
              "  </div>\n",
              "  "
            ],
            "text/plain": [
              "       0      1      2      3\n",
              "0  1.000  0.001  0.001  0.001\n",
              "1  0.001  1.000  0.001  0.001\n",
              "2  0.001  0.001  1.000  0.001\n",
              "3  0.001  0.001  0.001  1.000"
            ]
          },
          "metadata": {},
          "execution_count": 223
        }
      ]
    },
    {
      "cell_type": "code",
      "source": [
        "for i in range(len(post)):\n",
        "    for j in range(i+1,len(post)):\n",
        "        if post.iloc[i,j]<alpha:\n",
        "            print('Classificadores',i,'e',j,'são diferentes')\n",
        "        else:\n",
        "             print('Classificadores',i,'e',j,'são iguais')\n"
      ],
      "metadata": {
        "colab": {
          "base_uri": "https://localhost:8080/"
        },
        "id": "O5f8IXQz-iTf",
        "outputId": "1f58d6b7-28c0-48aa-aef2-6d486db5497a"
      },
      "execution_count": null,
      "outputs": [
        {
          "output_type": "stream",
          "name": "stdout",
          "text": [
            "Classificadores 0 e 1 são diferentes\n",
            "Classificadores 0 e 2 são diferentes\n",
            "Classificadores 0 e 3 são diferentes\n",
            "Classificadores 1 e 2 são diferentes\n",
            "Classificadores 1 e 3 são diferentes\n",
            "Classificadores 2 e 3 são diferentes\n"
          ]
        }
      ]
    },
    {
      "cell_type": "markdown",
      "source": [
        "Todos os classifiadores tiveram valores de acurácia média"
      ],
      "metadata": {
        "id": "f4l7Gvtw_VwK"
      }
    },
    {
      "cell_type": "code",
      "source": [
        "df_crisp_completo1 = pd.read_csv('df_crisp_completo1_train')\n",
        "df_crisp_completo1"
      ],
      "metadata": {
        "colab": {
          "base_uri": "https://localhost:8080/",
          "height": 423
        },
        "id": "GRuWpzIOs9z0",
        "outputId": "3ede41fa-ae74-4138-b138-98e7a1aee21d"
      },
      "execution_count": null,
      "outputs": [
        {
          "output_type": "execute_result",
          "data": {
            "text/html": [
              "\n",
              "  <div id=\"df-ba7d6e9a-6d60-41b5-a142-38fa18b930a3\">\n",
              "    <div class=\"colab-df-container\">\n",
              "      <div>\n",
              "<style scoped>\n",
              "    .dataframe tbody tr th:only-of-type {\n",
              "        vertical-align: middle;\n",
              "    }\n",
              "\n",
              "    .dataframe tbody tr th {\n",
              "        vertical-align: top;\n",
              "    }\n",
              "\n",
              "    .dataframe thead th {\n",
              "        text-align: right;\n",
              "    }\n",
              "</style>\n",
              "<table border=\"1\" class=\"dataframe\">\n",
              "  <thead>\n",
              "    <tr style=\"text-align: right;\">\n",
              "      <th></th>\n",
              "      <th>0</th>\n",
              "    </tr>\n",
              "  </thead>\n",
              "  <tbody>\n",
              "    <tr>\n",
              "      <th>0</th>\n",
              "      <td>6</td>\n",
              "    </tr>\n",
              "    <tr>\n",
              "      <th>1</th>\n",
              "      <td>6</td>\n",
              "    </tr>\n",
              "    <tr>\n",
              "      <th>2</th>\n",
              "      <td>6</td>\n",
              "    </tr>\n",
              "    <tr>\n",
              "      <th>3</th>\n",
              "      <td>6</td>\n",
              "    </tr>\n",
              "    <tr>\n",
              "      <th>4</th>\n",
              "      <td>6</td>\n",
              "    </tr>\n",
              "    <tr>\n",
              "      <th>...</th>\n",
              "      <td>...</td>\n",
              "    </tr>\n",
              "    <tr>\n",
              "      <th>2095</th>\n",
              "      <td>6</td>\n",
              "    </tr>\n",
              "    <tr>\n",
              "      <th>2096</th>\n",
              "      <td>6</td>\n",
              "    </tr>\n",
              "    <tr>\n",
              "      <th>2097</th>\n",
              "      <td>6</td>\n",
              "    </tr>\n",
              "    <tr>\n",
              "      <th>2098</th>\n",
              "      <td>6</td>\n",
              "    </tr>\n",
              "    <tr>\n",
              "      <th>2099</th>\n",
              "      <td>6</td>\n",
              "    </tr>\n",
              "  </tbody>\n",
              "</table>\n",
              "<p>2100 rows × 1 columns</p>\n",
              "</div>\n",
              "      <button class=\"colab-df-convert\" onclick=\"convertToInteractive('df-ba7d6e9a-6d60-41b5-a142-38fa18b930a3')\"\n",
              "              title=\"Convert this dataframe to an interactive table.\"\n",
              "              style=\"display:none;\">\n",
              "        \n",
              "  <svg xmlns=\"http://www.w3.org/2000/svg\" height=\"24px\"viewBox=\"0 0 24 24\"\n",
              "       width=\"24px\">\n",
              "    <path d=\"M0 0h24v24H0V0z\" fill=\"none\"/>\n",
              "    <path d=\"M18.56 5.44l.94 2.06.94-2.06 2.06-.94-2.06-.94-.94-2.06-.94 2.06-2.06.94zm-11 1L8.5 8.5l.94-2.06 2.06-.94-2.06-.94L8.5 2.5l-.94 2.06-2.06.94zm10 10l.94 2.06.94-2.06 2.06-.94-2.06-.94-.94-2.06-.94 2.06-2.06.94z\"/><path d=\"M17.41 7.96l-1.37-1.37c-.4-.4-.92-.59-1.43-.59-.52 0-1.04.2-1.43.59L10.3 9.45l-7.72 7.72c-.78.78-.78 2.05 0 2.83L4 21.41c.39.39.9.59 1.41.59.51 0 1.02-.2 1.41-.59l7.78-7.78 2.81-2.81c.8-.78.8-2.07 0-2.86zM5.41 20L4 18.59l7.72-7.72 1.47 1.35L5.41 20z\"/>\n",
              "  </svg>\n",
              "      </button>\n",
              "      \n",
              "  <style>\n",
              "    .colab-df-container {\n",
              "      display:flex;\n",
              "      flex-wrap:wrap;\n",
              "      gap: 12px;\n",
              "    }\n",
              "\n",
              "    .colab-df-convert {\n",
              "      background-color: #E8F0FE;\n",
              "      border: none;\n",
              "      border-radius: 50%;\n",
              "      cursor: pointer;\n",
              "      display: none;\n",
              "      fill: #1967D2;\n",
              "      height: 32px;\n",
              "      padding: 0 0 0 0;\n",
              "      width: 32px;\n",
              "    }\n",
              "\n",
              "    .colab-df-convert:hover {\n",
              "      background-color: #E2EBFA;\n",
              "      box-shadow: 0px 1px 2px rgba(60, 64, 67, 0.3), 0px 1px 3px 1px rgba(60, 64, 67, 0.15);\n",
              "      fill: #174EA6;\n",
              "    }\n",
              "\n",
              "    [theme=dark] .colab-df-convert {\n",
              "      background-color: #3B4455;\n",
              "      fill: #D2E3FC;\n",
              "    }\n",
              "\n",
              "    [theme=dark] .colab-df-convert:hover {\n",
              "      background-color: #434B5C;\n",
              "      box-shadow: 0px 1px 3px 1px rgba(0, 0, 0, 0.15);\n",
              "      filter: drop-shadow(0px 1px 2px rgba(0, 0, 0, 0.3));\n",
              "      fill: #FFFFFF;\n",
              "    }\n",
              "  </style>\n",
              "\n",
              "      <script>\n",
              "        const buttonEl =\n",
              "          document.querySelector('#df-ba7d6e9a-6d60-41b5-a142-38fa18b930a3 button.colab-df-convert');\n",
              "        buttonEl.style.display =\n",
              "          google.colab.kernel.accessAllowed ? 'block' : 'none';\n",
              "\n",
              "        async function convertToInteractive(key) {\n",
              "          const element = document.querySelector('#df-ba7d6e9a-6d60-41b5-a142-38fa18b930a3');\n",
              "          const dataTable =\n",
              "            await google.colab.kernel.invokeFunction('convertToInteractive',\n",
              "                                                     [key], {});\n",
              "          if (!dataTable) return;\n",
              "\n",
              "          const docLinkHtml = 'Like what you see? Visit the ' +\n",
              "            '<a target=\"_blank\" href=https://colab.research.google.com/notebooks/data_table.ipynb>data table notebook</a>'\n",
              "            + ' to learn more about interactive tables.';\n",
              "          element.innerHTML = '';\n",
              "          dataTable['output_type'] = 'display_data';\n",
              "          await google.colab.output.renderOutput(dataTable, element);\n",
              "          const docLink = document.createElement('div');\n",
              "          docLink.innerHTML = docLinkHtml;\n",
              "          element.appendChild(docLink);\n",
              "        }\n",
              "      </script>\n",
              "    </div>\n",
              "  </div>\n",
              "  "
            ],
            "text/plain": [
              "      0\n",
              "0     6\n",
              "1     6\n",
              "2     6\n",
              "3     6\n",
              "4     6\n",
              "...  ..\n",
              "2095  6\n",
              "2096  6\n",
              "2097  6\n",
              "2098  6\n",
              "2099  6\n",
              "\n",
              "[2100 rows x 1 columns]"
            ]
          },
          "metadata": {},
          "execution_count": 13
        }
      ]
    },
    {
      "cell_type": "code",
      "source": [],
      "metadata": {
        "id": "r0216SvUtZ-c"
      },
      "execution_count": null,
      "outputs": []
    }
  ],
  "metadata": {
    "colab": {
      "collapsed_sections": [
        "tVEHK4Hh06if",
        "UrsaH87q56Sx",
        "498aPfvP6YAH",
        "OPhJA5WB6bSZ",
        "Hf6d0V3Z6CUc",
        "ypVtSZVWTYq9",
        "8uoIXfxwTmDI",
        "pBmvpcCdTWHE",
        "nIHqidc9ULGO",
        "aYcBeMdvUeow",
        "On2o8ikp1Xzr",
        "Yd3hOwm1rzRA",
        "qGanGqHDfZQB",
        "WPmWknX6fg08",
        "jPcDcTMEYTLo",
        "dI0qJJIzrbbH",
        "M4QL0eS2ZVc8",
        "FNuFobNFz9cY",
        "2LOIjabLzjsl",
        "T9M4jRdTVpH4",
        "w7kkP3pDw9Ao",
        "q_t_Z9M089x9",
        "czXH0M5rc41y",
        "bTuiZIXgXgyX",
        "Ubb1_rXH0JA-",
        "A5S-PL461cTU",
        "-Ckx0CLq3acS",
        "h81eu7pS5VOQ"
      ],
      "provenance": [],
      "toc_visible": true
    },
    "kernelspec": {
      "display_name": "Python 3",
      "name": "python3"
    },
    "language_info": {
      "name": "python"
    }
  },
  "nbformat": 4,
  "nbformat_minor": 0
}